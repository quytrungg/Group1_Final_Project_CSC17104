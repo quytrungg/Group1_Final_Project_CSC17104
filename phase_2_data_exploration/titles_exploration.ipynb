{
 "cells": [
  {
   "attachments": {},
   "cell_type": "markdown",
   "metadata": {},
   "source": [
    "# **GIAI ĐOẠN 2: TIỀN XỬ LÝ VÀ KHÁM PHÁ DỮ LIỆU**\n",
    "---"
   ]
  },
  {
   "attachments": {},
   "cell_type": "markdown",
   "metadata": {},
   "source": [
    "## <p style=\"text-align: center;\">**Phần 1 - Nạp các thư viện cần thiết** <a name=\"answer-the-question\"></a></p> "
   ]
  },
  {
   "attachments": {},
   "cell_type": "markdown",
   "metadata": {},
   "source": [
    "Cài đặt thêm thư viện ipynb để có thể import các variable từ các file notebook khác"
   ]
  },
  {
   "cell_type": "code",
   "execution_count": 1,
   "metadata": {},
   "outputs": [
    {
     "name": "stdout",
     "output_type": "stream",
     "text": [
      "Requirement already satisfied: ipynb in /Users/quytrungg/.pyenv/versions/3.10.6/lib/python3.10/site-packages (0.5.1)\n"
     ]
    }
   ],
   "source": [
    "! pip install ipynb"
   ]
  },
  {
   "attachments": {},
   "cell_type": "markdown",
   "metadata": {},
   "source": [
    "Thư viện thêm đường dẫn ở pha 1 vào jupyter notebook ở pha 2 để tiện lấy biến đã được tạo từ trước."
   ]
  },
  {
   "cell_type": "code",
   "execution_count": 2,
   "metadata": {},
   "outputs": [],
   "source": [
    "import sys  \n",
    "sys.path.insert(0, '../phase_1_data_collection')"
   ]
  },
  {
   "attachments": {},
   "cell_type": "markdown",
   "metadata": {},
   "source": [
    "Các thư viện dùng để xử lý trên tập dữ liệu, trực quan dữ liệu, thao tác trên dữ liệu: "
   ]
  },
  {
   "cell_type": "code",
   "execution_count": 3,
   "metadata": {},
   "outputs": [],
   "source": [
    "import pandas as pd\n",
    "import numpy as np\n",
    "import matplotlib.pyplot as plt\n",
    "from ipynb.fs.full.data_collection import df_titles_raw\n",
    "\n",
    "pd.set_option('mode.chained_assignment', None)"
   ]
  },
  {
   "attachments": {},
   "cell_type": "markdown",
   "metadata": {},
   "source": [
    "---\n",
    "## <p style=\"text-align: center;\">**Phần 2 - Khám phá và tiền xử lý dữ liệu** <a name=\"answer-the-question\"></a></p> \n",
    "\n",
    "### <p style=\"text-align: center;\">**2.1 - Số hàng và cột của dữ liệu:**</p>  \n"
   ]
  },
  {
   "attachments": {},
   "cell_type": "markdown",
   "metadata": {},
   "source": [
    "Trước khi làm việc trên toàn bộ tập dữ liệu thì đầu tiên nhóm em kiểm tra số dòng và số cột ban đầu của dữ liệu đó.\n",
    "\n",
    "Số hàng và cột của dữ liệu được lưu lần lượt vào biến `num_rows` và `num_columns`."
   ]
  },
  {
   "cell_type": "code",
   "execution_count": 4,
   "metadata": {},
   "outputs": [
    {
     "name": "stdout",
     "output_type": "stream",
     "text": [
      "Số hàng của dữ liệu titles:  19015\n",
      "Số cột của dữ liệu titles:  15\n"
     ]
    }
   ],
   "source": [
    "num_rows, num_cols = df_titles_raw.shape\n",
    "\n",
    "print(\"Số hàng của dữ liệu titles: \", num_rows) \n",
    "print(\"Số cột của dữ liệu titles: \", num_cols)"
   ]
  },
  {
   "attachments": {},
   "cell_type": "markdown",
   "metadata": {},
   "source": [
    "### <p style=\"text-align: center;\">**2.2 - Ý nghĩa của mỗi cột và mỗi hàng:**</p>  \n",
    "\n",
    "Khái quát về bộ dữ liệu titles: Tittles có được từ việc gắn các bảng dữ liệu phim HBO, Amazon, Netflix với nhau. Vì vậy, nguồn gốc của Tittles chính là nguồn gốc của các bảng dữ liệu con, tất cả chúng được lấy từ trang JustWatch. Nhiệm vụ của bảng dữ liệu tittles này là thể hiện những thông tin chính của phim cũng như điểm đánh giá của chúng trên các diễn đàn chấm điểm phim uy tín trên thế giới.\n",
    "\n",
    "Để có cái nhìn khái quát về dữ liệu thì đầu tiên, nhóm em phải xem sơ qua về 5 dòng đầu tiên cùng các thuộc tính chính của nguyên bộ dữ liệu credits:"
   ]
  },
  {
   "cell_type": "code",
   "execution_count": 5,
   "metadata": {},
   "outputs": [
    {
     "data": {
      "text/html": [
       "<div>\n",
       "<style scoped>\n",
       "    .dataframe tbody tr th:only-of-type {\n",
       "        vertical-align: middle;\n",
       "    }\n",
       "\n",
       "    .dataframe tbody tr th {\n",
       "        vertical-align: top;\n",
       "    }\n",
       "\n",
       "    .dataframe thead th {\n",
       "        text-align: right;\n",
       "    }\n",
       "</style>\n",
       "<table border=\"1\" class=\"dataframe\">\n",
       "  <thead>\n",
       "    <tr style=\"text-align: right;\">\n",
       "      <th></th>\n",
       "      <th>id</th>\n",
       "      <th>title</th>\n",
       "      <th>type</th>\n",
       "      <th>description</th>\n",
       "      <th>release_year</th>\n",
       "      <th>age_certification</th>\n",
       "      <th>runtime</th>\n",
       "      <th>genres</th>\n",
       "      <th>production_countries</th>\n",
       "      <th>seasons</th>\n",
       "      <th>imdb_id</th>\n",
       "      <th>imdb_score</th>\n",
       "      <th>imdb_votes</th>\n",
       "      <th>tmdb_popularity</th>\n",
       "      <th>tmdb_score</th>\n",
       "    </tr>\n",
       "  </thead>\n",
       "  <tbody>\n",
       "    <tr>\n",
       "      <th>0</th>\n",
       "      <td>ts20945</td>\n",
       "      <td>The Three Stooges</td>\n",
       "      <td>SHOW</td>\n",
       "      <td>The Three Stooges were an American vaudeville ...</td>\n",
       "      <td>1934</td>\n",
       "      <td>TV-PG</td>\n",
       "      <td>19</td>\n",
       "      <td>['comedy', 'family', 'animation', 'action', 'f...</td>\n",
       "      <td>['US']</td>\n",
       "      <td>26.0</td>\n",
       "      <td>tt0850645</td>\n",
       "      <td>8.6</td>\n",
       "      <td>1092.0</td>\n",
       "      <td>15.424</td>\n",
       "      <td>7.6</td>\n",
       "    </tr>\n",
       "    <tr>\n",
       "      <th>1</th>\n",
       "      <td>tm19248</td>\n",
       "      <td>The General</td>\n",
       "      <td>MOVIE</td>\n",
       "      <td>During America’s Civil War, Union spies steal ...</td>\n",
       "      <td>1926</td>\n",
       "      <td>NaN</td>\n",
       "      <td>78</td>\n",
       "      <td>['action', 'drama', 'war', 'western', 'comedy'...</td>\n",
       "      <td>['US']</td>\n",
       "      <td>NaN</td>\n",
       "      <td>tt0017925</td>\n",
       "      <td>8.2</td>\n",
       "      <td>89766.0</td>\n",
       "      <td>8.647</td>\n",
       "      <td>8.0</td>\n",
       "    </tr>\n",
       "    <tr>\n",
       "      <th>2</th>\n",
       "      <td>tm82253</td>\n",
       "      <td>The Best Years of Our Lives</td>\n",
       "      <td>MOVIE</td>\n",
       "      <td>It's the hope that sustains the spirit of ever...</td>\n",
       "      <td>1946</td>\n",
       "      <td>NaN</td>\n",
       "      <td>171</td>\n",
       "      <td>['romance', 'war', 'drama']</td>\n",
       "      <td>['US']</td>\n",
       "      <td>NaN</td>\n",
       "      <td>tt0036868</td>\n",
       "      <td>8.1</td>\n",
       "      <td>63026.0</td>\n",
       "      <td>8.435</td>\n",
       "      <td>7.8</td>\n",
       "    </tr>\n",
       "    <tr>\n",
       "      <th>3</th>\n",
       "      <td>tm83884</td>\n",
       "      <td>His Girl Friday</td>\n",
       "      <td>MOVIE</td>\n",
       "      <td>Hildy, the journalist former wife of newspaper...</td>\n",
       "      <td>1940</td>\n",
       "      <td>NaN</td>\n",
       "      <td>92</td>\n",
       "      <td>['comedy', 'drama', 'romance']</td>\n",
       "      <td>['US']</td>\n",
       "      <td>NaN</td>\n",
       "      <td>tt0032599</td>\n",
       "      <td>7.8</td>\n",
       "      <td>57835.0</td>\n",
       "      <td>11.270</td>\n",
       "      <td>7.4</td>\n",
       "    </tr>\n",
       "    <tr>\n",
       "      <th>4</th>\n",
       "      <td>tm56584</td>\n",
       "      <td>In a Lonely Place</td>\n",
       "      <td>MOVIE</td>\n",
       "      <td>An aspiring actress begins to suspect that her...</td>\n",
       "      <td>1950</td>\n",
       "      <td>NaN</td>\n",
       "      <td>94</td>\n",
       "      <td>['thriller', 'drama', 'romance']</td>\n",
       "      <td>['US']</td>\n",
       "      <td>NaN</td>\n",
       "      <td>tt0042593</td>\n",
       "      <td>7.9</td>\n",
       "      <td>30924.0</td>\n",
       "      <td>8.273</td>\n",
       "      <td>7.6</td>\n",
       "    </tr>\n",
       "  </tbody>\n",
       "</table>\n",
       "</div>"
      ],
      "text/plain": [
       "        id                        title   type  \\\n",
       "0  ts20945            The Three Stooges   SHOW   \n",
       "1  tm19248                  The General  MOVIE   \n",
       "2  tm82253  The Best Years of Our Lives  MOVIE   \n",
       "3  tm83884              His Girl Friday  MOVIE   \n",
       "4  tm56584            In a Lonely Place  MOVIE   \n",
       "\n",
       "                                         description  release_year  \\\n",
       "0  The Three Stooges were an American vaudeville ...          1934   \n",
       "1  During America’s Civil War, Union spies steal ...          1926   \n",
       "2  It's the hope that sustains the spirit of ever...          1946   \n",
       "3  Hildy, the journalist former wife of newspaper...          1940   \n",
       "4  An aspiring actress begins to suspect that her...          1950   \n",
       "\n",
       "  age_certification  runtime  \\\n",
       "0             TV-PG       19   \n",
       "1               NaN       78   \n",
       "2               NaN      171   \n",
       "3               NaN       92   \n",
       "4               NaN       94   \n",
       "\n",
       "                                              genres production_countries  \\\n",
       "0  ['comedy', 'family', 'animation', 'action', 'f...               ['US']   \n",
       "1  ['action', 'drama', 'war', 'western', 'comedy'...               ['US']   \n",
       "2                        ['romance', 'war', 'drama']               ['US']   \n",
       "3                     ['comedy', 'drama', 'romance']               ['US']   \n",
       "4                   ['thriller', 'drama', 'romance']               ['US']   \n",
       "\n",
       "   seasons    imdb_id  imdb_score  imdb_votes  tmdb_popularity  tmdb_score  \n",
       "0     26.0  tt0850645         8.6      1092.0           15.424         7.6  \n",
       "1      NaN  tt0017925         8.2     89766.0            8.647         8.0  \n",
       "2      NaN  tt0036868         8.1     63026.0            8.435         7.8  \n",
       "3      NaN  tt0032599         7.8     57835.0           11.270         7.4  \n",
       "4      NaN  tt0042593         7.9     30924.0            8.273         7.6  "
      ]
     },
     "execution_count": 5,
     "metadata": {},
     "output_type": "execute_result"
    }
   ],
   "source": [
    "df_titles_raw.head()"
   ]
  },
  {
   "attachments": {},
   "cell_type": "markdown",
   "metadata": {},
   "source": [
    "Có khá nhiều cột (thuộc tính) trong bảng, để rõ ràng, nhóm em lấy các thuộc tính đó ra và phân tích lần lượt nó dùng để chỉ ra điều gì:"
   ]
  },
  {
   "cell_type": "code",
   "execution_count": 6,
   "metadata": {},
   "outputs": [
    {
     "data": {
      "text/plain": [
       "Index(['id', 'title', 'type', 'description', 'release_year',\n",
       "       'age_certification', 'runtime', 'genres', 'production_countries',\n",
       "       'seasons', 'imdb_id', 'imdb_score', 'imdb_votes', 'tmdb_popularity',\n",
       "       'tmdb_score'],\n",
       "      dtype='object')"
      ]
     },
     "execution_count": 6,
     "metadata": {},
     "output_type": "execute_result"
    }
   ],
   "source": [
    "columns = df_titles_raw.columns\n",
    "columns"
   ]
  },
  {
   "attachments": {},
   "cell_type": "markdown",
   "metadata": {},
   "source": [
    "- **id**: Mã số ID của phim trên JustWatch\n",
    "- **title**: Tên của phim.\n",
    "- **type**: Phân loại phim hay chương trình truyền hình. \n",
    "- **description**: Mô tả ngắn về phim.\n",
    "- **release_year**: Năm phát hành phim.\n",
    "- **age_certification**: Phân loại độ tuổi.\n",
    "- **runtime**: Thời lượng của phim hay show.\n",
    "- **genres**: Danh sách các thể loại.\n",
    "- **production_countries**: Danh sách các quốc gia tham gia sản xuất phim.\n",
    "- **seasons**: Số mùa của một show.\n",
    "- **imdb_id**: Phim ID trên IMDB.\n",
    "- **imdb_score**: Điểm trên IMDB.\n",
    "- **imdb_votes**: Số lượt bình chọn trên IMDB.\n",
    "- **tmdb_popularity**: Độ phổ biến trên TMDB.\n",
    "- **tmdb_scores**: Điểm trên TMDB."
   ]
  },
  {
   "attachments": {},
   "cell_type": "markdown",
   "metadata": {},
   "source": [
    "### <p style=\"text-align: center;\">**2.3 - Về việc trùng lặp các hàng:**</p>  \n",
    "\n",
    "Kiểm tra việc trùng lặp dữ liệu sẽ giảm thiểu được các vấn đề tiềm ẩn như là: lãng phí tài nguyên lưu trữ, bộ dữ liệu trở nên bị nhiễu, gây ra các nhầm lẫn... \n",
    "\n",
    "Để phân tích dữ liệu được rõ ràng và chính xác hơn, nhóm tiến hành đếm bộ dữ liệu có bao nhiêu hàng trùng lắp (lưu vào biến `num_duplicate_data`) và xóa những hàng đó đi bằng các hàm của pandas."
   ]
  },
  {
   "cell_type": "code",
   "execution_count": 7,
   "metadata": {},
   "outputs": [
    {
     "name": "stdout",
     "output_type": "stream",
     "text": [
      "Số dòng trùng lặp trong dataset là 35 dòng\n"
     ]
    }
   ],
   "source": [
    "num_duplicate_data = df_titles_raw.duplicated().sum()\n",
    "print(f'Số dòng trùng lặp trong dataset là {num_duplicate_data} dòng')"
   ]
  },
  {
   "attachments": {},
   "cell_type": "markdown",
   "metadata": {},
   "source": [
    "---\n",
    "**TIỀN XỬ LÝ DỮ LIỆU**: XÓA CÁC HÀNG TRÙNG"
   ]
  },
  {
   "cell_type": "code",
   "execution_count": 8,
   "metadata": {},
   "outputs": [
    {
     "name": "stdout",
     "output_type": "stream",
     "text": [
      "Số hàng mới đã lọc trùng:  18980\n"
     ]
    }
   ],
   "source": [
    "df_titles = df_titles_raw.drop_duplicates()\n",
    "num_cols_new, _ = df_titles.shape\n",
    "\n",
    "print(\"Số hàng mới đã lọc trùng: \", num_cols_new)"
   ]
  },
  {
   "attachments": {},
   "cell_type": "markdown",
   "metadata": {},
   "source": [
    "### <p style=\"text-align: center;\">**2.4 - Kiểu dữ liệu mỗi cột:**</p>  \n",
    "Việc lựa chọn kiểu dữ liệu phù hợp sẽ làm cho các tác vụ phân tích tránh bị lỗi, dễ dàng, lựa chọn các hàm và thư viện phù hợp để xử lý được nó.\n",
    "\n",
    "Trước khi tiến hành tiền xử lý, sử dụng hàm `open_object_dtype(s)` để lấy ra kiểu dữ liệu thực sự mà các cột đang chứa:"
   ]
  },
  {
   "cell_type": "code",
   "execution_count": 9,
   "metadata": {},
   "outputs": [],
   "source": [
    "# Sử dụng hàm aply để lấy kiểu dữ liệu thực sự:\n",
    "def open_object_dtype(s):\n",
    "    dtypes = set()\n",
    "    \n",
    "    func = lambda e: dtypes.add(type(e))\n",
    "    s.apply(func)\n",
    "    \n",
    "    return dtypes"
   ]
  },
  {
   "attachments": {},
   "cell_type": "markdown",
   "metadata": {},
   "source": [
    "Kiểu dữ liệu mong muốn dựa trên bộ dữ liệu hiện tại:"
   ]
  },
  {
   "cell_type": "code",
   "execution_count": 10,
   "metadata": {},
   "outputs": [
    {
     "name": "stdout",
     "output_type": "stream",
     "text": [
      "id                   {<class 'str'>}\n",
      "title                {<class 'float'>, <class 'str'>}\n",
      "type                 {<class 'str'>}\n",
      "description          {<class 'float'>, <class 'str'>}\n",
      "release_year         {<class 'int'>}\n",
      "age_certification    {<class 'float'>, <class 'str'>}\n",
      "runtime              {<class 'int'>}\n",
      "genres               {<class 'str'>}\n",
      "production_countries {<class 'str'>}\n",
      "seasons              {<class 'float'>}\n",
      "imdb_id              {<class 'float'>, <class 'str'>}\n",
      "imdb_score           {<class 'float'>}\n",
      "imdb_votes           {<class 'float'>}\n",
      "tmdb_popularity      {<class 'float'>}\n",
      "tmdb_score           {<class 'float'>}\n"
     ]
    }
   ],
   "source": [
    "df_titles_column = df_titles.columns.to_list() \n",
    "for col in df_titles_column:\n",
    "    print(f'{col:<20}', open_object_dtype(df_titles[col]))"
   ]
  },
  {
   "attachments": {},
   "cell_type": "markdown",
   "metadata": {},
   "source": [
    "Xuất ra kiểu dữ liệu lúc chưa xử lý:"
   ]
  },
  {
   "cell_type": "code",
   "execution_count": 11,
   "metadata": {},
   "outputs": [
    {
     "data": {
      "text/plain": [
       "id                       object\n",
       "title                    object\n",
       "type                     object\n",
       "description              object\n",
       "release_year              int64\n",
       "age_certification        object\n",
       "runtime                   int64\n",
       "genres                   object\n",
       "production_countries     object\n",
       "seasons                 float64\n",
       "imdb_id                  object\n",
       "imdb_score              float64\n",
       "imdb_votes              float64\n",
       "tmdb_popularity         float64\n",
       "tmdb_score              float64\n",
       "dtype: object"
      ]
     },
     "execution_count": 11,
     "metadata": {},
     "output_type": "execute_result"
    }
   ],
   "source": [
    "dtypes = df_titles.dtypes\n",
    "dtypes"
   ]
  },
  {
   "attachments": {},
   "cell_type": "markdown",
   "metadata": {},
   "source": [
    "Như vậy, dựa vào kết quả trả ra của hàm trên, nhóm em thấy kỳ vọng về kiểu dữ liệu mong muốn khớp hoàn toàn với kiểu dữ liệu gốc. Nhưng với cột `release_year` thì bản chất đó là kiểu dữ liệu `datetime`, nhóm em tiến hành chuyển đổi nó:"
   ]
  },
  {
   "attachments": {},
   "cell_type": "markdown",
   "metadata": {},
   "source": [
    "---\n",
    "**TIỀN XỬ LÝ DỮ LIỆU**: CHUYỂN ĐỔI KIỂU DỮ LIỆU"
   ]
  },
  {
   "cell_type": "code",
   "execution_count": 12,
   "metadata": {},
   "outputs": [],
   "source": [
    "date_time_format = \"%y\"\n",
    "df_titles['release_year'] = pd.to_datetime(df_titles['release_year'], format=\"%Y\").dt.year"
   ]
  },
  {
   "cell_type": "code",
   "execution_count": 13,
   "metadata": {},
   "outputs": [
    {
     "data": {
      "text/plain": [
       "'int64'"
      ]
     },
     "execution_count": 13,
     "metadata": {},
     "output_type": "execute_result"
    }
   ],
   "source": [
    "# Dòng để kiểm tra kiểu dữ liệu đã được convert ra datetime hay chưa\n",
    "str(df_titles['release_year'].dtype)"
   ]
  },
  {
   "attachments": {},
   "cell_type": "markdown",
   "metadata": {},
   "source": [
    "### <p style=\"text-align: center;\">**2.5 - Độ quan trọng của thuộc tính:**</p>  \n",
    "\n",
    "Việc xóa những thuộc tính không quan trọng sẽ giúp cho bộ dữ liệu không bị rối và quá trình tính toán được nhanh hơn hơn do bỏ bớt thuộc tính không cần xét tới.\n",
    "\n",
    "Để xóa được các thuộc tính đó, trước tiên nhóm em xác định xem những thuộc tính nào không quan trọng cũng như các tác vụ khám phá dữ liệu kế tiếp có đề cập đến nó nữa hay không:\n",
    "- Cột `description` được loại bỏ ra khỏi dữ liệu vì nó chỉ là 1 đoạn mô tả khái quát về bộ phim, hiện tại nhóm không sử dụng thông tin này cho bài toán học máy để giải quyết bộ dữ liệu. Vì vậy, nhóm sẽ xóa cột này ra khỏi dữ liệu."
   ]
  },
  {
   "attachments": {},
   "cell_type": "markdown",
   "metadata": {},
   "source": [
    "---\n",
    "**TIỀN XỬ LÝ DỮ LIỆU**: XÓA CỘT KHÔNG CẦN THIẾT"
   ]
  },
  {
   "cell_type": "code",
   "execution_count": 14,
   "metadata": {},
   "outputs": [],
   "source": [
    "df_titles.drop('description', inplace=True, axis=1)"
   ]
  },
  {
   "attachments": {},
   "cell_type": "markdown",
   "metadata": {},
   "source": [
    "### <p style=\"text-align: center;\">**2.6 - Thống kê sự thiếu dữ liệu của DataFrame:**</p>  \n",
    "\n",
    "Để xem cột nào có bao nhiêu giá trị bị thiếu, nhóm em sử dụng phương thức `info` từ pandas để trả ra các bộ thống kê bao gồm tổng số dữ liệu không thiếu của một cột và kiểu của cột đó."
   ]
  },
  {
   "cell_type": "code",
   "execution_count": 15,
   "metadata": {},
   "outputs": [
    {
     "name": "stdout",
     "output_type": "stream",
     "text": [
      "<class 'pandas.core.frame.DataFrame'>\n",
      "Int64Index: 18980 entries, 0 to 5849\n",
      "Data columns (total 14 columns):\n",
      " #   Column                Non-Null Count  Dtype  \n",
      "---  ------                --------------  -----  \n",
      " 0   id                    18980 non-null  object \n",
      " 1   title                 18979 non-null  object \n",
      " 2   type                  18980 non-null  object \n",
      " 3   release_year          18980 non-null  int64  \n",
      " 4   age_certification     8684 non-null   object \n",
      " 5   runtime               18980 non-null  int64  \n",
      " 6   genres                18980 non-null  object \n",
      " 7   production_countries  18980 non-null  object \n",
      " 8   seasons               4208 non-null   float64\n",
      " 9   imdb_id               17586 non-null  object \n",
      " 10  imdb_score            17107 non-null  float64\n",
      " 11  imdb_votes            17070 non-null  float64\n",
      " 12  tmdb_popularity       18310 non-null  float64\n",
      " 13  tmdb_score            16324 non-null  float64\n",
      "dtypes: float64(5), int64(2), object(7)\n",
      "memory usage: 2.2+ MB\n"
     ]
    }
   ],
   "source": [
    "df_titles.info()"
   ]
  },
  {
   "attachments": {},
   "cell_type": "markdown",
   "metadata": {},
   "source": [
    "Để rõ ràng hơn, in số lượng bị thiếu của từng cột:"
   ]
  },
  {
   "cell_type": "code",
   "execution_count": 16,
   "metadata": {},
   "outputs": [
    {
     "data": {
      "text/plain": [
       "id                          0\n",
       "title                       1\n",
       "type                        0\n",
       "release_year                0\n",
       "age_certification       10296\n",
       "runtime                     0\n",
       "genres                      0\n",
       "production_countries        0\n",
       "seasons                 14772\n",
       "imdb_id                  1394\n",
       "imdb_score               1873\n",
       "imdb_votes               1910\n",
       "tmdb_popularity           670\n",
       "tmdb_score               2656\n",
       "dtype: int64"
      ]
     },
     "execution_count": 16,
     "metadata": {},
     "output_type": "execute_result"
    }
   ],
   "source": [
    "null_columns = df_titles.isnull().sum()\n",
    "null_columns"
   ]
  },
  {
   "attachments": {},
   "cell_type": "markdown",
   "metadata": {},
   "source": [
    "Dựa vào 2 bảng thống kê trên, nhóm em nhận thấy được các thuộc tính `age_certification, seasons, imdb_id, imdb_score, imdb_votes, tmdb_popularity, tmdb_score` bị thiếu rất nhiều dữ liệu. Để giải thích cho sự thiếu dữ liệu đó thì ở phần tiếp theo sẽ nói rõ."
   ]
  },
  {
   "attachments": {},
   "cell_type": "markdown",
   "metadata": {},
   "source": [
    "### <p style=\"text-align: center;\">**2.7 - Phân loại thuộc tính:**</p>  \n",
    "\n",
    "Dựa trên dữ liệu, thuộc tính numeric có các cột sau: \n",
    "  - release_year.\n",
    "  - runtime\tseasons.\n",
    "  - imdb_score.\n",
    "  - imdb_votes.\n",
    "  - tmdb_popularity.\n",
    "  - tmdb_score.\n",
    "\n",
    "Tương tự như vậy, thuộc tính phân loại có các cột sau: \n",
    "  - type.\n",
    "  - age_certification.\n",
    "  - genres.\n"
   ]
  },
  {
   "attachments": {},
   "cell_type": "markdown",
   "metadata": {},
   "source": [
    "#### <p style=\"text-align: center;\">**2.7.1 - Phân phối các giá trị trong thuộc tính numeric:**</p>  \n",
    "\n",
    "Thực hiện thống kê trên các thuộc tính numeric với các dòng đại diện cho các thông số như sau:\n",
    "  - Tỉ lệ % giá trị thiếu (missing_ratio).\n",
    "  - Giá trị min.\n",
    "  - Phân vị 25 (lower_quartile).\n",
    "  - Giá trị median (phân vị 50).\n",
    "  - Giá trị upper quartile (phân vị 75) (upper_quartile).\n",
    "  - Giá trị max.\n",
    "  - Giá trị mean."
   ]
  },
  {
   "cell_type": "code",
   "execution_count": 17,
   "metadata": {},
   "outputs": [],
   "source": [
    "# Các hàm xây dựng thống kê\n",
    "def missing_ratio(c):\n",
    "    return c.isnull().sum() / c.__len__() * 100\n",
    "\n",
    "def lower_quantile(column):\n",
    "    return column.quantile(q = 0.25)\n",
    "\n",
    "def upper_quantile(column):\n",
    "    return column.quantile(q = 0.75)\n",
    "\n",
    "def mean(column):\n",
    "    return column.mean()\n",
    "\n",
    "def median(column):\n",
    "    return column.median()"
   ]
  },
  {
   "cell_type": "code",
   "execution_count": 18,
   "metadata": {},
   "outputs": [
    {
     "data": {
      "text/html": [
       "<div>\n",
       "<style scoped>\n",
       "    .dataframe tbody tr th:only-of-type {\n",
       "        vertical-align: middle;\n",
       "    }\n",
       "\n",
       "    .dataframe tbody tr th {\n",
       "        vertical-align: top;\n",
       "    }\n",
       "\n",
       "    .dataframe thead th {\n",
       "        text-align: right;\n",
       "    }\n",
       "</style>\n",
       "<table border=\"1\" class=\"dataframe\">\n",
       "  <thead>\n",
       "    <tr style=\"text-align: right;\">\n",
       "      <th></th>\n",
       "      <th>release_year</th>\n",
       "      <th>runtime</th>\n",
       "      <th>seasons</th>\n",
       "      <th>imdb_score</th>\n",
       "      <th>imdb_votes</th>\n",
       "      <th>tmdb_popularity</th>\n",
       "      <th>tmdb_score</th>\n",
       "    </tr>\n",
       "  </thead>\n",
       "  <tbody>\n",
       "    <tr>\n",
       "      <th>missing_ratio</th>\n",
       "      <td>0.0</td>\n",
       "      <td>0.0</td>\n",
       "      <td>77.8</td>\n",
       "      <td>9.9</td>\n",
       "      <td>10.1</td>\n",
       "      <td>3.5</td>\n",
       "      <td>14.0</td>\n",
       "    </tr>\n",
       "    <tr>\n",
       "      <th>min</th>\n",
       "      <td>1901.0</td>\n",
       "      <td>0.0</td>\n",
       "      <td>1.0</td>\n",
       "      <td>1.1</td>\n",
       "      <td>5.0</td>\n",
       "      <td>0.0</td>\n",
       "      <td>0.5</td>\n",
       "    </tr>\n",
       "    <tr>\n",
       "      <th>lower_quantile</th>\n",
       "      <td>2004.0</td>\n",
       "      <td>56.0</td>\n",
       "      <td>1.0</td>\n",
       "      <td>5.5</td>\n",
       "      <td>209.0</td>\n",
       "      <td>1.7</td>\n",
       "      <td>5.7</td>\n",
       "    </tr>\n",
       "    <tr>\n",
       "      <th>median</th>\n",
       "      <td>2016.0</td>\n",
       "      <td>88.0</td>\n",
       "      <td>1.0</td>\n",
       "      <td>6.4</td>\n",
       "      <td>1116.5</td>\n",
       "      <td>4.0</td>\n",
       "      <td>6.5</td>\n",
       "    </tr>\n",
       "    <tr>\n",
       "      <th>upper_quantile</th>\n",
       "      <td>2019.0</td>\n",
       "      <td>104.0</td>\n",
       "      <td>3.0</td>\n",
       "      <td>7.2</td>\n",
       "      <td>6876.0</td>\n",
       "      <td>10.6</td>\n",
       "      <td>7.3</td>\n",
       "    </tr>\n",
       "    <tr>\n",
       "      <th>max</th>\n",
       "      <td>2022.0</td>\n",
       "      <td>549.0</td>\n",
       "      <td>52.0</td>\n",
       "      <td>9.9</td>\n",
       "      <td>2555504.0</td>\n",
       "      <td>4447.9</td>\n",
       "      <td>10.0</td>\n",
       "    </tr>\n",
       "    <tr>\n",
       "      <th>mean</th>\n",
       "      <td>2006.0</td>\n",
       "      <td>82.3</td>\n",
       "      <td>2.5</td>\n",
       "      <td>6.3</td>\n",
       "      <td>22744.5</td>\n",
       "      <td>14.4</td>\n",
       "      <td>6.4</td>\n",
       "    </tr>\n",
       "  </tbody>\n",
       "</table>\n",
       "</div>"
      ],
      "text/plain": [
       "                release_year  runtime  seasons  imdb_score  imdb_votes  \\\n",
       "missing_ratio            0.0      0.0     77.8         9.9        10.1   \n",
       "min                   1901.0      0.0      1.0         1.1         5.0   \n",
       "lower_quantile        2004.0     56.0      1.0         5.5       209.0   \n",
       "median                2016.0     88.0      1.0         6.4      1116.5   \n",
       "upper_quantile        2019.0    104.0      3.0         7.2      6876.0   \n",
       "max                   2022.0    549.0     52.0         9.9   2555504.0   \n",
       "mean                  2006.0     82.3      2.5         6.3     22744.5   \n",
       "\n",
       "                tmdb_popularity  tmdb_score  \n",
       "missing_ratio               3.5        14.0  \n",
       "min                         0.0         0.5  \n",
       "lower_quantile              1.7         5.7  \n",
       "median                      4.0         6.5  \n",
       "upper_quantile             10.6         7.3  \n",
       "max                      4447.9        10.0  \n",
       "mean                       14.4         6.4  "
      ]
     },
     "execution_count": 18,
     "metadata": {},
     "output_type": "execute_result"
    }
   ],
   "source": [
    "df_titles.drop(['id', 'type', 'title', 'age_certification', \\\n",
    "                'imdb_id', 'genres', 'production_countries'], axis=1) \\\n",
    "        .agg([missing_ratio, min, lower_quantile, median, upper_quantile, max, mean]).round(1)"
   ]
  },
  {
   "attachments": {},
   "cell_type": "markdown",
   "metadata": {},
   "source": [
    "Nhận xét: \n",
    "- Qua bảng thống kê trên, ta biết được cách phân bổ giá trị của các thuộc tính số như thế nào. \n",
    "- Ví dụ về `seasons`, ta có thể biết phần trăm giá trị thiếu của nó cao nhất trong tất cả các thuộc tính bởi vì như đã nói, seasons chỉ tập trung vào show mà bỏ qua movie nên tỷ lệ thiếu rất cao. \n",
    "- Ví dụ về `release_year`, ta có thể thấy được bộ dữ liệu trải dài từ năm 1901 cho đến 2022."
   ]
  },
  {
   "attachments": {},
   "cell_type": "markdown",
   "metadata": {},
   "source": [
    "#### <p style=\"text-align: center;\">**2.7.2 - Phân phối các giá trị trong thuộc tính category:**</p>  \n",
    "\n",
    "Thực hiện thống kê trên các thuộc tính category với các dòng đại diện cho các thông số như sau:\n",
    "- Tỷ lệ giá trị bị thiếu (missing_ratio).\n",
    "- Số giá trị khác biệt (num_diff_vals).\n",
    "- Các giá trị khác biệt (diff_vals)."
   ]
  },
  {
   "cell_type": "code",
   "execution_count": 19,
   "metadata": {},
   "outputs": [],
   "source": [
    "# Các hàm xây dựng thống kê\n",
    "def num_diff_vals(c):\n",
    "    return c.nunique(dropna=True)\n",
    "\n",
    "def diff_vals(c):\n",
    "    return c.dropna().unique()"
   ]
  },
  {
   "cell_type": "code",
   "execution_count": 20,
   "metadata": {},
   "outputs": [
    {
     "data": {
      "text/html": [
       "<div>\n",
       "<style scoped>\n",
       "    .dataframe tbody tr th:only-of-type {\n",
       "        vertical-align: middle;\n",
       "    }\n",
       "\n",
       "    .dataframe tbody tr th {\n",
       "        vertical-align: top;\n",
       "    }\n",
       "\n",
       "    .dataframe thead th {\n",
       "        text-align: right;\n",
       "    }\n",
       "</style>\n",
       "<table border=\"1\" class=\"dataframe\">\n",
       "  <thead>\n",
       "    <tr style=\"text-align: right;\">\n",
       "      <th></th>\n",
       "      <th>type</th>\n",
       "      <th>age_certification</th>\n",
       "    </tr>\n",
       "  </thead>\n",
       "  <tbody>\n",
       "    <tr>\n",
       "      <th>missing_ratio</th>\n",
       "      <td>0.0</td>\n",
       "      <td>54.246575</td>\n",
       "    </tr>\n",
       "    <tr>\n",
       "      <th>num_diff_vals</th>\n",
       "      <td>2</td>\n",
       "      <td>11</td>\n",
       "    </tr>\n",
       "    <tr>\n",
       "      <th>diff_vals</th>\n",
       "      <td>[SHOW, MOVIE]</td>\n",
       "      <td>[TV-PG, PG, G, PG-13, R, TV-G, TV-Y, TV-14, NC...</td>\n",
       "    </tr>\n",
       "  </tbody>\n",
       "</table>\n",
       "</div>"
      ],
      "text/plain": [
       "                        type  \\\n",
       "missing_ratio            0.0   \n",
       "num_diff_vals              2   \n",
       "diff_vals      [SHOW, MOVIE]   \n",
       "\n",
       "                                               age_certification  \n",
       "missing_ratio                                          54.246575  \n",
       "num_diff_vals                                                 11  \n",
       "diff_vals      [TV-PG, PG, G, PG-13, R, TV-G, TV-Y, TV-14, NC...  "
      ]
     },
     "execution_count": 20,
     "metadata": {},
     "output_type": "execute_result"
    }
   ],
   "source": [
    "df_titles[['type', 'age_certification']]\\\n",
    "        .agg([missing_ratio, num_diff_vals, diff_vals]).round(2)"
   ]
  },
  {
   "attachments": {},
   "cell_type": "markdown",
   "metadata": {},
   "source": [
    "Nhận xét:\n",
    "- Tỷ lệ phần trăm thiếu của cột `age_certification` rất cao vì rất nhiều bộ phim không được gắn nhãn độ tuổi."
   ]
  },
  {
   "attachments": {},
   "cell_type": "markdown",
   "metadata": {},
   "source": [
    "### <p style=\"text-align: center;\">**2.8 - Khám phá từng thuộc tính:**</p>  \n",
    "#### <p style=\"text-align: center;\">**2.8.1 - Title:**</p>  \n",
    "\n",
    "Title là thuộc tính chứa tên của các bộ phim. \n",
    "\n",
    "Như vậy, khi làm việc với thuộc tính này, nhóm em xem xét xem một bộ phim/show xuất hiện bao nhiêu lần trong bảng dữ liệu. Việc 1 phim/show xuất hiện nhiều lần mà vẫn qua bước lọc trùng thì đó là do việc phim/show đó có nhiều mùa, mỗi mùa độc lập với mùa trước nên nó xuất hiện nhiều lần."
   ]
  },
  {
   "cell_type": "code",
   "execution_count": 21,
   "metadata": {},
   "outputs": [
    {
     "data": {
      "text/plain": [
       "A Nightmare on Elm Street             4\n",
       "The Gift                              4\n",
       "The Outsider                          4\n",
       "Shadows                               4\n",
       "Dostana                               4\n",
       "                                     ..\n",
       "Dismissed                             1\n",
       "Human Flow                            1\n",
       "Warriors of Liberty City              1\n",
       "Scales: Mermaids Are Real             1\n",
       "Mighty Little Bheem: Kite Festival    1\n",
       "Name: title, Length: 18357, dtype: int64"
      ]
     },
     "execution_count": 21,
     "metadata": {},
     "output_type": "execute_result"
    }
   ],
   "source": [
    "temp = df_titles['title'].value_counts()\n",
    "temp"
   ]
  },
  {
   "cell_type": "code",
   "execution_count": 22,
   "metadata": {},
   "outputs": [
    {
     "name": "stdout",
     "output_type": "stream",
     "text": [
      "Vậy, số bộ phim riêng biệt mà bảng dữ liệu tổng hợp là: 18357\n"
     ]
    }
   ],
   "source": [
    "print(f\"Vậy, số bộ phim riêng biệt mà bảng dữ liệu tổng hợp là: {df_titles['title'].nunique()}\")"
   ]
  },
  {
   "attachments": {},
   "cell_type": "markdown",
   "metadata": {},
   "source": [
    "#### <p style=\"text-align: center;\">**2.8.1 - Type:**</p>  \n",
    "Type là thuộc tính phân loại dữ liệu đang xét là phim hay chương trình truyền hình. \n",
    "\n",
    "Như vậy, bước đầu tiên là nhóm sẽ đếm xem có bao nhiêu giá trị là phim và bao nhiêu giá trị là chương trình truyền hình trong thuộc tính này."
   ]
  },
  {
   "cell_type": "code",
   "execution_count": 23,
   "metadata": {},
   "outputs": [
    {
     "data": {
      "text/html": [
       "<div>\n",
       "<style scoped>\n",
       "    .dataframe tbody tr th:only-of-type {\n",
       "        vertical-align: middle;\n",
       "    }\n",
       "\n",
       "    .dataframe tbody tr th {\n",
       "        vertical-align: top;\n",
       "    }\n",
       "\n",
       "    .dataframe thead th {\n",
       "        text-align: right;\n",
       "    }\n",
       "</style>\n",
       "<table border=\"1\" class=\"dataframe\">\n",
       "  <thead>\n",
       "    <tr style=\"text-align: right;\">\n",
       "      <th></th>\n",
       "      <th>type</th>\n",
       "    </tr>\n",
       "  </thead>\n",
       "  <tbody>\n",
       "    <tr>\n",
       "      <th>MOVIE</th>\n",
       "      <td>14772</td>\n",
       "    </tr>\n",
       "    <tr>\n",
       "      <th>SHOW</th>\n",
       "      <td>4208</td>\n",
       "    </tr>\n",
       "  </tbody>\n",
       "</table>\n",
       "</div>"
      ],
      "text/plain": [
       "        type\n",
       "MOVIE  14772\n",
       "SHOW    4208"
      ]
     },
     "execution_count": 23,
     "metadata": {},
     "output_type": "execute_result"
    }
   ],
   "source": [
    "pd.DataFrame(df_titles['type'].value_counts())"
   ]
  },
  {
   "attachments": {},
   "cell_type": "markdown",
   "metadata": {},
   "source": [
    "Để có cái nhìn trực quan hơn về nó, nhóm vẽ biểu đồ hình tròn để xác định tỷ lệ giữa show và phim cái nào chiếm nhiều nhất."
   ]
  },
  {
   "cell_type": "code",
   "execution_count": 24,
   "metadata": {},
   "outputs": [
    {
     "data": {
      "image/png": "[encoded data removed]",
      "text/plain": [
       "<Figure size 800x500 with 1 Axes>"
      ]
     },
     "metadata": {},
     "output_type": "display_data"
    }
   ],
   "source": [
    "# plot pie chart\n",
    "plt.figure(figsize=(8, 5))\n",
    "plt.title('Type', fontsize=15)\n",
    "plt.pie(df_titles['type'].value_counts(), \n",
    "        labels=df_titles['type'].value_counts().keys(),\n",
    "        textprops={\"fontsize\":10},\n",
    "        radius=1.1, startangle=90,\n",
    "        colors=['#af0055', '#D05C9C'],\n",
    "        autopct='%.1f%%')\n",
    "plt.show()"
   ]
  },
  {
   "attachments": {},
   "cell_type": "markdown",
   "metadata": {},
   "source": [
    "Như vậy, movie chiếm đến 77.8% trong bảng dữ liệu và show chỉ chiếm 22.2%."
   ]
  },
  {
   "attachments": {},
   "cell_type": "markdown",
   "metadata": {},
   "source": [
    "#### <p style=\"text-align: center;\">**2.8.3 - Release year:**</p>  \n",
    "Release year chỉ năm phát hành của bộ phim/show. \n",
    "\n",
    "Nhóm tiến hành đếm xem có bao nhiêu phim được sản xuất ra trong các năm trải dài từ 1901 cho đến 2022. Sau đó sắp xếp lại theo thứ tự tăng dần."
   ]
  },
  {
   "cell_type": "code",
   "execution_count": 25,
   "metadata": {},
   "outputs": [
    {
     "data": {
      "text/plain": [
       "1901       1\n",
       "1902       2\n",
       "1903       1\n",
       "1904       1\n",
       "1906       2\n",
       "        ... \n",
       "2018    1597\n",
       "2019    1837\n",
       "2020    1767\n",
       "2021    1901\n",
       "2022     522\n",
       "Name: release_year, Length: 116, dtype: int64"
      ]
     },
     "execution_count": 25,
     "metadata": {},
     "output_type": "execute_result"
    }
   ],
   "source": [
    "num_of_movies_by_year = df_titles['release_year'].value_counts().sort_index()\n",
    "num_of_movies_by_year"
   ]
  },
  {
   "attachments": {},
   "cell_type": "markdown",
   "metadata": {},
   "source": [
    "Thực hiện trực quan các dữ liệu đếm được lên biểu đồ:"
   ]
  },
  {
   "cell_type": "code",
   "execution_count": 26,
   "metadata": {},
   "outputs": [
    {
     "data": {
      "text/plain": [
       "<AxesSubplot: >"
      ]
     },
     "execution_count": 26,
     "metadata": {},
     "output_type": "execute_result"
    },
    {
     "data": {
      "image/png": "[encoded data removed]",
      "text/plain": [
       "<Figure size 2500x1000 with 1 Axes>"
      ]
     },
     "metadata": {},
     "output_type": "display_data"
    }
   ],
   "source": [
    "# plot barchart\n",
    "num_of_movies_by_year.plot.bar(figsize=(25, 10), color='indigo')"
   ]
  },
  {
   "attachments": {},
   "cell_type": "markdown",
   "metadata": {},
   "source": [
    "Ta có thể thấy số phim tăng dần qua các năm nhưng năm 2022 lại giảm cực mạnh. Có lẽ lý do là vì nền phim ảnh đang trong thời kì phục hồi lại sau covid và trước đó các bộ phim trong quá trình quay bị hoãn do dịch."
   ]
  },
  {
   "attachments": {},
   "cell_type": "markdown",
   "metadata": {},
   "source": [
    "#### <p style=\"text-align: center;\">**2.8.4 - Age certification:**</p>  \n",
    "\n",
    "Age certification là thuộc tính phân loại độ tuổi (kiểm duyệt và phân loại phim). Một bộ phim thường được gắn nhãn độ tuổi nhằm đảm bảo tựa đề, nội dung và tính chất của phim đúng với đối tượng xem.\n",
    "\n",
    "Đầu tiên, nhóm sẽ gắn nhãn NONE đối với những phim chưa được gắn nhãn độ tuổi. Sau đó thực hiện việc đếm xem có bao nhiêu phim ứng với từng nhãn độ tuổi.\n",
    "\n",
    "---\n",
    "**TIỀN XỬ LÝ DỮ LIỆU:** GẮN NHÃN NONE CHO PHIM KHÔNG PHÂN LOẠI ĐỘ TUỔI"
   ]
  },
  {
   "cell_type": "code",
   "execution_count": 27,
   "metadata": {},
   "outputs": [
    {
     "data": {
      "text/plain": [
       "NONE     10296\n",
       "R         2400\n",
       "PG-13     1508\n",
       "TV-MA     1411\n",
       "PG        1122\n",
       "TV-14      804\n",
       "G          475\n",
       "TV-PG      360\n",
       "TV-Y7      213\n",
       "TV-Y       200\n",
       "TV-G       156\n",
       "NC-17       35\n",
       "Name: age_certification, dtype: int64"
      ]
     },
     "execution_count": 27,
     "metadata": {},
     "output_type": "execute_result"
    }
   ],
   "source": [
    "df_titles['age_certification'].fillna('NONE', inplace=True)\n",
    "df_titles['age_certification'].value_counts()"
   ]
  },
  {
   "attachments": {},
   "cell_type": "markdown",
   "metadata": {},
   "source": [
    "Tiến hành trực quan hóa các nhãn lên biểu đồ tròn để xem tỷ trọng của nhãn chiếm bao nhiêu phần trăm:"
   ]
  },
  {
   "cell_type": "code",
   "execution_count": 28,
   "metadata": {},
   "outputs": [
    {
     "data": {
      "image/png": "[encoded data removed]",
      "text/plain": [
       "<Figure size 500x500 with 1 Axes>"
      ]
     },
     "metadata": {},
     "output_type": "display_data"
    }
   ],
   "source": [
    "# pie chart\n",
    "plt.figure(figsize=(5, 5))\n",
    "plt.title('Age Certification', fontsize=15)\n",
    "plt.pie(df_titles['age_certification'].value_counts(), \n",
    "        labels=df_titles['age_certification'].value_counts().keys(),\n",
    "        textprops={\"fontsize\":7},\n",
    "        radius=1.3, startangle=45,\n",
    "        autopct='%.0f%%')\n",
    "plt.show()"
   ]
  },
  {
   "attachments": {},
   "cell_type": "markdown",
   "metadata": {},
   "source": [
    "Như vậy dễ dàng thấy trên biểu đồ thì những phim không gắn nhãn chiếm tỷ trọng nhiều nhất (54%), tiếp theo là R (13%) và PG-13 (8%). "
   ]
  },
  {
   "attachments": {},
   "cell_type": "markdown",
   "metadata": {},
   "source": [
    "#### <p style=\"text-align: center;\">**2.8.5 - Production countries:**</p>  \n",
    "Production countries là thuộc tính cho biết quốc gia sản xuất của phim. Một bộ phim không hẳn luôn luôn đến từ một quốc gia mà có thể nhiều quốc gia cùng sản xuất nên dữ liệu mới lưu dưới dạng mảng.\n",
    "\n",
    "Đầu tiên, nhóm tiến hành rã các dấu chỉ mảng ra để nhìn dễ hơn:"
   ]
  },
  {
   "cell_type": "code",
   "execution_count": 29,
   "metadata": {},
   "outputs": [],
   "source": [
    "df_titles['production_countries'] = df_titles['production_countries'].str.replace('[', '', regex=True)\\\n",
    "                                    .str.replace(\"'\", '', regex=True)\\\n",
    "                                    .str.replace(']', '', regex=True)"
   ]
  },
  {
   "attachments": {},
   "cell_type": "markdown",
   "metadata": {},
   "source": [
    "Nhóm sẽ lần lượt lấy ra top 10 quốc gia tham gia sản xuất nhiều bộ phim nhất trong bộ dữ liệu, tổng số lượng quốc gia sản xuất phim.\n",
    "\n",
    "Bên cạnh đó, nhóm sẽ thêm 1 cột dữ liệu `main_production_countries` vào DataFrame để thống nhất 1 quốc gia chính sản xuất bộ phim thay vì là 1 mảng như ban đầu."
   ]
  },
  {
   "cell_type": "code",
   "execution_count": 30,
   "metadata": {},
   "outputs": [],
   "source": [
    "# Đếm số lượng bộ phim mà từng quốc gia sản xuất, bỏ đi các giá trị null\n",
    "top_production_countries = df_titles['production_countries'].str.split(', ').explode().value_counts().drop('')\n",
    "\n",
    "# Lấy số lượng quốc gia tham gia sản xuất phim\n",
    "num_production_countries = df_titles['production_countries'].str.split(',').explode().nunique()\n",
    "\n",
    "# Thêm 1 cột dữ liệu main_production_countries vào DataFrame\n",
    "df_titles['main_production_countries'] = df_titles['production_countries'].str.split(',').str[0]"
   ]
  },
  {
   "cell_type": "code",
   "execution_count": 31,
   "metadata": {},
   "outputs": [
    {
     "name": "stdout",
     "output_type": "stream",
     "text": [
      "Số lượng quốc gia tham gia sản xuất phim là: 242\n"
     ]
    }
   ],
   "source": [
    "print(f'Số lượng quốc gia tham gia sản xuất phim là: {num_production_countries}')"
   ]
  },
  {
   "attachments": {},
   "cell_type": "markdown",
   "metadata": {},
   "source": [
    "Trực quan top 10 quốc gia sản xuất nhiều bộ phim nhất"
   ]
  },
  {
   "cell_type": "code",
   "execution_count": 32,
   "metadata": {},
   "outputs": [
    {
     "data": {
      "image/png": "[encoded data removed]",
      "text/plain": [
       "<Figure size 640x480 with 1 Axes>"
      ]
     },
     "metadata": {},
     "output_type": "display_data"
    }
   ],
   "source": [
    "top_production_countries.nlargest(n=10).plot.barh(color='red');"
   ]
  },
  {
   "attachments": {},
   "cell_type": "markdown",
   "metadata": {},
   "source": [
    "#### <p style=\"text-align: center;\">**2.8.6 - Genres:**</p>  \n",
    "Genres là thuộc tính cho biết thể loại của phim/show là gì. \n",
    "\n",
    "Một bộ phim có nhiều loại khác nhau nên dữ liệu lưu thuộc tính này dưới dạng một mảng. Vậy, nhóm tiến hành tìm rã các dấu mảng trong bảng dữ liệu ra:"
   ]
  },
  {
   "cell_type": "code",
   "execution_count": 33,
   "metadata": {},
   "outputs": [],
   "source": [
    "df_titles['genres'] = df_titles['genres'].str.replace('[', '', regex=True)\\\n",
    "                                        .str.replace(\"'\", '', regex=True)\\\n",
    "                                        .str.replace(']', '', regex=True)"
   ]
  },
  {
   "attachments": {},
   "cell_type": "markdown",
   "metadata": {},
   "source": [
    "Làm tương tự với quốc gia sản xuất phim, nhóm sẽ thêm 1 cột dữ liệu `main_genre` vào DataFrame để thống nhất 1 thể loại phim chính của bộ phim thay vì là 1 mảng như ban đầu."
   ]
  },
  {
   "cell_type": "code",
   "execution_count": 34,
   "metadata": {},
   "outputs": [],
   "source": [
    "top_genres = df_titles['genres'].str.split(', ').explode().value_counts().drop('')\n",
    "num_genres = df_titles['genres'].str.split(', ').explode().nunique()\n",
    "df_titles['main_genre'] = df_titles['genres'].str.split(', ').str[0]"
   ]
  },
  {
   "cell_type": "code",
   "execution_count": 35,
   "metadata": {},
   "outputs": [
    {
     "name": "stdout",
     "output_type": "stream",
     "text": [
      "Tổng số lượng thể loại của các bộ phim là: 20\n"
     ]
    }
   ],
   "source": [
    "print(f'Tổng số lượng thể loại của các bộ phim là: {num_genres}')"
   ]
  },
  {
   "attachments": {},
   "cell_type": "markdown",
   "metadata": {},
   "source": [
    "Vì chỉ có 20 thể loại phim nên nhóm sẽ trực quan % mỗi thể loại phim trên tổng số lượng bằng biểu đồ tròn"
   ]
  },
  {
   "cell_type": "code",
   "execution_count": 36,
   "metadata": {},
   "outputs": [
    {
     "data": {
      "image/png": "[encoded data removed]",
      "text/plain": [
       "<Figure size 500x500 with 1 Axes>"
      ]
     },
     "metadata": {},
     "output_type": "display_data"
    }
   ],
   "source": [
    "# pie chart\n",
    "plt.figure(figsize=(5, 5))\n",
    "plt.title('Genres', fontsize=15)\n",
    "plt.pie(df_titles['genres'].str.split(', ').explode().value_counts(), \n",
    "        labels=df_titles['genres'].str.split(', ').explode().value_counts().keys(),\n",
    "        textprops={\"fontsize\":7},\n",
    "        radius=1.3, startangle=20,\n",
    "        autopct='%.0f%%')\n",
    "plt.show()"
   ]
  },
  {
   "attachments": {},
   "cell_type": "markdown",
   "metadata": {},
   "source": [
    "Nhận xét: 3 thể loại chiếm % cao nhất là drama, comedy và thriller (phim giật gân). Từ đó chúng ta có thể nhận thấy, các bộ phim mang thể loại kịch tính, hài hoặc giật gân đang là trend trong các bộ phim của các nền tảng xem phim online"
   ]
  },
  {
   "attachments": {},
   "cell_type": "markdown",
   "metadata": {},
   "source": [
    "#### <p style=\"text-align: center;\">**2.8.7 - Seasons:**</p>  \n",
    "Seasons cho biết số mùa của phim/show truyền hình. \n",
    "\n",
    "Đầu tiên, vì số mùa không thể mang giá trị là NaN nên nhóm tiến hành đưa nó về 0 tương ứng với cách giải thích bộ phim/show đó không có mùa nào.\n",
    "\n",
    "---\n",
    "**TIỀN XỬ LÝ DỮ LIỆU**: FILL 0 VÀO SEASONS"
   ]
  },
  {
   "cell_type": "code",
   "execution_count": 37,
   "metadata": {},
   "outputs": [],
   "source": [
    "df_titles['seasons'] = df_titles['seasons'].fillna(0)"
   ]
  },
  {
   "cell_type": "code",
   "execution_count": 38,
   "metadata": {},
   "outputs": [
    {
     "data": {
      "text/html": [
       "<div>\n",
       "<style scoped>\n",
       "    .dataframe tbody tr th:only-of-type {\n",
       "        vertical-align: middle;\n",
       "    }\n",
       "\n",
       "    .dataframe tbody tr th {\n",
       "        vertical-align: top;\n",
       "    }\n",
       "\n",
       "    .dataframe thead th {\n",
       "        text-align: right;\n",
       "    }\n",
       "</style>\n",
       "<table border=\"1\" class=\"dataframe\">\n",
       "  <thead>\n",
       "    <tr style=\"text-align: right;\">\n",
       "      <th></th>\n",
       "      <th>id</th>\n",
       "      <th>type</th>\n",
       "      <th>release_year</th>\n",
       "      <th>age_certification</th>\n",
       "      <th>runtime</th>\n",
       "      <th>genres</th>\n",
       "      <th>production_countries</th>\n",
       "      <th>seasons</th>\n",
       "      <th>imdb_id</th>\n",
       "      <th>imdb_score</th>\n",
       "      <th>imdb_votes</th>\n",
       "      <th>tmdb_popularity</th>\n",
       "      <th>tmdb_score</th>\n",
       "      <th>main_production_countries</th>\n",
       "      <th>main_genre</th>\n",
       "    </tr>\n",
       "    <tr>\n",
       "      <th>title</th>\n",
       "      <th></th>\n",
       "      <th></th>\n",
       "      <th></th>\n",
       "      <th></th>\n",
       "      <th></th>\n",
       "      <th></th>\n",
       "      <th></th>\n",
       "      <th></th>\n",
       "      <th></th>\n",
       "      <th></th>\n",
       "      <th></th>\n",
       "      <th></th>\n",
       "      <th></th>\n",
       "      <th></th>\n",
       "      <th></th>\n",
       "    </tr>\n",
       "  </thead>\n",
       "  <tbody>\n",
       "    <tr>\n",
       "      <th>The Three Stooges</th>\n",
       "      <td>ts20945</td>\n",
       "      <td>SHOW</td>\n",
       "      <td>1934</td>\n",
       "      <td>TV-PG</td>\n",
       "      <td>19</td>\n",
       "      <td>comedy, family, animation, action, fantasy, ho...</td>\n",
       "      <td>US</td>\n",
       "      <td>26.0</td>\n",
       "      <td>tt0850645</td>\n",
       "      <td>8.6</td>\n",
       "      <td>1092.0</td>\n",
       "      <td>15.424</td>\n",
       "      <td>7.6</td>\n",
       "      <td>US</td>\n",
       "      <td>comedy</td>\n",
       "    </tr>\n",
       "    <tr>\n",
       "      <th>The General</th>\n",
       "      <td>tm19248</td>\n",
       "      <td>MOVIE</td>\n",
       "      <td>1926</td>\n",
       "      <td>NONE</td>\n",
       "      <td>78</td>\n",
       "      <td>action, drama, war, western, comedy, european</td>\n",
       "      <td>US</td>\n",
       "      <td>0.0</td>\n",
       "      <td>tt0017925</td>\n",
       "      <td>8.2</td>\n",
       "      <td>89766.0</td>\n",
       "      <td>8.647</td>\n",
       "      <td>8.0</td>\n",
       "      <td>US</td>\n",
       "      <td>action</td>\n",
       "    </tr>\n",
       "    <tr>\n",
       "      <th>The Best Years of Our Lives</th>\n",
       "      <td>tm82253</td>\n",
       "      <td>MOVIE</td>\n",
       "      <td>1946</td>\n",
       "      <td>NONE</td>\n",
       "      <td>171</td>\n",
       "      <td>romance, war, drama</td>\n",
       "      <td>US</td>\n",
       "      <td>0.0</td>\n",
       "      <td>tt0036868</td>\n",
       "      <td>8.1</td>\n",
       "      <td>63026.0</td>\n",
       "      <td>8.435</td>\n",
       "      <td>7.8</td>\n",
       "      <td>US</td>\n",
       "      <td>romance</td>\n",
       "    </tr>\n",
       "    <tr>\n",
       "      <th>His Girl Friday</th>\n",
       "      <td>tm83884</td>\n",
       "      <td>MOVIE</td>\n",
       "      <td>1940</td>\n",
       "      <td>NONE</td>\n",
       "      <td>92</td>\n",
       "      <td>comedy, drama, romance</td>\n",
       "      <td>US</td>\n",
       "      <td>0.0</td>\n",
       "      <td>tt0032599</td>\n",
       "      <td>7.8</td>\n",
       "      <td>57835.0</td>\n",
       "      <td>11.270</td>\n",
       "      <td>7.4</td>\n",
       "      <td>US</td>\n",
       "      <td>comedy</td>\n",
       "    </tr>\n",
       "    <tr>\n",
       "      <th>In a Lonely Place</th>\n",
       "      <td>tm56584</td>\n",
       "      <td>MOVIE</td>\n",
       "      <td>1950</td>\n",
       "      <td>NONE</td>\n",
       "      <td>94</td>\n",
       "      <td>thriller, drama, romance</td>\n",
       "      <td>US</td>\n",
       "      <td>0.0</td>\n",
       "      <td>tt0042593</td>\n",
       "      <td>7.9</td>\n",
       "      <td>30924.0</td>\n",
       "      <td>8.273</td>\n",
       "      <td>7.6</td>\n",
       "      <td>US</td>\n",
       "      <td>thriller</td>\n",
       "    </tr>\n",
       "    <tr>\n",
       "      <th>...</th>\n",
       "      <td>...</td>\n",
       "      <td>...</td>\n",
       "      <td>...</td>\n",
       "      <td>...</td>\n",
       "      <td>...</td>\n",
       "      <td>...</td>\n",
       "      <td>...</td>\n",
       "      <td>...</td>\n",
       "      <td>...</td>\n",
       "      <td>...</td>\n",
       "      <td>...</td>\n",
       "      <td>...</td>\n",
       "      <td>...</td>\n",
       "      <td>...</td>\n",
       "      <td>...</td>\n",
       "    </tr>\n",
       "    <tr>\n",
       "      <th>Fine Wine</th>\n",
       "      <td>tm1014599</td>\n",
       "      <td>MOVIE</td>\n",
       "      <td>2021</td>\n",
       "      <td>NONE</td>\n",
       "      <td>100</td>\n",
       "      <td>romance, drama</td>\n",
       "      <td>NG</td>\n",
       "      <td>0.0</td>\n",
       "      <td>tt13857480</td>\n",
       "      <td>6.8</td>\n",
       "      <td>45.0</td>\n",
       "      <td>1.466</td>\n",
       "      <td>NaN</td>\n",
       "      <td>NG</td>\n",
       "      <td>romance</td>\n",
       "    </tr>\n",
       "    <tr>\n",
       "      <th>C/O Kaadhal</th>\n",
       "      <td>tm898842</td>\n",
       "      <td>MOVIE</td>\n",
       "      <td>2021</td>\n",
       "      <td>NONE</td>\n",
       "      <td>134</td>\n",
       "      <td>drama</td>\n",
       "      <td></td>\n",
       "      <td>0.0</td>\n",
       "      <td>tt11803618</td>\n",
       "      <td>7.7</td>\n",
       "      <td>348.0</td>\n",
       "      <td>NaN</td>\n",
       "      <td>NaN</td>\n",
       "      <td></td>\n",
       "      <td>drama</td>\n",
       "    </tr>\n",
       "    <tr>\n",
       "      <th>Lokillo</th>\n",
       "      <td>tm1059008</td>\n",
       "      <td>MOVIE</td>\n",
       "      <td>2021</td>\n",
       "      <td>NONE</td>\n",
       "      <td>90</td>\n",
       "      <td>comedy</td>\n",
       "      <td>CO</td>\n",
       "      <td>0.0</td>\n",
       "      <td>tt14585902</td>\n",
       "      <td>3.8</td>\n",
       "      <td>68.0</td>\n",
       "      <td>26.005</td>\n",
       "      <td>6.3</td>\n",
       "      <td>CO</td>\n",
       "      <td>comedy</td>\n",
       "    </tr>\n",
       "    <tr>\n",
       "      <th>Dad Stop Embarrassing Me - The Afterparty</th>\n",
       "      <td>tm1035612</td>\n",
       "      <td>MOVIE</td>\n",
       "      <td>2021</td>\n",
       "      <td>PG-13</td>\n",
       "      <td>37</td>\n",
       "      <td></td>\n",
       "      <td>US</td>\n",
       "      <td>0.0</td>\n",
       "      <td>NaN</td>\n",
       "      <td>NaN</td>\n",
       "      <td>NaN</td>\n",
       "      <td>1.296</td>\n",
       "      <td>10.0</td>\n",
       "      <td>US</td>\n",
       "      <td></td>\n",
       "    </tr>\n",
       "    <tr>\n",
       "      <th>Mighty Little Bheem: Kite Festival</th>\n",
       "      <td>ts271048</td>\n",
       "      <td>SHOW</td>\n",
       "      <td>2021</td>\n",
       "      <td>NONE</td>\n",
       "      <td>7</td>\n",
       "      <td>family, animation, comedy</td>\n",
       "      <td></td>\n",
       "      <td>1.0</td>\n",
       "      <td>tt13711094</td>\n",
       "      <td>7.8</td>\n",
       "      <td>18.0</td>\n",
       "      <td>2.289</td>\n",
       "      <td>10.0</td>\n",
       "      <td></td>\n",
       "      <td>family</td>\n",
       "    </tr>\n",
       "  </tbody>\n",
       "</table>\n",
       "<p>18980 rows × 15 columns</p>\n",
       "</div>"
      ],
      "text/plain": [
       "                                                  id   type  release_year  \\\n",
       "title                                                                       \n",
       "The Three Stooges                            ts20945   SHOW          1934   \n",
       "The General                                  tm19248  MOVIE          1926   \n",
       "The Best Years of Our Lives                  tm82253  MOVIE          1946   \n",
       "His Girl Friday                              tm83884  MOVIE          1940   \n",
       "In a Lonely Place                            tm56584  MOVIE          1950   \n",
       "...                                              ...    ...           ...   \n",
       "Fine Wine                                  tm1014599  MOVIE          2021   \n",
       "C/O Kaadhal                                 tm898842  MOVIE          2021   \n",
       "Lokillo                                    tm1059008  MOVIE          2021   \n",
       "Dad Stop Embarrassing Me - The Afterparty  tm1035612  MOVIE          2021   \n",
       "Mighty Little Bheem: Kite Festival          ts271048   SHOW          2021   \n",
       "\n",
       "                                          age_certification  runtime  \\\n",
       "title                                                                  \n",
       "The Three Stooges                                     TV-PG       19   \n",
       "The General                                            NONE       78   \n",
       "The Best Years of Our Lives                            NONE      171   \n",
       "His Girl Friday                                        NONE       92   \n",
       "In a Lonely Place                                      NONE       94   \n",
       "...                                                     ...      ...   \n",
       "Fine Wine                                              NONE      100   \n",
       "C/O Kaadhal                                            NONE      134   \n",
       "Lokillo                                                NONE       90   \n",
       "Dad Stop Embarrassing Me - The Afterparty             PG-13       37   \n",
       "Mighty Little Bheem: Kite Festival                     NONE        7   \n",
       "\n",
       "                                                                                      genres  \\\n",
       "title                                                                                          \n",
       "The Three Stooges                          comedy, family, animation, action, fantasy, ho...   \n",
       "The General                                    action, drama, war, western, comedy, european   \n",
       "The Best Years of Our Lives                                              romance, war, drama   \n",
       "His Girl Friday                                                       comedy, drama, romance   \n",
       "In a Lonely Place                                                   thriller, drama, romance   \n",
       "...                                                                                      ...   \n",
       "Fine Wine                                                                     romance, drama   \n",
       "C/O Kaadhal                                                                            drama   \n",
       "Lokillo                                                                               comedy   \n",
       "Dad Stop Embarrassing Me - The Afterparty                                                      \n",
       "Mighty Little Bheem: Kite Festival                                 family, animation, comedy   \n",
       "\n",
       "                                          production_countries  seasons  \\\n",
       "title                                                                     \n",
       "The Three Stooges                                           US     26.0   \n",
       "The General                                                 US      0.0   \n",
       "The Best Years of Our Lives                                 US      0.0   \n",
       "His Girl Friday                                             US      0.0   \n",
       "In a Lonely Place                                           US      0.0   \n",
       "...                                                        ...      ...   \n",
       "Fine Wine                                                   NG      0.0   \n",
       "C/O Kaadhal                                                         0.0   \n",
       "Lokillo                                                     CO      0.0   \n",
       "Dad Stop Embarrassing Me - The Afterparty                   US      0.0   \n",
       "Mighty Little Bheem: Kite Festival                                  1.0   \n",
       "\n",
       "                                              imdb_id  imdb_score  imdb_votes  \\\n",
       "title                                                                           \n",
       "The Three Stooges                           tt0850645         8.6      1092.0   \n",
       "The General                                 tt0017925         8.2     89766.0   \n",
       "The Best Years of Our Lives                 tt0036868         8.1     63026.0   \n",
       "His Girl Friday                             tt0032599         7.8     57835.0   \n",
       "In a Lonely Place                           tt0042593         7.9     30924.0   \n",
       "...                                               ...         ...         ...   \n",
       "Fine Wine                                  tt13857480         6.8        45.0   \n",
       "C/O Kaadhal                                tt11803618         7.7       348.0   \n",
       "Lokillo                                    tt14585902         3.8        68.0   \n",
       "Dad Stop Embarrassing Me - The Afterparty         NaN         NaN         NaN   \n",
       "Mighty Little Bheem: Kite Festival         tt13711094         7.8        18.0   \n",
       "\n",
       "                                           tmdb_popularity  tmdb_score  \\\n",
       "title                                                                    \n",
       "The Three Stooges                                   15.424         7.6   \n",
       "The General                                          8.647         8.0   \n",
       "The Best Years of Our Lives                          8.435         7.8   \n",
       "His Girl Friday                                     11.270         7.4   \n",
       "In a Lonely Place                                    8.273         7.6   \n",
       "...                                                    ...         ...   \n",
       "Fine Wine                                            1.466         NaN   \n",
       "C/O Kaadhal                                            NaN         NaN   \n",
       "Lokillo                                             26.005         6.3   \n",
       "Dad Stop Embarrassing Me - The Afterparty            1.296        10.0   \n",
       "Mighty Little Bheem: Kite Festival                   2.289        10.0   \n",
       "\n",
       "                                          main_production_countries main_genre  \n",
       "title                                                                           \n",
       "The Three Stooges                                                US     comedy  \n",
       "The General                                                      US     action  \n",
       "The Best Years of Our Lives                                      US    romance  \n",
       "His Girl Friday                                                  US     comedy  \n",
       "In a Lonely Place                                                US   thriller  \n",
       "...                                                             ...        ...  \n",
       "Fine Wine                                                        NG    romance  \n",
       "C/O Kaadhal                                                              drama  \n",
       "Lokillo                                                          CO     comedy  \n",
       "Dad Stop Embarrassing Me - The Afterparty                        US             \n",
       "Mighty Little Bheem: Kite Festival                                      family  \n",
       "\n",
       "[18980 rows x 15 columns]"
      ]
     },
     "execution_count": 38,
     "metadata": {},
     "output_type": "execute_result"
    }
   ],
   "source": [
    "df_titles.set_index('title')"
   ]
  },
  {
   "cell_type": "code",
   "execution_count": 39,
   "metadata": {},
   "outputs": [],
   "source": [
    "# dummies = pd.get_dummies(df_titles[['type']])\n",
    "# dummies"
   ]
  },
  {
   "cell_type": "code",
   "execution_count": 40,
   "metadata": {},
   "outputs": [
    {
     "name": "stdout",
     "output_type": "stream",
     "text": [
      "Stored 'df_titles' (DataFrame)\n"
     ]
    }
   ],
   "source": [
    "%store df_titles"
   ]
  },
  {
   "attachments": {},
   "cell_type": "markdown",
   "metadata": {},
   "source": [
    "---\n",
    "HẾT GIAI ĐOẠN 2"
   ]
  }
 ],
 "metadata": {
  "kernelspec": {
   "display_name": "Python 3",
   "language": "python",
   "name": "python3"
  },
  "language_info": {
   "codemirror_mode": {
    "name": "ipython",
    "version": 3
   },
   "file_extension": ".py",
   "mimetype": "text/x-python",
   "name": "python",
   "nbconvert_exporter": "python",
   "pygments_lexer": "ipython3",
   "version": "3.10.6"
  },
  "orig_nbformat": 4,
  "vscode": {
   "interpreter": {
    "hash": "89e8354a88354ecf7ffb299b56239fb0ecc48c48d372ba43f5b93cc4e944f72d"
   }
  }
 },
 "nbformat": 4,
 "nbformat_minor": 2
}
