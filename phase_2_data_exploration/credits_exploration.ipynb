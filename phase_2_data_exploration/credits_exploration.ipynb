{
 "cells": [
  {
   "attachments": {},
   "cell_type": "markdown",
   "metadata": {},
   "source": [
    "# **GIAI ĐOẠN 2: TIỀN XỬ LÝ VÀ KHÁM PHÁ DỮ LIỆU**\n",
    "---"
   ]
  },
  {
   "attachments": {},
   "cell_type": "markdown",
   "metadata": {},
   "source": [
    "## <p style=\"text-align: center;\">**Phần 1 - Nạp các thư viện cần thiết** <a name=\"answer-the-question\"></a></p> "
   ]
  },
  {
   "attachments": {},
   "cell_type": "markdown",
   "metadata": {},
   "source": [
    "Cài đặt thêm thư viện ipynb để có thể import các variable từ các file notebook khác"
   ]
  },
  {
   "cell_type": "code",
   "execution_count": 1,
   "metadata": {},
   "outputs": [
    {
     "name": "stdout",
     "output_type": "stream",
     "text": [
      "Requirement already satisfied: ipynb in /Users/quytrungg/.pyenv/versions/3.10.6/lib/python3.10/site-packages (0.5.1)\n"
     ]
    }
   ],
   "source": [
    "! pip install ipynb"
   ]
  },
  {
   "attachments": {},
   "cell_type": "markdown",
   "metadata": {},
   "source": [
    "Thư viện thêm đường dẫn ở pha 1 vào trong jupyter notebook ở pha 2 để tiện lấy biến đã được tạo ở pha trước. "
   ]
  },
  {
   "cell_type": "code",
   "execution_count": 2,
   "metadata": {},
   "outputs": [],
   "source": [
    "import sys  \n",
    "sys.path.insert(0, '../phase_1_data_collection')"
   ]
  },
  {
   "attachments": {},
   "cell_type": "markdown",
   "metadata": {},
   "source": [
    "Các thư viện dùng để xử lý trên tập dữ liệu, trực quan dữ liệu, thao tác trên dữ liệu: "
   ]
  },
  {
   "cell_type": "code",
   "execution_count": 3,
   "metadata": {},
   "outputs": [],
   "source": [
    "import pandas as pd\n",
    "import numpy as np\n",
    "import matplotlib.pyplot as plt\n",
    "pd.set_option('mode.chained_assignment', None)\n",
    "\n",
    "# Lấy biến df_credits_craw từ notebook pha trước\n",
    "from ipynb.fs.full.data_collection import df_credits_raw"
   ]
  },
  {
   "attachments": {},
   "cell_type": "markdown",
   "metadata": {},
   "source": [
    "---\n",
    "## <p style=\"text-align: center;\">**Phần 2 - Khám phá và tiền xử lý dữ liệu** <a name=\"answer-the-question\"></a></p> \n",
    "\n",
    "### <p style=\"text-align: center;\">**2.1 - Số hàng và cột của dữ liệu:**</p>  \n",
    "\n",
    "Trước khi làm việc trên toàn bộ tập dữ liệu thì đầu tiên nhóm em kiểm tra số dòng và số cột ban đầu của dữ liệu đó.\n",
    "\n",
    "Số hàng và cột của dữ liệu được lưu lần lượt vào biến `credits_rows` và `credits_columns`."
   ]
  },
  {
   "cell_type": "code",
   "execution_count": 4,
   "metadata": {},
   "outputs": [
    {
     "name": "stdout",
     "output_type": "stream",
     "text": [
      "Số hàng của dữ liệu:  268429\n",
      "Số cột của dữ liệu:  5\n"
     ]
    }
   ],
   "source": [
    "credits_rows, credits_columns = df_credits_raw.shape\n",
    "\n",
    "print(\"Số hàng của dữ liệu: \", credits_rows)\n",
    "print(\"Số cột của dữ liệu: \", credits_columns)"
   ]
  },
  {
   "attachments": {},
   "cell_type": "markdown",
   "metadata": {},
   "source": [
    "### <p style=\"text-align: center;\">**2.2 - Ý nghĩa của mỗi cột và mỗi hàng:**</p>  \n",
    "\n",
    "Khái quát về bộ dữ liệu credits: Bộ dữ liệu này lấy từ trang JustWatch. Nhiệm vụ của nó là dùng để ghi lại thông tin của đạo diễn và diễn viên của các phim mà họ diễn/chỉ đạo trước đây.\n",
    "\n",
    "Để có cái nhìn khái quát về dữ liệu thì đầu tiên, nhóm em phải xem sơ qua về 5 dòng đầu tiên cùng các thuộc tính chính của nguyên bộ dữ liệu credits:"
   ]
  },
  {
   "cell_type": "code",
   "execution_count": 5,
   "metadata": {},
   "outputs": [
    {
     "data": {
      "text/html": [
       "<div>\n",
       "<style scoped>\n",
       "    .dataframe tbody tr th:only-of-type {\n",
       "        vertical-align: middle;\n",
       "    }\n",
       "\n",
       "    .dataframe tbody tr th {\n",
       "        vertical-align: top;\n",
       "    }\n",
       "\n",
       "    .dataframe thead th {\n",
       "        text-align: right;\n",
       "    }\n",
       "</style>\n",
       "<table border=\"1\" class=\"dataframe\">\n",
       "  <thead>\n",
       "    <tr style=\"text-align: right;\">\n",
       "      <th></th>\n",
       "      <th>person_id</th>\n",
       "      <th>id</th>\n",
       "      <th>name</th>\n",
       "      <th>character</th>\n",
       "      <th>role</th>\n",
       "    </tr>\n",
       "  </thead>\n",
       "  <tbody>\n",
       "    <tr>\n",
       "      <th>0</th>\n",
       "      <td>59401</td>\n",
       "      <td>ts20945</td>\n",
       "      <td>Joe Besser</td>\n",
       "      <td>Joe</td>\n",
       "      <td>ACTOR</td>\n",
       "    </tr>\n",
       "    <tr>\n",
       "      <th>1</th>\n",
       "      <td>31460</td>\n",
       "      <td>ts20945</td>\n",
       "      <td>Moe Howard</td>\n",
       "      <td>Moe</td>\n",
       "      <td>ACTOR</td>\n",
       "    </tr>\n",
       "    <tr>\n",
       "      <th>2</th>\n",
       "      <td>31461</td>\n",
       "      <td>ts20945</td>\n",
       "      <td>Larry Fine</td>\n",
       "      <td>Larry</td>\n",
       "      <td>ACTOR</td>\n",
       "    </tr>\n",
       "    <tr>\n",
       "      <th>3</th>\n",
       "      <td>21174</td>\n",
       "      <td>tm19248</td>\n",
       "      <td>Buster Keaton</td>\n",
       "      <td>Johnny Gray</td>\n",
       "      <td>ACTOR</td>\n",
       "    </tr>\n",
       "    <tr>\n",
       "      <th>4</th>\n",
       "      <td>28713</td>\n",
       "      <td>tm19248</td>\n",
       "      <td>Marion Mack</td>\n",
       "      <td>Annabelle Lee</td>\n",
       "      <td>ACTOR</td>\n",
       "    </tr>\n",
       "  </tbody>\n",
       "</table>\n",
       "</div>"
      ],
      "text/plain": [
       "   person_id       id           name      character   role\n",
       "0      59401  ts20945     Joe Besser            Joe  ACTOR\n",
       "1      31460  ts20945     Moe Howard            Moe  ACTOR\n",
       "2      31461  ts20945     Larry Fine          Larry  ACTOR\n",
       "3      21174  tm19248  Buster Keaton    Johnny Gray  ACTOR\n",
       "4      28713  tm19248    Marion Mack  Annabelle Lee  ACTOR"
      ]
     },
     "execution_count": 5,
     "metadata": {},
     "output_type": "execute_result"
    }
   ],
   "source": [
    "df_credits_raw.head()"
   ]
  },
  {
   "attachments": {},
   "cell_type": "markdown",
   "metadata": {},
   "source": [
    "\n",
    "Để ghi lại thông tin, bảng dữ liệu sử dụng các thuộc tính sau đây:\n",
    "- **persion_id** (cột thứ nhất): ID người diễn viên/đạo diễn trên JustWatch.\n",
    "- **id** (cột thứ hai): ID bộ phim trên JustWatch.\n",
    "- **name** (cột thứ ba): Tên của đạo diễn hoặc diễn viên.\n",
    "- **character** (cột thứ tư): Tên nhân vật người đó đóng.\n",
    "- **role** (cột thứ năm): Vai trò là ACTOR (diễn viên) hay DIRECTOR (đạo diễn).\n",
    "\n",
    "Như vậy, với mỗi dòng khác nhau, ta có được thông tin về tên thật, tên nhân vật, vai trò,... của một diễn viên hay một đạo diễn phim nào đó. Các hàng không có điểm gì bất thường (ngoại trừ bị trùng lắp)."
   ]
  },
  {
   "attachments": {},
   "cell_type": "markdown",
   "metadata": {},
   "source": [
    "### <p style=\"text-align: center;\">**2.3 - Về việc trùng lặp các hàng:**</p>  \n",
    "\n",
    "Kiểm tra việc trùng lặp dữ liệu sẽ giảm thiểu được các vấn đề tiềm ẩn như là: lãng phí tài nguyên lưu trữ, bộ dữ liệu trở nên bị nhiễu, gây ra các nhầm lẫn... \n",
    "\n",
    "Để phân tích dữ liệu được rõ ràng và chính xác hơn, nhóm tiến hành đếm bộ dữ liệu có bao nhiêu hàng trùng lắp (lưu vào biến `num_duplicate_data`) và xóa những hàng đó đi bằng các hàm của pandas."
   ]
  },
  {
   "cell_type": "code",
   "execution_count": 6,
   "metadata": {},
   "outputs": [
    {
     "name": "stdout",
     "output_type": "stream",
     "text": [
      "Số giá trị bị trùng lắp:  4249\n"
     ]
    }
   ],
   "source": [
    "# Đếm số giá trị trùng.\n",
    "num_duplicate_data = df_credits_raw.duplicated().sum()\n",
    "print(\"Số giá trị bị trùng lắp: \", num_duplicate_data)"
   ]
  },
  {
   "attachments": {},
   "cell_type": "markdown",
   "metadata": {},
   "source": [
    "---\n",
    "**TIỀN XỬ LÝ DỮ LIỆU**: XÓA CÁC HÀNG TRÙNG"
   ]
  },
  {
   "cell_type": "code",
   "execution_count": 7,
   "metadata": {},
   "outputs": [],
   "source": [
    "df_credits = df_credits_raw.drop_duplicates()"
   ]
  },
  {
   "attachments": {},
   "cell_type": "markdown",
   "metadata": {},
   "source": [
    "### <p style=\"text-align: center;\">**2.4 - Kiểu dữ liệu mỗi cột:**</p>  \n",
    "Việc lựa chọn kiểu dữ liệu phù hợp sẽ làm cho các tác vụ phân tích tránh bị lỗi, dễ dàng, lựa chọn các hàm và thư viện phù hợp để xử lý nó.\n",
    "\n",
    "Trước khi tiến hành tiền xử lý, sử dụng hàm `open_object_dtype(s)` để lấy ra kiểu dữ liệu thực sự mà các cột đang chứa:"
   ]
  },
  {
   "cell_type": "code",
   "execution_count": 8,
   "metadata": {},
   "outputs": [],
   "source": [
    "# Sử dụng hàm aply để lấy kiểu dữ liệu thực sự:\n",
    "def open_object_dtype(s):\n",
    "    dtypes = set()\n",
    "    \n",
    "    func = lambda e: dtypes.add(type(e))\n",
    "    s.apply(func)\n",
    "    \n",
    "    return dtypes"
   ]
  },
  {
   "attachments": {},
   "cell_type": "markdown",
   "metadata": {},
   "source": [
    "Kiểu dữ liệu mong muốn dựa trên dữ liệu:"
   ]
  },
  {
   "cell_type": "code",
   "execution_count": 9,
   "metadata": {},
   "outputs": [
    {
     "name": "stdout",
     "output_type": "stream",
     "text": [
      "person_id : {<class 'int'>}\n",
      "id : {<class 'str'>}\n",
      "name : {<class 'str'>}\n",
      "character : {<class 'float'>, <class 'str'>}\n",
      "role : {<class 'str'>}\n"
     ]
    }
   ],
   "source": [
    "df_credits_columns = df_credits.columns.to_list() \n",
    "for col in df_credits_columns:\n",
    "    print(col, \":\", open_object_dtype(df_credits[col]))"
   ]
  },
  {
   "attachments": {},
   "cell_type": "markdown",
   "metadata": {},
   "source": [
    "Xuất ra kiểu dữ liệu lúc chưa xử lý:"
   ]
  },
  {
   "cell_type": "code",
   "execution_count": 10,
   "metadata": {},
   "outputs": [
    {
     "data": {
      "text/plain": [
       "person_id     int64\n",
       "id           object\n",
       "name         object\n",
       "character    object\n",
       "role         object\n",
       "dtype: object"
      ]
     },
     "execution_count": 10,
     "metadata": {},
     "output_type": "execute_result"
    }
   ],
   "source": [
    "dtypes = df_credits.dtypes\n",
    "dtypes"
   ]
  },
  {
   "attachments": {},
   "cell_type": "markdown",
   "metadata": {},
   "source": [
    "Như vậy, dựa vào kết quả trả ra của hàm trên, nhóm em thấy kỳ vọng về kiểu dữ liệu mong muốn khớp hoàn toàn với kiểu dữ liệu gốc."
   ]
  },
  {
   "attachments": {},
   "cell_type": "markdown",
   "metadata": {},
   "source": [
    "### <p style=\"text-align: center;\">**2.5 - Thống kê sự thiếu dữ liệu của DataFrame:**</p>  \n",
    "\n",
    "Để xem cột nào có bao nhiêu giá trị bị thiếu, nhóm em sử dụng phương thức `info` từ pandas để trả ra các bộ thống kê bao gồm tổng số dữ liệu không thiếu của một cột và kiểu của cột đó.\n",
    "\n",
    "Dựa vào bảng thống kê này, nhóm em còn nhận thấy được thuộc tính **character** bị thiếu rất nhiều dữ liệu và sẽ được đề cập ở các bước sau."
   ]
  },
  {
   "cell_type": "code",
   "execution_count": 11,
   "metadata": {},
   "outputs": [
    {
     "name": "stdout",
     "output_type": "stream",
     "text": [
      "<class 'pandas.core.frame.DataFrame'>\n",
      "Int64Index: 264180 entries, 0 to 77800\n",
      "Data columns (total 5 columns):\n",
      " #   Column     Non-Null Count   Dtype \n",
      "---  ------     --------------   ----- \n",
      " 0   person_id  264180 non-null  int64 \n",
      " 1   id         264180 non-null  object\n",
      " 2   name       264180 non-null  object\n",
      " 3   character  233894 non-null  object\n",
      " 4   role       264180 non-null  object\n",
      "dtypes: int64(1), object(4)\n",
      "memory usage: 12.1+ MB\n"
     ]
    }
   ],
   "source": [
    "df_credits.info()"
   ]
  },
  {
   "attachments": {},
   "cell_type": "markdown",
   "metadata": {},
   "source": [
    "### <p style=\"text-align: center;\">**2.6 - Độ quan trọng của thuộc tính:**</p>  \n",
    "\n",
    "Việc xóa những thuộc tính không quan trọng sẽ giúp cho bộ dữ liệu không bị rối và quá trình tính toán được nhanh hơn hơn do bỏ bớt thuộc tính không cần xét tới.\n",
    "\n",
    "Để xóa được các thuộc tính đó, trước tiên nhóm em xác định xem những thuộc tính nào không quan trọng cũng như các tác vụ khám phá dữ liệu kế tiếp có đề cập đến nó nữa hay không:\n",
    "- Các cột **name**, **character**, **role**, **id** còn khai thác được rất nhiều ở pha 3 - phân tích dữ liệu.\n",
    "- Cột còn lại là **person_id** không cần thiết lắm cho các quá trình sau vì đã có cột **name** đại diện cho một diễn viên/đạo diễn và đồng thời thuộc tính này không có điểm chung để gộp bảng với bộ dữ liệu titles. Như vậy, nhóm tiến hành xóa cột này:"
   ]
  },
  {
   "attachments": {},
   "cell_type": "markdown",
   "metadata": {},
   "source": [
    "---\n",
    "**TIỀN XỬ LÝ DỮ LIỆU**: XÓA CỘT KHÔNG CẦN THIẾT"
   ]
  },
  {
   "cell_type": "code",
   "execution_count": 12,
   "metadata": {},
   "outputs": [],
   "source": [
    "df_credits.drop('person_id', inplace=True, axis=1, errors='ignore')"
   ]
  },
  {
   "attachments": {},
   "cell_type": "markdown",
   "metadata": {},
   "source": [
    "### <p style=\"text-align: center;\">**2.7 - Phân loại thuộc tính:**</p>  \n",
    "- Thuộc tính category có duy nhất thuộc tính **role** để phân loại vai trò ACTOR hay DIRECTOR của một người.\n",
    "- Các thuộc tính còn lại không xét đến phân phối giá trị của nó mà nhóm chỉ quan tâm vào **role**."
   ]
  },
  {
   "attachments": {},
   "cell_type": "markdown",
   "metadata": {},
   "source": [
    "#### <p style=\"text-align: center;\">**2.7.1 - Phân phối các giá trị trong thuộc tính category:**</p>  \n",
    "\n",
    "Bộ dữ liệu credits chỉ có cột character là bị thiếu dữ liệu (thiếu đến 30286), các cột còn lại đều đây đủ."
   ]
  },
  {
   "cell_type": "code",
   "execution_count": 13,
   "metadata": {},
   "outputs": [
    {
     "data": {
      "text/plain": [
       "id               0\n",
       "name             0\n",
       "character    30286\n",
       "role             0\n",
       "dtype: int64"
      ]
     },
     "execution_count": 13,
     "metadata": {},
     "output_type": "execute_result"
    }
   ],
   "source": [
    "null_columns = df_credits.isnull().sum()\n",
    "null_columns"
   ]
  },
  {
   "attachments": {},
   "cell_type": "markdown",
   "metadata": {},
   "source": [
    "Tỷ lệ phần trăm dữ liệu bị thiếu trong các cột (dường như cũng là cột phân loại) được tính như sau:"
   ]
  },
  {
   "cell_type": "code",
   "execution_count": 14,
   "metadata": {},
   "outputs": [
    {
     "data": {
      "text/plain": [
       "character    11.46\n",
       "dtype: float64"
      ]
     },
     "execution_count": 14,
     "metadata": {},
     "output_type": "execute_result"
    }
   ],
   "source": [
    "def missing_ratio(c):\n",
    "    return c.isnull().sum() / c.__len__() * 100\n",
    "\n",
    "df_credits[null_columns[null_columns.values > 0].keys()].agg(missing_ratio).round(2)"
   ]
  },
  {
   "attachments": {},
   "cell_type": "markdown",
   "metadata": {},
   "source": [
    "Phần trăm tỷ lệ thiếu của cột **character** khá là ít, không ảnh hưởng nhiều đến tổng thể.\n",
    "\n",
    "Để giải thích cho sự thiếu dữ liệu thì chúng thuộc phân loại DIRECTOR (đạo diễn), không có tên nhân vật, chỉ những ACTOR tham gia đóng phim mới có."
   ]
  },
  {
   "attachments": {},
   "cell_type": "markdown",
   "metadata": {},
   "source": [
    "### <p style=\"text-align: center;\">**2.8 - Khám phá dữ liệu từng cột:**</p>  \n",
    "\n",
    "#### <p style=\"text-align: center;\">**2.8.1 - Khám phá dữ liệu cột name:**</p> \n",
    "Cột **name** chứa tên diên viên/đạo diễn của một bộ phim. Như vậy, tên có thể trùng vì họ có thể đóng hoặc đạo diễn cho nhiều phim.\n",
    "\n",
    "Đoạn code bên dưới tiến hành đếm tần xuất xuất hiện của những cái tên có trong bộ dữ liệu, có lẽ sẽ để dành cho pha sau (tìm top 10 diễn viên hoặc đạo diễn tham gia đóng/đạo diễn bộ phim)."
   ]
  },
  {
   "cell_type": "code",
   "execution_count": 15,
   "metadata": {},
   "outputs": [
    {
     "data": {
      "text/plain": [
       "Grey DeLisle                80\n",
       "Frank Welker                74\n",
       "Kevin Michael Richardson    64\n",
       "Tara Strong                 62\n",
       "Bess Flowers                60\n",
       "                            ..\n",
       "Aaron Maynard                1\n",
       "Sydney Peterson              1\n",
       "Griffin Duy                  1\n",
       "Paul Milotte                 1\n",
       "Julian Gaviria               1\n",
       "Name: name, Length: 144587, dtype: int64"
      ]
     },
     "execution_count": 15,
     "metadata": {},
     "output_type": "execute_result"
    }
   ],
   "source": [
    "df_credits['name'].value_counts()"
   ]
  },
  {
   "attachments": {},
   "cell_type": "markdown",
   "metadata": {},
   "source": [
    "Vậy, có tất cả bao nhiêu đạo diễn và diễn viên hết tất cả và họ là ai?"
   ]
  },
  {
   "cell_type": "code",
   "execution_count": 16,
   "metadata": {},
   "outputs": [
    {
     "name": "stdout",
     "output_type": "stream",
     "text": [
      "Số diễn viên, đạo diễn:  144587\n"
     ]
    }
   ],
   "source": [
    "print(\"Số diễn viên, đạo diễn: \", df_credits['name'].nunique())"
   ]
  },
  {
   "cell_type": "code",
   "execution_count": 17,
   "metadata": {},
   "outputs": [
    {
     "data": {
      "text/plain": [
       "array(['Joe Besser', 'Moe Howard', 'Larry Fine', ...,\n",
       "       'Luz Stella Luengas', 'Isabel Gaona', 'Julian Gaviria'],\n",
       "      dtype=object)"
      ]
     },
     "execution_count": 17,
     "metadata": {},
     "output_type": "execute_result"
    }
   ],
   "source": [
    "# Mảng chứa các diễn viên, đạo diễn:\n",
    "list_creator_actor = df_credits['name'].unique()\n",
    "list_creator_actor"
   ]
  },
  {
   "attachments": {},
   "cell_type": "markdown",
   "metadata": {},
   "source": [
    "#### <p style=\"text-align: center;\">**2.8.2 - Khám phá dữ liệu cột character:**</p> \n",
    "\n",
    "Cột character chứa tên của các nhân vật mà diễn viên đóng. Vì đạo diễn sẽ không đóng phim nên thuộc tính này của họ là giá trị rỗng. Việc tính toán giá trị rỗng sẽ khó khăn hơn khi nó chỉ là một thông tin trống không, vậy nên nhóm em sẽ dùng hàm fillna để fill NaN cho các dữ liệu thiếu.\n",
    "\n",
    "Đầu tiên, tìm số lượng nhân vật và các nhân vật diên viên đóng:"
   ]
  },
  {
   "cell_type": "code",
   "execution_count": 18,
   "metadata": {},
   "outputs": [
    {
     "name": "stdout",
     "output_type": "stream",
     "text": [
      "Số nhân vật mà diễn viên đóng:  145601\n"
     ]
    }
   ],
   "source": [
    "print(\"Số nhân vật mà diễn viên đóng: \", df_credits['character'].nunique())"
   ]
  },
  {
   "cell_type": "code",
   "execution_count": 19,
   "metadata": {},
   "outputs": [
    {
     "data": {
      "text/plain": [
       "array(['Joe', 'Moe', 'Larry', ..., 'María Paz', 'Karen Bayona', 'Cacica'],\n",
       "      dtype=object)"
      ]
     },
     "execution_count": 19,
     "metadata": {},
     "output_type": "execute_result"
    }
   ],
   "source": [
    "# Mảng chứa các tên nhân vật:\n",
    "\n",
    "list_character = df_credits['character'].unique()\n",
    "list_character"
   ]
  },
  {
   "attachments": {},
   "cell_type": "markdown",
   "metadata": {},
   "source": [
    "---\n",
    "**TIỀN XỬ LÝ DỮ LIỆU:** FILL NAN VÀO DỮ LIỆU THIẾU"
   ]
  },
  {
   "cell_type": "code",
   "execution_count": 20,
   "metadata": {},
   "outputs": [],
   "source": [
    "df_credits['character'] = df_credits['character'].fillna('None')"
   ]
  },
  {
   "attachments": {},
   "cell_type": "markdown",
   "metadata": {},
   "source": [
    "#### <p style=\"text-align: center;\">**2.8.3 - Khám phá dữ liệu cột role:**</p> "
   ]
  },
  {
   "attachments": {},
   "cell_type": "markdown",
   "metadata": {},
   "source": [
    "Ở đây, nhóm em chỉ đếm số lượng đạo diễn và diễn viên để xem bộ dữ liệu nghiêng về bên nào hơn."
   ]
  },
  {
   "cell_type": "code",
   "execution_count": 21,
   "metadata": {},
   "outputs": [
    {
     "data": {
      "text/plain": [
       "ACTOR       248640\n",
       "DIRECTOR     15540\n",
       "Name: role, dtype: int64"
      ]
     },
     "execution_count": 21,
     "metadata": {},
     "output_type": "execute_result"
    }
   ],
   "source": [
    "df_credits['role'].value_counts()"
   ]
  },
  {
   "attachments": {},
   "cell_type": "markdown",
   "metadata": {},
   "source": [
    "plot biểu đồ tròn xem phần trăm đạo diễn/diễn viên chiếm bao nhiêu trên tổng số người:"
   ]
  },
  {
   "cell_type": "code",
   "execution_count": 22,
   "metadata": {},
   "outputs": [
    {
     "data": {
      "text/plain": [
       "([<matplotlib.patches.Wedge at 0x120980220>,\n",
       "  <matplotlib.patches.Wedge at 0x120980a30>],\n",
       " [Text(-1.2975244942544102, 0.2425493492257541, 'ACTOR'),\n",
       "  Text(1.2975244970930488, -0.24254933404037807, 'DIRECTOR')],\n",
       " [Text(-0.7077406332296783, 0.1322996450322295, '94.1%'),\n",
       "  Text(0.7077406347780265, -0.13229963674929712, '5.9%')])"
      ]
     },
     "execution_count": 22,
     "metadata": {},
     "output_type": "execute_result"
    },
    {
     "data": {
      "image/png": "[encoded data removed]",
      "text/plain": [
       "<Figure size 800x500 with 1 Axes>"
      ]
     },
     "metadata": {},
     "output_type": "display_data"
    }
   ],
   "source": [
    "plt.figure(figsize=(8, 5))\n",
    "plt.title('Actors and Directors', fontsize=18)\n",
    "plt.pie(df_credits['role'].value_counts(),\n",
    "        labels=['ACTOR', 'DIRECTOR'],\n",
    "        textprops={'fontsize': 13},\n",
    "        radius=1.2, startangle=0,\n",
    "        colors=['#af0055', '#D05C9C'],\n",
    "        autopct='%.1f%%')"
   ]
  },
  {
   "cell_type": "code",
   "execution_count": 23,
   "metadata": {},
   "outputs": [
    {
     "data": {
      "text/html": [
       "<div>\n",
       "<style scoped>\n",
       "    .dataframe tbody tr th:only-of-type {\n",
       "        vertical-align: middle;\n",
       "    }\n",
       "\n",
       "    .dataframe tbody tr th {\n",
       "        vertical-align: top;\n",
       "    }\n",
       "\n",
       "    .dataframe thead th {\n",
       "        text-align: right;\n",
       "    }\n",
       "</style>\n",
       "<table border=\"1\" class=\"dataframe\">\n",
       "  <thead>\n",
       "    <tr style=\"text-align: right;\">\n",
       "      <th></th>\n",
       "      <th>id</th>\n",
       "      <th>character</th>\n",
       "      <th>role</th>\n",
       "    </tr>\n",
       "    <tr>\n",
       "      <th>name</th>\n",
       "      <th></th>\n",
       "      <th></th>\n",
       "      <th></th>\n",
       "    </tr>\n",
       "  </thead>\n",
       "  <tbody>\n",
       "    <tr>\n",
       "      <th>Joe Besser</th>\n",
       "      <td>ts20945</td>\n",
       "      <td>Joe</td>\n",
       "      <td>ACTOR</td>\n",
       "    </tr>\n",
       "    <tr>\n",
       "      <th>Moe Howard</th>\n",
       "      <td>ts20945</td>\n",
       "      <td>Moe</td>\n",
       "      <td>ACTOR</td>\n",
       "    </tr>\n",
       "    <tr>\n",
       "      <th>Larry Fine</th>\n",
       "      <td>ts20945</td>\n",
       "      <td>Larry</td>\n",
       "      <td>ACTOR</td>\n",
       "    </tr>\n",
       "    <tr>\n",
       "      <th>Buster Keaton</th>\n",
       "      <td>tm19248</td>\n",
       "      <td>Johnny Gray</td>\n",
       "      <td>ACTOR</td>\n",
       "    </tr>\n",
       "    <tr>\n",
       "      <th>Marion Mack</th>\n",
       "      <td>tm19248</td>\n",
       "      <td>Annabelle Lee</td>\n",
       "      <td>ACTOR</td>\n",
       "    </tr>\n",
       "    <tr>\n",
       "      <th>...</th>\n",
       "      <td>...</td>\n",
       "      <td>...</td>\n",
       "      <td>...</td>\n",
       "    </tr>\n",
       "    <tr>\n",
       "      <th>Adelaida Buscato</th>\n",
       "      <td>tm1059008</td>\n",
       "      <td>María Paz</td>\n",
       "      <td>ACTOR</td>\n",
       "    </tr>\n",
       "    <tr>\n",
       "      <th>Luz Stella Luengas</th>\n",
       "      <td>tm1059008</td>\n",
       "      <td>Karen Bayona</td>\n",
       "      <td>ACTOR</td>\n",
       "    </tr>\n",
       "    <tr>\n",
       "      <th>Inés Prieto</th>\n",
       "      <td>tm1059008</td>\n",
       "      <td>Fanny</td>\n",
       "      <td>ACTOR</td>\n",
       "    </tr>\n",
       "    <tr>\n",
       "      <th>Isabel Gaona</th>\n",
       "      <td>tm1059008</td>\n",
       "      <td>Cacica</td>\n",
       "      <td>ACTOR</td>\n",
       "    </tr>\n",
       "    <tr>\n",
       "      <th>Julian Gaviria</th>\n",
       "      <td>tm1059008</td>\n",
       "      <td>None</td>\n",
       "      <td>DIRECTOR</td>\n",
       "    </tr>\n",
       "  </tbody>\n",
       "</table>\n",
       "<p>264180 rows × 3 columns</p>\n",
       "</div>"
      ],
      "text/plain": [
       "                           id      character      role\n",
       "name                                                  \n",
       "Joe Besser            ts20945            Joe     ACTOR\n",
       "Moe Howard            ts20945            Moe     ACTOR\n",
       "Larry Fine            ts20945          Larry     ACTOR\n",
       "Buster Keaton         tm19248    Johnny Gray     ACTOR\n",
       "Marion Mack           tm19248  Annabelle Lee     ACTOR\n",
       "...                       ...            ...       ...\n",
       "Adelaida Buscato    tm1059008      María Paz     ACTOR\n",
       "Luz Stella Luengas  tm1059008   Karen Bayona     ACTOR\n",
       "Inés Prieto         tm1059008          Fanny     ACTOR\n",
       "Isabel Gaona        tm1059008         Cacica     ACTOR\n",
       "Julian Gaviria      tm1059008           None  DIRECTOR\n",
       "\n",
       "[264180 rows x 3 columns]"
      ]
     },
     "execution_count": 23,
     "metadata": {},
     "output_type": "execute_result"
    }
   ],
   "source": [
    "df_credits.set_index('name')"
   ]
  },
  {
   "cell_type": "code",
   "execution_count": 24,
   "metadata": {},
   "outputs": [
    {
     "name": "stdout",
     "output_type": "stream",
     "text": [
      "Stored 'df_credits' (DataFrame)\n"
     ]
    }
   ],
   "source": [
    "%store df_credits"
   ]
  },
  {
   "attachments": {},
   "cell_type": "markdown",
   "metadata": {},
   "source": [
    "---\n",
    "HẾT PHA 2 CỦA FILE CREDITS"
   ]
  }
 ],
 "metadata": {
  "kernelspec": {
   "display_name": "Python 3",
   "language": "python",
   "name": "python3"
  },
  "language_info": {
   "codemirror_mode": {
    "name": "ipython",
    "version": 3
   },
   "file_extension": ".py",
   "mimetype": "text/x-python",
   "name": "python",
   "nbconvert_exporter": "python",
   "pygments_lexer": "ipython3",
   "version": "3.10.6"
  },
  "orig_nbformat": 4,
  "vscode": {
   "interpreter": {
    "hash": "89e8354a88354ecf7ffb299b56239fb0ecc48c48d372ba43f5b93cc4e944f72d"
   }
  }
 },
 "nbformat": 4,
 "nbformat_minor": 2
}
