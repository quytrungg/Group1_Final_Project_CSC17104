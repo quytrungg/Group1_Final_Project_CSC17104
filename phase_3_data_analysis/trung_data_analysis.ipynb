{
 "cells": [
  {
   "cell_type": "code",
   "execution_count": 4,
   "metadata": {},
   "outputs": [],
   "source": [
    "import pandas as pd\n",
    "import numpy as np\n",
    "import matplotlib.pyplot as plt\n",
    "import seaborn as sns \n",
    "import plotly as px"
   ]
  },
  {
   "cell_type": "code",
   "execution_count": 2,
   "metadata": {},
   "outputs": [],
   "source": [
    "%store -r df_titles\n",
    "%store -r df_credits\n",
    "\n",
    "df_titles = df_titles\n",
    "df_credits = df_credits"
   ]
  },
  {
   "cell_type": "code",
   "execution_count": 3,
   "metadata": {},
   "outputs": [
    {
     "data": {
      "text/html": [
       "<div>\n",
       "<style scoped>\n",
       "    .dataframe tbody tr th:only-of-type {\n",
       "        vertical-align: middle;\n",
       "    }\n",
       "\n",
       "    .dataframe tbody tr th {\n",
       "        vertical-align: top;\n",
       "    }\n",
       "\n",
       "    .dataframe thead th {\n",
       "        text-align: right;\n",
       "    }\n",
       "</style>\n",
       "<table border=\"1\" class=\"dataframe\">\n",
       "  <thead>\n",
       "    <tr style=\"text-align: right;\">\n",
       "      <th></th>\n",
       "      <th>id</th>\n",
       "      <th>title</th>\n",
       "      <th>type</th>\n",
       "      <th>release_year</th>\n",
       "      <th>age_certification</th>\n",
       "      <th>runtime</th>\n",
       "      <th>genres</th>\n",
       "      <th>production_countries</th>\n",
       "      <th>seasons</th>\n",
       "      <th>imdb_id</th>\n",
       "      <th>imdb_score</th>\n",
       "      <th>imdb_votes</th>\n",
       "      <th>tmdb_popularity</th>\n",
       "      <th>tmdb_score</th>\n",
       "      <th>main_production_countries</th>\n",
       "      <th>main_genre</th>\n",
       "    </tr>\n",
       "  </thead>\n",
       "  <tbody>\n",
       "    <tr>\n",
       "      <th>0</th>\n",
       "      <td>ts20945</td>\n",
       "      <td>The Three Stooges</td>\n",
       "      <td>SHOW</td>\n",
       "      <td>1934</td>\n",
       "      <td>TV-PG</td>\n",
       "      <td>19</td>\n",
       "      <td>comedy, family, animation, action, fantasy, ho...</td>\n",
       "      <td>US</td>\n",
       "      <td>26.0</td>\n",
       "      <td>tt0850645</td>\n",
       "      <td>8.6</td>\n",
       "      <td>1092.0</td>\n",
       "      <td>15.424</td>\n",
       "      <td>7.6</td>\n",
       "      <td>US</td>\n",
       "      <td>comedy</td>\n",
       "    </tr>\n",
       "    <tr>\n",
       "      <th>1</th>\n",
       "      <td>tm19248</td>\n",
       "      <td>The General</td>\n",
       "      <td>MOVIE</td>\n",
       "      <td>1926</td>\n",
       "      <td>NONE</td>\n",
       "      <td>78</td>\n",
       "      <td>action, drama, war, western, comedy, european</td>\n",
       "      <td>US</td>\n",
       "      <td>0.0</td>\n",
       "      <td>tt0017925</td>\n",
       "      <td>8.2</td>\n",
       "      <td>89766.0</td>\n",
       "      <td>8.647</td>\n",
       "      <td>8.0</td>\n",
       "      <td>US</td>\n",
       "      <td>action</td>\n",
       "    </tr>\n",
       "    <tr>\n",
       "      <th>2</th>\n",
       "      <td>tm82253</td>\n",
       "      <td>The Best Years of Our Lives</td>\n",
       "      <td>MOVIE</td>\n",
       "      <td>1946</td>\n",
       "      <td>NONE</td>\n",
       "      <td>171</td>\n",
       "      <td>romance, war, drama</td>\n",
       "      <td>US</td>\n",
       "      <td>0.0</td>\n",
       "      <td>tt0036868</td>\n",
       "      <td>8.1</td>\n",
       "      <td>63026.0</td>\n",
       "      <td>8.435</td>\n",
       "      <td>7.8</td>\n",
       "      <td>US</td>\n",
       "      <td>romance</td>\n",
       "    </tr>\n",
       "    <tr>\n",
       "      <th>3</th>\n",
       "      <td>tm83884</td>\n",
       "      <td>His Girl Friday</td>\n",
       "      <td>MOVIE</td>\n",
       "      <td>1940</td>\n",
       "      <td>NONE</td>\n",
       "      <td>92</td>\n",
       "      <td>comedy, drama, romance</td>\n",
       "      <td>US</td>\n",
       "      <td>0.0</td>\n",
       "      <td>tt0032599</td>\n",
       "      <td>7.8</td>\n",
       "      <td>57835.0</td>\n",
       "      <td>11.270</td>\n",
       "      <td>7.4</td>\n",
       "      <td>US</td>\n",
       "      <td>comedy</td>\n",
       "    </tr>\n",
       "    <tr>\n",
       "      <th>4</th>\n",
       "      <td>tm56584</td>\n",
       "      <td>In a Lonely Place</td>\n",
       "      <td>MOVIE</td>\n",
       "      <td>1950</td>\n",
       "      <td>NONE</td>\n",
       "      <td>94</td>\n",
       "      <td>thriller, drama, romance</td>\n",
       "      <td>US</td>\n",
       "      <td>0.0</td>\n",
       "      <td>tt0042593</td>\n",
       "      <td>7.9</td>\n",
       "      <td>30924.0</td>\n",
       "      <td>8.273</td>\n",
       "      <td>7.6</td>\n",
       "      <td>US</td>\n",
       "      <td>thriller</td>\n",
       "    </tr>\n",
       "  </tbody>\n",
       "</table>\n",
       "</div>"
      ],
      "text/plain": [
       "        id                        title   type  release_year  \\\n",
       "0  ts20945            The Three Stooges   SHOW          1934   \n",
       "1  tm19248                  The General  MOVIE          1926   \n",
       "2  tm82253  The Best Years of Our Lives  MOVIE          1946   \n",
       "3  tm83884              His Girl Friday  MOVIE          1940   \n",
       "4  tm56584            In a Lonely Place  MOVIE          1950   \n",
       "\n",
       "  age_certification  runtime  \\\n",
       "0             TV-PG       19   \n",
       "1              NONE       78   \n",
       "2              NONE      171   \n",
       "3              NONE       92   \n",
       "4              NONE       94   \n",
       "\n",
       "                                              genres production_countries  \\\n",
       "0  comedy, family, animation, action, fantasy, ho...                   US   \n",
       "1      action, drama, war, western, comedy, european                   US   \n",
       "2                                romance, war, drama                   US   \n",
       "3                             comedy, drama, romance                   US   \n",
       "4                           thriller, drama, romance                   US   \n",
       "\n",
       "   seasons    imdb_id  imdb_score  imdb_votes  tmdb_popularity  tmdb_score  \\\n",
       "0     26.0  tt0850645         8.6      1092.0           15.424         7.6   \n",
       "1      0.0  tt0017925         8.2     89766.0            8.647         8.0   \n",
       "2      0.0  tt0036868         8.1     63026.0            8.435         7.8   \n",
       "3      0.0  tt0032599         7.8     57835.0           11.270         7.4   \n",
       "4      0.0  tt0042593         7.9     30924.0            8.273         7.6   \n",
       "\n",
       "  main_production_countries main_genre  \n",
       "0                        US     comedy  \n",
       "1                        US     action  \n",
       "2                        US    romance  \n",
       "3                        US     comedy  \n",
       "4                        US   thriller  "
      ]
     },
     "execution_count": 3,
     "metadata": {},
     "output_type": "execute_result"
    }
   ],
   "source": [
    "df_titles.head()"
   ]
  },
  {
   "cell_type": "code",
   "execution_count": 5,
   "metadata": {},
   "outputs": [
    {
     "data": {
      "text/plain": [
       "US                    8824\n",
       "IN                    1660\n",
       "                      1160\n",
       "GB                    1028\n",
       "JP                     564\n",
       "                      ... \n",
       "US, CU                   1\n",
       "DE, NL, PL               1\n",
       "RO, ES, EE, ET, LV       1\n",
       "BE, FR, IE, LU           1\n",
       "PH, FO                   1\n",
       "Name: production_countries, Length: 928, dtype: int64"
      ]
     },
     "execution_count": 5,
     "metadata": {},
     "output_type": "execute_result"
    }
   ],
   "source": [
    "df_titles['production_countries'].value_counts()"
   ]
  },
  {
   "cell_type": "code",
   "execution_count": 7,
   "metadata": {},
   "outputs": [
    {
     "data": {
      "text/plain": [
       "array(['comedy', 'action', 'romance', 'thriller', 'western', 'drama',\n",
       "       'crime', 'history', 'horror', 'scifi', 'fantasy', 'documentation',\n",
       "       'war', '', 'music', 'reality', 'family', 'sport', 'animation',\n",
       "       'european'], dtype=object)"
      ]
     },
     "execution_count": 7,
     "metadata": {},
     "output_type": "execute_result"
    }
   ],
   "source": [
    "df_titles['main_genre'].unique()"
   ]
  },
  {
   "cell_type": "code",
   "execution_count": null,
   "metadata": {},
   "outputs": [],
   "source": []
  }
 ],
 "metadata": {
  "kernelspec": {
   "display_name": "Python 3",
   "language": "python",
   "name": "python3"
  },
  "language_info": {
   "codemirror_mode": {
    "name": "ipython",
    "version": 3
   },
   "file_extension": ".py",
   "mimetype": "text/x-python",
   "name": "python",
   "nbconvert_exporter": "python",
   "pygments_lexer": "ipython3",
   "version": "3.10.6"
  },
  "orig_nbformat": 4,
  "vscode": {
   "interpreter": {
    "hash": "89e8354a88354ecf7ffb299b56239fb0ecc48c48d372ba43f5b93cc4e944f72d"
   }
  }
 },
 "nbformat": 4,
 "nbformat_minor": 2
}
