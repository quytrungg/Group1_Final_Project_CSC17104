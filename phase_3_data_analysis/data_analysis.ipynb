{
 "cells": [
  {
   "attachments": {},
   "cell_type": "markdown",
   "metadata": {},
   "source": [
    "# Phase 3: Asking meaningful questions that need to be answered"
   ]
  },
  {
   "attachments": {},
   "cell_type": "markdown",
   "metadata": {},
   "source": [
    "Cài đặt thêm thư viện ipynb để có thể import các variable từ các file notebook khác"
   ]
  },
  {
   "cell_type": "code",
   "execution_count": 1,
   "metadata": {},
   "outputs": [
    {
     "name": "stdout",
     "output_type": "stream",
     "text": [
      "Requirement already satisfied: ipynb in /home/sukivn/anaconda3/envs/min_ds-env/lib/python3.10/site-packages (0.5.1)\n"
     ]
    }
   ],
   "source": [
    "! pip install ipynb"
   ]
  },
  {
   "cell_type": "code",
   "execution_count": 2,
   "metadata": {},
   "outputs": [],
   "source": [
    "import sys  \n",
    "sys.path.insert(0, '../phase_1_data_collection')\n",
    "sys.path.insert(0, '../phase_2_data_exploration')"
   ]
  },
  {
   "cell_type": "code",
   "execution_count": 3,
   "metadata": {},
   "outputs": [],
   "source": [
    "import pandas as pd\n",
    "import numpy as np\n",
    "import matplotlib.pyplot as plt\n",
    "import seaborn as sns"
   ]
  },
  {
   "cell_type": "code",
   "execution_count": 4,
   "metadata": {},
   "outputs": [],
   "source": [
    "%store -r df_titles\n",
    "%store -r df_credits\n",
    "\n",
    "df_titles = df_titles\n",
    "df_credits = df_credits"
   ]
  },
  {
   "cell_type": "code",
   "execution_count": 5,
   "metadata": {},
   "outputs": [
    {
     "data": {
      "text/html": [
       "<div>\n",
       "<style scoped>\n",
       "    .dataframe tbody tr th:only-of-type {\n",
       "        vertical-align: middle;\n",
       "    }\n",
       "\n",
       "    .dataframe tbody tr th {\n",
       "        vertical-align: top;\n",
       "    }\n",
       "\n",
       "    .dataframe thead th {\n",
       "        text-align: right;\n",
       "    }\n",
       "</style>\n",
       "<table border=\"1\" class=\"dataframe\">\n",
       "  <thead>\n",
       "    <tr style=\"text-align: right;\">\n",
       "      <th></th>\n",
       "      <th>id</th>\n",
       "      <th>title</th>\n",
       "      <th>type</th>\n",
       "      <th>release_year</th>\n",
       "      <th>age_certification</th>\n",
       "      <th>runtime</th>\n",
       "      <th>genres</th>\n",
       "      <th>production_countries</th>\n",
       "      <th>seasons</th>\n",
       "      <th>imdb_id</th>\n",
       "      <th>imdb_score</th>\n",
       "      <th>imdb_votes</th>\n",
       "      <th>tmdb_popularity</th>\n",
       "      <th>tmdb_score</th>\n",
       "      <th>main_production_countries</th>\n",
       "      <th>main_genre</th>\n",
       "    </tr>\n",
       "  </thead>\n",
       "  <tbody>\n",
       "    <tr>\n",
       "      <th>0</th>\n",
       "      <td>ts20945</td>\n",
       "      <td>The Three Stooges</td>\n",
       "      <td>SHOW</td>\n",
       "      <td>1934</td>\n",
       "      <td>TV-PG</td>\n",
       "      <td>19</td>\n",
       "      <td>comedy, family, animation, action, fantasy, ho...</td>\n",
       "      <td>US</td>\n",
       "      <td>26.0</td>\n",
       "      <td>tt0850645</td>\n",
       "      <td>8.6</td>\n",
       "      <td>1092.0</td>\n",
       "      <td>15.424</td>\n",
       "      <td>7.6</td>\n",
       "      <td>US</td>\n",
       "      <td>comedy</td>\n",
       "    </tr>\n",
       "    <tr>\n",
       "      <th>1</th>\n",
       "      <td>tm19248</td>\n",
       "      <td>The General</td>\n",
       "      <td>MOVIE</td>\n",
       "      <td>1926</td>\n",
       "      <td>NONE</td>\n",
       "      <td>78</td>\n",
       "      <td>action, drama, war, western, comedy, european</td>\n",
       "      <td>US</td>\n",
       "      <td>0.0</td>\n",
       "      <td>tt0017925</td>\n",
       "      <td>8.2</td>\n",
       "      <td>89766.0</td>\n",
       "      <td>8.647</td>\n",
       "      <td>8.0</td>\n",
       "      <td>US</td>\n",
       "      <td>action</td>\n",
       "    </tr>\n",
       "    <tr>\n",
       "      <th>2</th>\n",
       "      <td>tm82253</td>\n",
       "      <td>The Best Years of Our Lives</td>\n",
       "      <td>MOVIE</td>\n",
       "      <td>1946</td>\n",
       "      <td>NONE</td>\n",
       "      <td>171</td>\n",
       "      <td>romance, war, drama</td>\n",
       "      <td>US</td>\n",
       "      <td>0.0</td>\n",
       "      <td>tt0036868</td>\n",
       "      <td>8.1</td>\n",
       "      <td>63026.0</td>\n",
       "      <td>8.435</td>\n",
       "      <td>7.8</td>\n",
       "      <td>US</td>\n",
       "      <td>romance</td>\n",
       "    </tr>\n",
       "    <tr>\n",
       "      <th>3</th>\n",
       "      <td>tm83884</td>\n",
       "      <td>His Girl Friday</td>\n",
       "      <td>MOVIE</td>\n",
       "      <td>1940</td>\n",
       "      <td>NONE</td>\n",
       "      <td>92</td>\n",
       "      <td>comedy, drama, romance</td>\n",
       "      <td>US</td>\n",
       "      <td>0.0</td>\n",
       "      <td>tt0032599</td>\n",
       "      <td>7.8</td>\n",
       "      <td>57835.0</td>\n",
       "      <td>11.270</td>\n",
       "      <td>7.4</td>\n",
       "      <td>US</td>\n",
       "      <td>comedy</td>\n",
       "    </tr>\n",
       "    <tr>\n",
       "      <th>4</th>\n",
       "      <td>tm56584</td>\n",
       "      <td>In a Lonely Place</td>\n",
       "      <td>MOVIE</td>\n",
       "      <td>1950</td>\n",
       "      <td>NONE</td>\n",
       "      <td>94</td>\n",
       "      <td>thriller, drama, romance</td>\n",
       "      <td>US</td>\n",
       "      <td>0.0</td>\n",
       "      <td>tt0042593</td>\n",
       "      <td>7.9</td>\n",
       "      <td>30924.0</td>\n",
       "      <td>8.273</td>\n",
       "      <td>7.6</td>\n",
       "      <td>US</td>\n",
       "      <td>thriller</td>\n",
       "    </tr>\n",
       "  </tbody>\n",
       "</table>\n",
       "</div>"
      ],
      "text/plain": [
       "        id                        title   type  release_year  \\\n",
       "0  ts20945            The Three Stooges   SHOW          1934   \n",
       "1  tm19248                  The General  MOVIE          1926   \n",
       "2  tm82253  The Best Years of Our Lives  MOVIE          1946   \n",
       "3  tm83884              His Girl Friday  MOVIE          1940   \n",
       "4  tm56584            In a Lonely Place  MOVIE          1950   \n",
       "\n",
       "  age_certification  runtime  \\\n",
       "0             TV-PG       19   \n",
       "1              NONE       78   \n",
       "2              NONE      171   \n",
       "3              NONE       92   \n",
       "4              NONE       94   \n",
       "\n",
       "                                              genres production_countries  \\\n",
       "0  comedy, family, animation, action, fantasy, ho...                   US   \n",
       "1      action, drama, war, western, comedy, european                   US   \n",
       "2                                romance, war, drama                   US   \n",
       "3                             comedy, drama, romance                   US   \n",
       "4                           thriller, drama, romance                   US   \n",
       "\n",
       "   seasons    imdb_id  imdb_score  imdb_votes  tmdb_popularity  tmdb_score  \\\n",
       "0     26.0  tt0850645         8.6      1092.0           15.424         7.6   \n",
       "1      0.0  tt0017925         8.2     89766.0            8.647         8.0   \n",
       "2      0.0  tt0036868         8.1     63026.0            8.435         7.8   \n",
       "3      0.0  tt0032599         7.8     57835.0           11.270         7.4   \n",
       "4      0.0  tt0042593         7.9     30924.0            8.273         7.6   \n",
       "\n",
       "  main_production_countries main_genre  \n",
       "0                        US     comedy  \n",
       "1                        US     action  \n",
       "2                        US    romance  \n",
       "3                        US     comedy  \n",
       "4                        US   thriller  "
      ]
     },
     "execution_count": 5,
     "metadata": {},
     "output_type": "execute_result"
    }
   ],
   "source": [
    "df_titles.head()"
   ]
  },
  {
   "cell_type": "code",
   "execution_count": 6,
   "metadata": {},
   "outputs": [
    {
     "data": {
      "text/html": [
       "<div>\n",
       "<style scoped>\n",
       "    .dataframe tbody tr th:only-of-type {\n",
       "        vertical-align: middle;\n",
       "    }\n",
       "\n",
       "    .dataframe tbody tr th {\n",
       "        vertical-align: top;\n",
       "    }\n",
       "\n",
       "    .dataframe thead th {\n",
       "        text-align: right;\n",
       "    }\n",
       "</style>\n",
       "<table border=\"1\" class=\"dataframe\">\n",
       "  <thead>\n",
       "    <tr style=\"text-align: right;\">\n",
       "      <th></th>\n",
       "      <th>id</th>\n",
       "      <th>name</th>\n",
       "      <th>character</th>\n",
       "      <th>role</th>\n",
       "    </tr>\n",
       "  </thead>\n",
       "  <tbody>\n",
       "    <tr>\n",
       "      <th>0</th>\n",
       "      <td>ts20945</td>\n",
       "      <td>Joe Besser</td>\n",
       "      <td>Joe</td>\n",
       "      <td>ACTOR</td>\n",
       "    </tr>\n",
       "    <tr>\n",
       "      <th>1</th>\n",
       "      <td>ts20945</td>\n",
       "      <td>Moe Howard</td>\n",
       "      <td>Moe</td>\n",
       "      <td>ACTOR</td>\n",
       "    </tr>\n",
       "    <tr>\n",
       "      <th>2</th>\n",
       "      <td>ts20945</td>\n",
       "      <td>Larry Fine</td>\n",
       "      <td>Larry</td>\n",
       "      <td>ACTOR</td>\n",
       "    </tr>\n",
       "    <tr>\n",
       "      <th>3</th>\n",
       "      <td>tm19248</td>\n",
       "      <td>Buster Keaton</td>\n",
       "      <td>Johnny Gray</td>\n",
       "      <td>ACTOR</td>\n",
       "    </tr>\n",
       "    <tr>\n",
       "      <th>4</th>\n",
       "      <td>tm19248</td>\n",
       "      <td>Marion Mack</td>\n",
       "      <td>Annabelle Lee</td>\n",
       "      <td>ACTOR</td>\n",
       "    </tr>\n",
       "  </tbody>\n",
       "</table>\n",
       "</div>"
      ],
      "text/plain": [
       "        id           name      character   role\n",
       "0  ts20945     Joe Besser            Joe  ACTOR\n",
       "1  ts20945     Moe Howard            Moe  ACTOR\n",
       "2  ts20945     Larry Fine          Larry  ACTOR\n",
       "3  tm19248  Buster Keaton    Johnny Gray  ACTOR\n",
       "4  tm19248    Marion Mack  Annabelle Lee  ACTOR"
      ]
     },
     "execution_count": 6,
     "metadata": {},
     "output_type": "execute_result"
    }
   ],
   "source": [
    "df_credits.head()"
   ]
  },
  {
   "cell_type": "code",
   "execution_count": 7,
   "metadata": {},
   "outputs": [
    {
     "data": {
      "text/html": [
       "<div>\n",
       "<style scoped>\n",
       "    .dataframe tbody tr th:only-of-type {\n",
       "        vertical-align: middle;\n",
       "    }\n",
       "\n",
       "    .dataframe tbody tr th {\n",
       "        vertical-align: top;\n",
       "    }\n",
       "\n",
       "    .dataframe thead th {\n",
       "        text-align: right;\n",
       "    }\n",
       "</style>\n",
       "<table border=\"1\" class=\"dataframe\">\n",
       "  <thead>\n",
       "    <tr style=\"text-align: right;\">\n",
       "      <th></th>\n",
       "      <th>id</th>\n",
       "      <th>title</th>\n",
       "      <th>type</th>\n",
       "      <th>release_year</th>\n",
       "      <th>age_certification</th>\n",
       "      <th>runtime</th>\n",
       "      <th>genres</th>\n",
       "      <th>production_countries</th>\n",
       "      <th>seasons</th>\n",
       "      <th>imdb_id</th>\n",
       "      <th>imdb_score</th>\n",
       "      <th>imdb_votes</th>\n",
       "      <th>tmdb_popularity</th>\n",
       "      <th>tmdb_score</th>\n",
       "      <th>main_production_countries</th>\n",
       "      <th>main_genre</th>\n",
       "      <th>name</th>\n",
       "      <th>character</th>\n",
       "      <th>role</th>\n",
       "    </tr>\n",
       "  </thead>\n",
       "  <tbody>\n",
       "    <tr>\n",
       "      <th>0</th>\n",
       "      <td>ts20945</td>\n",
       "      <td>The Three Stooges</td>\n",
       "      <td>SHOW</td>\n",
       "      <td>1934</td>\n",
       "      <td>TV-PG</td>\n",
       "      <td>19</td>\n",
       "      <td>comedy, family, animation, action, fantasy, ho...</td>\n",
       "      <td>US</td>\n",
       "      <td>26.0</td>\n",
       "      <td>tt0850645</td>\n",
       "      <td>8.6</td>\n",
       "      <td>1092.0</td>\n",
       "      <td>15.424</td>\n",
       "      <td>7.6</td>\n",
       "      <td>US</td>\n",
       "      <td>comedy</td>\n",
       "      <td>Joe Besser</td>\n",
       "      <td>Joe</td>\n",
       "      <td>ACTOR</td>\n",
       "    </tr>\n",
       "    <tr>\n",
       "      <th>1</th>\n",
       "      <td>ts20945</td>\n",
       "      <td>The Three Stooges</td>\n",
       "      <td>SHOW</td>\n",
       "      <td>1934</td>\n",
       "      <td>TV-PG</td>\n",
       "      <td>19</td>\n",
       "      <td>comedy, family, animation, action, fantasy, ho...</td>\n",
       "      <td>US</td>\n",
       "      <td>26.0</td>\n",
       "      <td>tt0850645</td>\n",
       "      <td>8.6</td>\n",
       "      <td>1092.0</td>\n",
       "      <td>15.424</td>\n",
       "      <td>7.6</td>\n",
       "      <td>US</td>\n",
       "      <td>comedy</td>\n",
       "      <td>Moe Howard</td>\n",
       "      <td>Moe</td>\n",
       "      <td>ACTOR</td>\n",
       "    </tr>\n",
       "    <tr>\n",
       "      <th>2</th>\n",
       "      <td>ts20945</td>\n",
       "      <td>The Three Stooges</td>\n",
       "      <td>SHOW</td>\n",
       "      <td>1934</td>\n",
       "      <td>TV-PG</td>\n",
       "      <td>19</td>\n",
       "      <td>comedy, family, animation, action, fantasy, ho...</td>\n",
       "      <td>US</td>\n",
       "      <td>26.0</td>\n",
       "      <td>tt0850645</td>\n",
       "      <td>8.6</td>\n",
       "      <td>1092.0</td>\n",
       "      <td>15.424</td>\n",
       "      <td>7.6</td>\n",
       "      <td>US</td>\n",
       "      <td>comedy</td>\n",
       "      <td>Larry Fine</td>\n",
       "      <td>Larry</td>\n",
       "      <td>ACTOR</td>\n",
       "    </tr>\n",
       "    <tr>\n",
       "      <th>3</th>\n",
       "      <td>tm19248</td>\n",
       "      <td>The General</td>\n",
       "      <td>MOVIE</td>\n",
       "      <td>1926</td>\n",
       "      <td>NONE</td>\n",
       "      <td>78</td>\n",
       "      <td>action, drama, war, western, comedy, european</td>\n",
       "      <td>US</td>\n",
       "      <td>0.0</td>\n",
       "      <td>tt0017925</td>\n",
       "      <td>8.2</td>\n",
       "      <td>89766.0</td>\n",
       "      <td>8.647</td>\n",
       "      <td>8.0</td>\n",
       "      <td>US</td>\n",
       "      <td>action</td>\n",
       "      <td>Buster Keaton</td>\n",
       "      <td>Johnny Gray</td>\n",
       "      <td>ACTOR</td>\n",
       "    </tr>\n",
       "    <tr>\n",
       "      <th>4</th>\n",
       "      <td>tm19248</td>\n",
       "      <td>The General</td>\n",
       "      <td>MOVIE</td>\n",
       "      <td>1926</td>\n",
       "      <td>NONE</td>\n",
       "      <td>78</td>\n",
       "      <td>action, drama, war, western, comedy, european</td>\n",
       "      <td>US</td>\n",
       "      <td>0.0</td>\n",
       "      <td>tt0017925</td>\n",
       "      <td>8.2</td>\n",
       "      <td>89766.0</td>\n",
       "      <td>8.647</td>\n",
       "      <td>8.0</td>\n",
       "      <td>US</td>\n",
       "      <td>action</td>\n",
       "      <td>Marion Mack</td>\n",
       "      <td>Annabelle Lee</td>\n",
       "      <td>ACTOR</td>\n",
       "    </tr>\n",
       "  </tbody>\n",
       "</table>\n",
       "</div>"
      ],
      "text/plain": [
       "        id              title   type  release_year age_certification  runtime  \\\n",
       "0  ts20945  The Three Stooges   SHOW          1934             TV-PG       19   \n",
       "1  ts20945  The Three Stooges   SHOW          1934             TV-PG       19   \n",
       "2  ts20945  The Three Stooges   SHOW          1934             TV-PG       19   \n",
       "3  tm19248        The General  MOVIE          1926              NONE       78   \n",
       "4  tm19248        The General  MOVIE          1926              NONE       78   \n",
       "\n",
       "                                              genres production_countries  \\\n",
       "0  comedy, family, animation, action, fantasy, ho...                   US   \n",
       "1  comedy, family, animation, action, fantasy, ho...                   US   \n",
       "2  comedy, family, animation, action, fantasy, ho...                   US   \n",
       "3      action, drama, war, western, comedy, european                   US   \n",
       "4      action, drama, war, western, comedy, european                   US   \n",
       "\n",
       "   seasons    imdb_id  imdb_score  imdb_votes  tmdb_popularity  tmdb_score  \\\n",
       "0     26.0  tt0850645         8.6      1092.0           15.424         7.6   \n",
       "1     26.0  tt0850645         8.6      1092.0           15.424         7.6   \n",
       "2     26.0  tt0850645         8.6      1092.0           15.424         7.6   \n",
       "3      0.0  tt0017925         8.2     89766.0            8.647         8.0   \n",
       "4      0.0  tt0017925         8.2     89766.0            8.647         8.0   \n",
       "\n",
       "  main_production_countries main_genre           name      character   role  \n",
       "0                        US     comedy     Joe Besser            Joe  ACTOR  \n",
       "1                        US     comedy     Moe Howard            Moe  ACTOR  \n",
       "2                        US     comedy     Larry Fine          Larry  ACTOR  \n",
       "3                        US     action  Buster Keaton    Johnny Gray  ACTOR  \n",
       "4                        US     action    Marion Mack  Annabelle Lee  ACTOR  "
      ]
     },
     "execution_count": 7,
     "metadata": {},
     "output_type": "execute_result"
    }
   ],
   "source": [
    "df_data = df_titles.merge(df_credits, on='id', how='inner')\n",
    "df_data.head()"
   ]
  },
  {
   "attachments": {},
   "cell_type": "markdown",
   "metadata": {},
   "source": [
    "### 1. IMDB votes và TMDB popularity lần lượt là số lượng phiếu bầu nhận được trên nền tảng IMDB và độ phổ biến trên nền tảng TMDB (được tính bởi số lượng votes, số lượng view, ...). Hai giá trị này có thể phần nào giúp ta nhận biết được mức độ nổi tiếng của 1 bộ phim/show truyền hình. Vậy trong các bộ phim được ra mắt khoảng 10 năm trở lại đây, đâu là top 10 bộ phim/show truyền hình nổi tiếng nhất, đánh giá dựa theo 2 tiêu chí được nêu?"
   ]
  },
  {
   "attachments": {},
   "cell_type": "markdown",
   "metadata": {},
   "source": [
    "Đầu tiên, ta cần lấy ra thông tin các bộ phim và show truyền hình được ra mắt từ năm 2012 tới nay"
   ]
  },
  {
   "cell_type": "code",
   "execution_count": 8,
   "metadata": {},
   "outputs": [
    {
     "data": {
      "text/html": [
       "<div>\n",
       "<style scoped>\n",
       "    .dataframe tbody tr th:only-of-type {\n",
       "        vertical-align: middle;\n",
       "    }\n",
       "\n",
       "    .dataframe tbody tr th {\n",
       "        vertical-align: top;\n",
       "    }\n",
       "\n",
       "    .dataframe thead th {\n",
       "        text-align: right;\n",
       "    }\n",
       "</style>\n",
       "<table border=\"1\" class=\"dataframe\">\n",
       "  <thead>\n",
       "    <tr style=\"text-align: right;\">\n",
       "      <th></th>\n",
       "      <th>id</th>\n",
       "      <th>title</th>\n",
       "      <th>type</th>\n",
       "      <th>release_year</th>\n",
       "      <th>imdb_votes</th>\n",
       "      <th>tmdb_popularity</th>\n",
       "    </tr>\n",
       "  </thead>\n",
       "  <tbody>\n",
       "    <tr>\n",
       "      <th>0</th>\n",
       "      <td>ts27630</td>\n",
       "      <td>Line of Duty</td>\n",
       "      <td>SHOW</td>\n",
       "      <td>2012</td>\n",
       "      <td>55784.0</td>\n",
       "      <td>52.202</td>\n",
       "    </tr>\n",
       "    <tr>\n",
       "      <th>1</th>\n",
       "      <td>tm61801</td>\n",
       "      <td>Zero Dark Thirty</td>\n",
       "      <td>MOVIE</td>\n",
       "      <td>2012</td>\n",
       "      <td>291985.0</td>\n",
       "      <td>17.200</td>\n",
       "    </tr>\n",
       "    <tr>\n",
       "      <th>2</th>\n",
       "      <td>tm61801</td>\n",
       "      <td>Zero Dark Thirty</td>\n",
       "      <td>MOVIE</td>\n",
       "      <td>2012</td>\n",
       "      <td>296416.0</td>\n",
       "      <td>24.241</td>\n",
       "    </tr>\n",
       "    <tr>\n",
       "      <th>3</th>\n",
       "      <td>tm72846</td>\n",
       "      <td>Skyfall</td>\n",
       "      <td>MOVIE</td>\n",
       "      <td>2012</td>\n",
       "      <td>684779.0</td>\n",
       "      <td>62.264</td>\n",
       "    </tr>\n",
       "    <tr>\n",
       "      <th>4</th>\n",
       "      <td>tm69294</td>\n",
       "      <td>Prometheus</td>\n",
       "      <td>MOVIE</td>\n",
       "      <td>2012</td>\n",
       "      <td>598691.0</td>\n",
       "      <td>86.605</td>\n",
       "    </tr>\n",
       "  </tbody>\n",
       "</table>\n",
       "</div>"
      ],
      "text/plain": [
       "        id             title   type  release_year  imdb_votes  tmdb_popularity\n",
       "0  ts27630      Line of Duty   SHOW          2012     55784.0           52.202\n",
       "1  tm61801  Zero Dark Thirty  MOVIE          2012    291985.0           17.200\n",
       "2  tm61801  Zero Dark Thirty  MOVIE          2012    296416.0           24.241\n",
       "3  tm72846           Skyfall  MOVIE          2012    684779.0           62.264\n",
       "4  tm69294        Prometheus  MOVIE          2012    598691.0           86.605"
      ]
     },
     "execution_count": 8,
     "metadata": {},
     "output_type": "execute_result"
    }
   ],
   "source": [
    "movie_show_popularity = df_data[df_data['release_year'] >= 2012].loc[:, ['id', 'title', 'type', 'release_year', 'imdb_votes', 'tmdb_popularity']].drop_duplicates().dropna().reset_index(drop=True)\n",
    "movie_show_popularity.head()"
   ]
  },
  {
   "attachments": {},
   "cell_type": "markdown",
   "metadata": {},
   "source": [
    "Như ta thấy, phim Zero Dark Thirty có 2 dòng khác nhau trong bảng dữ liệu trên. Nguyên nhân là vì bộ dữ liệu được gộp lại từ các dữ liệu thu thập từ nhiều nguồn phát sóng phim khác nhau có thể dẫn đến thông tin của phim khác nhau. \n",
    "\n",
    "Điều này xảy ra trên 1 số lượng phim/ show nhất định"
   ]
  },
  {
   "cell_type": "code",
   "execution_count": 9,
   "metadata": {},
   "outputs": [
    {
     "data": {
      "text/plain": [
       "70"
      ]
     },
     "execution_count": 9,
     "metadata": {},
     "output_type": "execute_result"
    }
   ],
   "source": [
    "movie_show_popularity['id'].duplicated().sum()"
   ]
  },
  {
   "attachments": {},
   "cell_type": "markdown",
   "metadata": {},
   "source": [
    "Tuy nhiên ta sẽ không lọc các dòng trùng nhau, mà sẽ lấy trung bình cho các phim/show gặp hiện tượng trên."
   ]
  },
  {
   "attachments": {},
   "cell_type": "markdown",
   "metadata": {},
   "source": [
    "Tiếp theo, ta tách tập dữ liệu thành 2 phần, phim và show truyền hình"
   ]
  },
  {
   "cell_type": "code",
   "execution_count": 10,
   "metadata": {},
   "outputs": [],
   "source": [
    "movie_popularity = movie_show_popularity[movie_show_popularity['type']=='MOVIE']\n",
    "show_popularity = movie_show_popularity[movie_show_popularity['type']=='SHOW']"
   ]
  },
  {
   "attachments": {},
   "cell_type": "markdown",
   "metadata": {},
   "source": [
    "Ta sẽ tiến hành tính điểm popularity của từng phim/show theo công thức Số lượng phiếu bầu IMDB + Độ nổi tiếng trên TMDB.\n",
    "\n",
    "Sau đó ta scale tất cả điểm số tính được về khoảng 1-100 dựa trên tập dữ liệu. Ý nghĩa của việc scale đơn giản là để điểm số được đưa về thang điểm 100 thay vì để nguyên giá trị gốc (vì giá trị gốc có thể lên tới hàng triệu).\n",
    "\n",
    "Hàm được khởi tạo dưới đây được dùng để làm điều này"
   ]
  },
  {
   "cell_type": "code",
   "execution_count": 11,
   "metadata": {},
   "outputs": [],
   "source": [
    "def MinMaxScaler1_100(s):\n",
    "    return (99*(s - s.min()))/(s.max()-s.min()) + 1"
   ]
  },
  {
   "attachments": {},
   "cell_type": "markdown",
   "metadata": {},
   "source": [
    "Điểm popularity =  MinMaxScaler1_100(Số lượng phiếu bầu IMDB + Độ nổi tiếng trên TMDB)"
   ]
  },
  {
   "cell_type": "code",
   "execution_count": null,
   "metadata": {},
   "outputs": [],
   "source": [
    "movie_popularity['popularity'] = MinMaxScaler1_100(movie_popularity['imdb_votes'] + movie_popularity['tmdb_popularity'])\n",
    "show_popularity['popularity'] = MinMaxScaler1_100(show_popularity['imdb_votes'] + show_popularity['tmdb_popularity'])"
   ]
  },
  {
   "attachments": {},
   "cell_type": "markdown",
   "metadata": {},
   "source": [
    "Như đã nêu ở trên, có 1 số lượng phim nhất định có nhiều hơn 1 dòng dữ liệu khác nhau. Vì thế ta sẽ tính trung bình số điểm của các phim đó"
   ]
  },
  {
   "cell_type": "code",
   "execution_count": 13,
   "metadata": {},
   "outputs": [
    {
     "data": {
      "text/html": [
       "<div>\n",
       "<style scoped>\n",
       "    .dataframe tbody tr th:only-of-type {\n",
       "        vertical-align: middle;\n",
       "    }\n",
       "\n",
       "    .dataframe tbody tr th {\n",
       "        vertical-align: top;\n",
       "    }\n",
       "\n",
       "    .dataframe thead th {\n",
       "        text-align: right;\n",
       "    }\n",
       "</style>\n",
       "<table border=\"1\" class=\"dataframe\">\n",
       "  <thead>\n",
       "    <tr style=\"text-align: right;\">\n",
       "      <th></th>\n",
       "      <th>popularity</th>\n",
       "    </tr>\n",
       "    <tr>\n",
       "      <th>title</th>\n",
       "      <th></th>\n",
       "    </tr>\n",
       "  </thead>\n",
       "  <tbody>\n",
       "    <tr>\n",
       "      <th>The Dark Knight Rises</th>\n",
       "      <td>100.000000</td>\n",
       "    </tr>\n",
       "    <tr>\n",
       "      <th>Django Unchained</th>\n",
       "      <td>88.349805</td>\n",
       "    </tr>\n",
       "    <tr>\n",
       "      <th>Joker</th>\n",
       "      <td>71.590591</td>\n",
       "    </tr>\n",
       "    <tr>\n",
       "      <th>The Hobbit: An Unexpected Journey</th>\n",
       "      <td>48.672156</td>\n",
       "    </tr>\n",
       "    <tr>\n",
       "      <th>The Imitation Game</th>\n",
       "      <td>45.857183</td>\n",
       "    </tr>\n",
       "    <tr>\n",
       "      <th>Man of Steel</th>\n",
       "      <td>45.706832</td>\n",
       "    </tr>\n",
       "    <tr>\n",
       "      <th>Skyfall</th>\n",
       "      <td>41.618640</td>\n",
       "    </tr>\n",
       "    <tr>\n",
       "      <th>12 Years a Slave</th>\n",
       "      <td>41.264562</td>\n",
       "    </tr>\n",
       "    <tr>\n",
       "      <th>Batman v Superman: Dawn of Justice</th>\n",
       "      <td>41.181515</td>\n",
       "    </tr>\n",
       "    <tr>\n",
       "      <th>Suicide Squad</th>\n",
       "      <td>40.865445</td>\n",
       "    </tr>\n",
       "  </tbody>\n",
       "</table>\n",
       "</div>"
      ],
      "text/plain": [
       "                                    popularity\n",
       "title                                         \n",
       "The Dark Knight Rises               100.000000\n",
       "Django Unchained                     88.349805\n",
       "Joker                                71.590591\n",
       "The Hobbit: An Unexpected Journey    48.672156\n",
       "The Imitation Game                   45.857183\n",
       "Man of Steel                         45.706832\n",
       "Skyfall                              41.618640\n",
       "12 Years a Slave                     41.264562\n",
       "Batman v Superman: Dawn of Justice   41.181515\n",
       "Suicide Squad                        40.865445"
      ]
     },
     "execution_count": 13,
     "metadata": {},
     "output_type": "execute_result"
    }
   ],
   "source": [
    "movie_popularity_table = pd.pivot_table(movie_popularity, values='popularity', index='title', aggfunc=np.mean)\n",
    "top10_movie_popularity = movie_popularity_table.nlargest(n=10, columns='popularity')\n",
    "top10_movie_popularity"
   ]
  },
  {
   "attachments": {},
   "cell_type": "markdown",
   "metadata": {},
   "source": [
    "Bảng trên hiển thị 10 bộ phim có điểm popularity (đã được scaled) cao nhất. Biểu độ cột dưới đây sẽ minh hoạ rõ hơn về kết quả thu được."
   ]
  },
  {
   "cell_type": "code",
   "execution_count": 14,
   "metadata": {},
   "outputs": [
    {
     "data": {
      "text/plain": [
       "<AxesSubplot:title={'center':'Top 10 popular movies'}, ylabel='title'>"
      ]
     },
     "execution_count": 14,
     "metadata": {},
     "output_type": "execute_result"
    },
    {
     "data": {
      "image/png": "[encoded data removed]",
      "text/plain": [
       "<Figure size 1700x500 with 1 Axes>"
      ]
     },
     "metadata": {},
     "output_type": "display_data"
    }
   ],
   "source": [
    "top10_movie_popularity.plot.barh(figsize=(17, 5), color='orange', title='Top 10 popular movies')"
   ]
  },
  {
   "attachments": {},
   "cell_type": "markdown",
   "metadata": {},
   "source": [
    "Tương tự với phim, show truyền hình cũng sẽ có 1 số lượng show nhất định có nhiều hơn 1 dòng dữ liệu khác nhau. Ta cũng sẽ tính trung bình cho chúng."
   ]
  },
  {
   "cell_type": "code",
   "execution_count": 15,
   "metadata": {},
   "outputs": [
    {
     "data": {
      "text/html": [
       "<div>\n",
       "<style scoped>\n",
       "    .dataframe tbody tr th:only-of-type {\n",
       "        vertical-align: middle;\n",
       "    }\n",
       "\n",
       "    .dataframe tbody tr th {\n",
       "        vertical-align: top;\n",
       "    }\n",
       "\n",
       "    .dataframe thead th {\n",
       "        text-align: right;\n",
       "    }\n",
       "</style>\n",
       "<table border=\"1\" class=\"dataframe\">\n",
       "  <thead>\n",
       "    <tr style=\"text-align: right;\">\n",
       "      <th></th>\n",
       "      <th>popularity</th>\n",
       "    </tr>\n",
       "    <tr>\n",
       "      <th>title</th>\n",
       "      <th></th>\n",
       "    </tr>\n",
       "  </thead>\n",
       "  <tbody>\n",
       "    <tr>\n",
       "      <th>Stranger Things</th>\n",
       "      <td>100.000000</td>\n",
       "    </tr>\n",
       "    <tr>\n",
       "      <th>Chernobyl</th>\n",
       "      <td>63.275782</td>\n",
       "    </tr>\n",
       "    <tr>\n",
       "      <th>True Detective</th>\n",
       "      <td>50.037251</td>\n",
       "    </tr>\n",
       "    <tr>\n",
       "      <th>Peaky Blinders</th>\n",
       "      <td>47.006012</td>\n",
       "    </tr>\n",
       "    <tr>\n",
       "      <th>Vikings</th>\n",
       "      <td>46.649429</td>\n",
       "    </tr>\n",
       "    <tr>\n",
       "      <th>House of Cards</th>\n",
       "      <td>45.658033</td>\n",
       "    </tr>\n",
       "    <tr>\n",
       "      <th>Westworld</th>\n",
       "      <td>43.612016</td>\n",
       "    </tr>\n",
       "    <tr>\n",
       "      <th>Rick and Morty</th>\n",
       "      <td>43.549804</td>\n",
       "    </tr>\n",
       "    <tr>\n",
       "      <th>The Witcher</th>\n",
       "      <td>43.380607</td>\n",
       "    </tr>\n",
       "    <tr>\n",
       "      <th>Money Heist</th>\n",
       "      <td>42.428141</td>\n",
       "    </tr>\n",
       "  </tbody>\n",
       "</table>\n",
       "</div>"
      ],
      "text/plain": [
       "                 popularity\n",
       "title                      \n",
       "Stranger Things  100.000000\n",
       "Chernobyl         63.275782\n",
       "True Detective    50.037251\n",
       "Peaky Blinders    47.006012\n",
       "Vikings           46.649429\n",
       "House of Cards    45.658033\n",
       "Westworld         43.612016\n",
       "Rick and Morty    43.549804\n",
       "The Witcher       43.380607\n",
       "Money Heist       42.428141"
      ]
     },
     "execution_count": 15,
     "metadata": {},
     "output_type": "execute_result"
    }
   ],
   "source": [
    "show_popularity_table = pd.pivot_table(show_popularity, values='popularity', index='title', aggfunc=np.mean)\n",
    "top10_show_popularity = show_popularity_table.nlargest(n=10, columns='popularity')\n",
    "top10_show_popularity"
   ]
  },
  {
   "attachments": {},
   "cell_type": "markdown",
   "metadata": {},
   "source": [
    "Bảng trên hiển thị 10 show có điểm popularity (đã được scaled) cao nhất. Biểu độ cột dưới đây sẽ minh hoạ rõ hơn về kết quả thu được."
   ]
  },
  {
   "cell_type": "code",
   "execution_count": 16,
   "metadata": {},
   "outputs": [
    {
     "data": {
      "text/plain": [
       "<AxesSubplot:title={'center':'Top 10 popular shows'}, ylabel='title'>"
      ]
     },
     "execution_count": 16,
     "metadata": {},
     "output_type": "execute_result"
    },
    {
     "data": {
      "image/png": "[encoded data removed]",
      "text/plain": [
       "<Figure size 1700x500 with 1 Axes>"
      ]
     },
     "metadata": {},
     "output_type": "display_data"
    }
   ],
   "source": [
    "top10_show_popularity.plot.barh(figsize=(17, 5), color='green', title='Top 10 popular shows')"
   ]
  },
  {
   "attachments": {},
   "cell_type": "markdown",
   "metadata": {},
   "source": [
    "Kết quả cho ta thấy top 10 phim và top 10 show nổi tiếng nhất được ra mắt trong 10 năm trở lại đây. Kết quả thu được cho thấy độ phổ biến của các bộ phim/show (với số lượng phiều bầu, số lượt xem,... vượt trội), có giá trị tham khảo đối với mục đích đề cử và đánh giá xa hơn."
   ]
  },
  {
   "attachments": {},
   "cell_type": "markdown",
   "metadata": {},
   "source": [
    "### 2. IMDB score và TMDB score lần lượt là điểm số đánh giá trung bình của phim/show trên 2 nền tảng. Các điểm số này có thể đánh giá được chất lượng của phim/show và độ yêu thích của khán giả đối với phim/show đó. Vậy trong các bộ phim được ra mắt khoảng 10 năm trở lại đây, đâu là top 10 bộ phim/show truyền hình có điểm đánh giá cao nhất, dựa theo 2 tiêu chí đánh giá được nêu?"
   ]
  },
  {
   "attachments": {},
   "cell_type": "markdown",
   "metadata": {},
   "source": [
    "Đầu tiên, ta cần lấy ra thông tin các bộ phim và show truyền hình được ra mắt từ năm 2012 tới nay"
   ]
  },
  {
   "cell_type": "code",
   "execution_count": 17,
   "metadata": {},
   "outputs": [
    {
     "data": {
      "text/html": [
       "<div>\n",
       "<style scoped>\n",
       "    .dataframe tbody tr th:only-of-type {\n",
       "        vertical-align: middle;\n",
       "    }\n",
       "\n",
       "    .dataframe tbody tr th {\n",
       "        vertical-align: top;\n",
       "    }\n",
       "\n",
       "    .dataframe thead th {\n",
       "        text-align: right;\n",
       "    }\n",
       "</style>\n",
       "<table border=\"1\" class=\"dataframe\">\n",
       "  <thead>\n",
       "    <tr style=\"text-align: right;\">\n",
       "      <th></th>\n",
       "      <th>id</th>\n",
       "      <th>title</th>\n",
       "      <th>type</th>\n",
       "      <th>release_year</th>\n",
       "      <th>imdb_score</th>\n",
       "      <th>tmdb_score</th>\n",
       "    </tr>\n",
       "  </thead>\n",
       "  <tbody>\n",
       "    <tr>\n",
       "      <th>0</th>\n",
       "      <td>ts27630</td>\n",
       "      <td>Line of Duty</td>\n",
       "      <td>SHOW</td>\n",
       "      <td>2012</td>\n",
       "      <td>8.7</td>\n",
       "      <td>8.2</td>\n",
       "    </tr>\n",
       "    <tr>\n",
       "      <th>1</th>\n",
       "      <td>tm61801</td>\n",
       "      <td>Zero Dark Thirty</td>\n",
       "      <td>MOVIE</td>\n",
       "      <td>2012</td>\n",
       "      <td>7.4</td>\n",
       "      <td>7.0</td>\n",
       "    </tr>\n",
       "    <tr>\n",
       "      <th>2</th>\n",
       "      <td>tm72846</td>\n",
       "      <td>Skyfall</td>\n",
       "      <td>MOVIE</td>\n",
       "      <td>2012</td>\n",
       "      <td>7.8</td>\n",
       "      <td>7.2</td>\n",
       "    </tr>\n",
       "    <tr>\n",
       "      <th>3</th>\n",
       "      <td>tm69294</td>\n",
       "      <td>Prometheus</td>\n",
       "      <td>MOVIE</td>\n",
       "      <td>2012</td>\n",
       "      <td>7.0</td>\n",
       "      <td>6.5</td>\n",
       "    </tr>\n",
       "    <tr>\n",
       "      <th>4</th>\n",
       "      <td>tm53381</td>\n",
       "      <td>Jack Reacher</td>\n",
       "      <td>MOVIE</td>\n",
       "      <td>2012</td>\n",
       "      <td>7.0</td>\n",
       "      <td>6.6</td>\n",
       "    </tr>\n",
       "  </tbody>\n",
       "</table>\n",
       "</div>"
      ],
      "text/plain": [
       "        id             title   type  release_year  imdb_score  tmdb_score\n",
       "0  ts27630      Line of Duty   SHOW          2012         8.7         8.2\n",
       "1  tm61801  Zero Dark Thirty  MOVIE          2012         7.4         7.0\n",
       "2  tm72846           Skyfall  MOVIE          2012         7.8         7.2\n",
       "3  tm69294        Prometheus  MOVIE          2012         7.0         6.5\n",
       "4  tm53381      Jack Reacher  MOVIE          2012         7.0         6.6"
      ]
     },
     "execution_count": 17,
     "metadata": {},
     "output_type": "execute_result"
    }
   ],
   "source": [
    "movie_show_score = df_data[df_data['release_year'] >= 2012].loc[:, ['id', 'title', 'type', 'release_year', 'imdb_score', 'tmdb_score']].drop_duplicates().dropna().reset_index(drop=True)\n",
    "movie_show_score.head()"
   ]
  },
  {
   "attachments": {},
   "cell_type": "markdown",
   "metadata": {},
   "source": [
    "Tính điểm đánh giá trung bình của phim/show = (điểm IMDB + điểm TMDB)/2"
   ]
  },
  {
   "cell_type": "code",
   "execution_count": 18,
   "metadata": {},
   "outputs": [
    {
     "data": {
      "text/html": [
       "<div>\n",
       "<style scoped>\n",
       "    .dataframe tbody tr th:only-of-type {\n",
       "        vertical-align: middle;\n",
       "    }\n",
       "\n",
       "    .dataframe tbody tr th {\n",
       "        vertical-align: top;\n",
       "    }\n",
       "\n",
       "    .dataframe thead th {\n",
       "        text-align: right;\n",
       "    }\n",
       "</style>\n",
       "<table border=\"1\" class=\"dataframe\">\n",
       "  <thead>\n",
       "    <tr style=\"text-align: right;\">\n",
       "      <th></th>\n",
       "      <th>id</th>\n",
       "      <th>title</th>\n",
       "      <th>type</th>\n",
       "      <th>release_year</th>\n",
       "      <th>imdb_score</th>\n",
       "      <th>tmdb_score</th>\n",
       "      <th>avg_score</th>\n",
       "    </tr>\n",
       "  </thead>\n",
       "  <tbody>\n",
       "    <tr>\n",
       "      <th>0</th>\n",
       "      <td>ts27630</td>\n",
       "      <td>Line of Duty</td>\n",
       "      <td>SHOW</td>\n",
       "      <td>2012</td>\n",
       "      <td>8.7</td>\n",
       "      <td>8.2</td>\n",
       "      <td>8.45</td>\n",
       "    </tr>\n",
       "    <tr>\n",
       "      <th>1</th>\n",
       "      <td>tm61801</td>\n",
       "      <td>Zero Dark Thirty</td>\n",
       "      <td>MOVIE</td>\n",
       "      <td>2012</td>\n",
       "      <td>7.4</td>\n",
       "      <td>7.0</td>\n",
       "      <td>7.20</td>\n",
       "    </tr>\n",
       "    <tr>\n",
       "      <th>2</th>\n",
       "      <td>tm72846</td>\n",
       "      <td>Skyfall</td>\n",
       "      <td>MOVIE</td>\n",
       "      <td>2012</td>\n",
       "      <td>7.8</td>\n",
       "      <td>7.2</td>\n",
       "      <td>7.50</td>\n",
       "    </tr>\n",
       "    <tr>\n",
       "      <th>3</th>\n",
       "      <td>tm69294</td>\n",
       "      <td>Prometheus</td>\n",
       "      <td>MOVIE</td>\n",
       "      <td>2012</td>\n",
       "      <td>7.0</td>\n",
       "      <td>6.5</td>\n",
       "      <td>6.75</td>\n",
       "    </tr>\n",
       "    <tr>\n",
       "      <th>4</th>\n",
       "      <td>tm53381</td>\n",
       "      <td>Jack Reacher</td>\n",
       "      <td>MOVIE</td>\n",
       "      <td>2012</td>\n",
       "      <td>7.0</td>\n",
       "      <td>6.6</td>\n",
       "      <td>6.80</td>\n",
       "    </tr>\n",
       "  </tbody>\n",
       "</table>\n",
       "</div>"
      ],
      "text/plain": [
       "        id             title   type  release_year  imdb_score  tmdb_score  \\\n",
       "0  ts27630      Line of Duty   SHOW          2012         8.7         8.2   \n",
       "1  tm61801  Zero Dark Thirty  MOVIE          2012         7.4         7.0   \n",
       "2  tm72846           Skyfall  MOVIE          2012         7.8         7.2   \n",
       "3  tm69294        Prometheus  MOVIE          2012         7.0         6.5   \n",
       "4  tm53381      Jack Reacher  MOVIE          2012         7.0         6.6   \n",
       "\n",
       "   avg_score  \n",
       "0       8.45  \n",
       "1       7.20  \n",
       "2       7.50  \n",
       "3       6.75  \n",
       "4       6.80  "
      ]
     },
     "execution_count": 18,
     "metadata": {},
     "output_type": "execute_result"
    }
   ],
   "source": [
    "movie_show_score['avg_score'] = movie_show_score.loc[:, ['imdb_score', 'tmdb_score']].mean(axis=1)\n",
    "movie_show_score.head()"
   ]
  },
  {
   "attachments": {},
   "cell_type": "markdown",
   "metadata": {},
   "source": [
    "Tiếp theo, ta tách tập dữ liệu thành 2 phần, phim và show truyền hình"
   ]
  },
  {
   "cell_type": "code",
   "execution_count": 19,
   "metadata": {},
   "outputs": [],
   "source": [
    "movie_score = movie_show_score[movie_show_score['type']=='MOVIE']\n",
    "show_score = movie_show_score[movie_show_score['type']=='SHOW']"
   ]
  },
  {
   "attachments": {},
   "cell_type": "markdown",
   "metadata": {},
   "source": [
    "Có 1 số lượng phim nhất định có nhiều hơn 1 dòng dữ liệu khác nhau. Vì thế ta sẽ tính trung bình số điểm của các phim đó"
   ]
  },
  {
   "cell_type": "code",
   "execution_count": 20,
   "metadata": {},
   "outputs": [
    {
     "data": {
      "text/html": [
       "<div>\n",
       "<style scoped>\n",
       "    .dataframe tbody tr th:only-of-type {\n",
       "        vertical-align: middle;\n",
       "    }\n",
       "\n",
       "    .dataframe tbody tr th {\n",
       "        vertical-align: top;\n",
       "    }\n",
       "\n",
       "    .dataframe thead th {\n",
       "        text-align: right;\n",
       "    }\n",
       "</style>\n",
       "<table border=\"1\" class=\"dataframe\">\n",
       "  <thead>\n",
       "    <tr style=\"text-align: right;\">\n",
       "      <th></th>\n",
       "      <th>avg_score</th>\n",
       "    </tr>\n",
       "    <tr>\n",
       "      <th>title</th>\n",
       "      <th></th>\n",
       "    </tr>\n",
       "  </thead>\n",
       "  <tbody>\n",
       "    <tr>\n",
       "      <th>Alexander Babu: Alex in Wonderland</th>\n",
       "      <td>9.45</td>\n",
       "    </tr>\n",
       "    <tr>\n",
       "      <th>Pawankhind</th>\n",
       "      <td>9.20</td>\n",
       "    </tr>\n",
       "    <tr>\n",
       "      <th>Jonas Kaufmann - Ein Weltstar ganz privat</th>\n",
       "      <td>9.15</td>\n",
       "    </tr>\n",
       "    <tr>\n",
       "      <th>Thomas Sowell: Common Sense in a Senseless World, A Personal Exploration by Jason Riley</th>\n",
       "      <td>9.15</td>\n",
       "    </tr>\n",
       "    <tr>\n",
       "      <th>The Rolling Stones: From The Vault - Sticky Fingers Live at the Fonda Theatre 2015</th>\n",
       "      <td>9.10</td>\n",
       "    </tr>\n",
       "    <tr>\n",
       "      <th>Tiny Dancers</th>\n",
       "      <td>9.10</td>\n",
       "    </tr>\n",
       "    <tr>\n",
       "      <th>Carole King &amp; James Taylor: Just Call Out My Name</th>\n",
       "      <td>9.05</td>\n",
       "    </tr>\n",
       "    <tr>\n",
       "      <th>Keiko The Untold Story of the Star of Free Willy</th>\n",
       "      <td>9.00</td>\n",
       "    </tr>\n",
       "    <tr>\n",
       "      <th>Santana: Corazón Live from Mexico  - Live It To Believe It</th>\n",
       "      <td>9.00</td>\n",
       "    </tr>\n",
       "    <tr>\n",
       "      <th>Alan Jackson: Small Town Southern Man</th>\n",
       "      <td>8.90</td>\n",
       "    </tr>\n",
       "  </tbody>\n",
       "</table>\n",
       "</div>"
      ],
      "text/plain": [
       "                                                    avg_score\n",
       "title                                                        \n",
       "Alexander Babu: Alex in Wonderland                       9.45\n",
       "Pawankhind                                               9.20\n",
       "Jonas Kaufmann - Ein Weltstar ganz privat                9.15\n",
       "Thomas Sowell: Common Sense in a Senseless Worl...       9.15\n",
       "The Rolling Stones: From The Vault - Sticky Fin...       9.10\n",
       "Tiny Dancers                                             9.10\n",
       "Carole King & James Taylor: Just Call Out My Name        9.05\n",
       "Keiko The Untold Story of the Star of Free Willy         9.00\n",
       "Santana: Corazón Live from Mexico  - Live It To...       9.00\n",
       "Alan Jackson: Small Town Southern Man                    8.90"
      ]
     },
     "execution_count": 20,
     "metadata": {},
     "output_type": "execute_result"
    }
   ],
   "source": [
    "movie_score_table = pd.pivot_table(movie_score, values='avg_score', index='title', aggfunc=np.mean)\n",
    "top10_movie_score= movie_score_table.nlargest(n=10, columns='avg_score')\n",
    "top10_movie_score"
   ]
  },
  {
   "attachments": {},
   "cell_type": "markdown",
   "metadata": {},
   "source": [
    "Bảng trên hiển thị 10 bộ phim có điểm đánh giá trung bình cao nhất. Biểu độ cột dưới đây sẽ minh hoạ rõ hơn về kết quả thu được."
   ]
  },
  {
   "cell_type": "code",
   "execution_count": 21,
   "metadata": {},
   "outputs": [
    {
     "data": {
      "text/plain": [
       "<AxesSubplot:title={'center':'Top 10 rated movies'}, ylabel='title'>"
      ]
     },
     "execution_count": 21,
     "metadata": {},
     "output_type": "execute_result"
    },
    {
     "data": {
      "image/png": "[encoded data removed]",
      "text/plain": [
       "<Figure size 2000x800 with 1 Axes>"
      ]
     },
     "metadata": {},
     "output_type": "display_data"
    }
   ],
   "source": [
    "top10_movie_score.plot.barh(figsize=(20, 8), color='orange', title='Top 10 rated movies')"
   ]
  },
  {
   "attachments": {},
   "cell_type": "markdown",
   "metadata": {},
   "source": [
    "Tương tự với phim, show truyền hình cũng sẽ có 1 số lượng show nhất định có nhiều hơn 1 dòng dữ liệu khác nhau. Ta cũng sẽ tính trung bình cho chúng."
   ]
  },
  {
   "cell_type": "code",
   "execution_count": 22,
   "metadata": {},
   "outputs": [
    {
     "data": {
      "text/html": [
       "<div>\n",
       "<style scoped>\n",
       "    .dataframe tbody tr th:only-of-type {\n",
       "        vertical-align: middle;\n",
       "    }\n",
       "\n",
       "    .dataframe tbody tr th {\n",
       "        vertical-align: top;\n",
       "    }\n",
       "\n",
       "    .dataframe thead th {\n",
       "        text-align: right;\n",
       "    }\n",
       "</style>\n",
       "<table border=\"1\" class=\"dataframe\">\n",
       "  <thead>\n",
       "    <tr style=\"text-align: right;\">\n",
       "      <th></th>\n",
       "      <th>avg_score</th>\n",
       "    </tr>\n",
       "    <tr>\n",
       "      <th>title</th>\n",
       "      <th></th>\n",
       "    </tr>\n",
       "  </thead>\n",
       "  <tbody>\n",
       "    <tr>\n",
       "      <th>Corazón Contento</th>\n",
       "      <td>9.50</td>\n",
       "    </tr>\n",
       "    <tr>\n",
       "      <th>Raja, Rasoi Aur Anya Kahaniyaan</th>\n",
       "      <td>9.45</td>\n",
       "    </tr>\n",
       "    <tr>\n",
       "      <th>Great Canal Journeys</th>\n",
       "      <td>9.40</td>\n",
       "    </tr>\n",
       "    <tr>\n",
       "      <th>The Chosen</th>\n",
       "      <td>9.40</td>\n",
       "    </tr>\n",
       "    <tr>\n",
       "      <th>Wildest Places</th>\n",
       "      <td>9.35</td>\n",
       "    </tr>\n",
       "    <tr>\n",
       "      <th>Secrets of the Castle</th>\n",
       "      <td>9.30</td>\n",
       "    </tr>\n",
       "    <tr>\n",
       "      <th>Making Their Mark</th>\n",
       "      <td>9.25</td>\n",
       "    </tr>\n",
       "    <tr>\n",
       "      <th>The World Between Us</th>\n",
       "      <td>9.20</td>\n",
       "    </tr>\n",
       "    <tr>\n",
       "      <th>Qing Luo</th>\n",
       "      <td>9.15</td>\n",
       "    </tr>\n",
       "    <tr>\n",
       "      <th>Roadkill Garage</th>\n",
       "      <td>9.15</td>\n",
       "    </tr>\n",
       "  </tbody>\n",
       "</table>\n",
       "</div>"
      ],
      "text/plain": [
       "                                 avg_score\n",
       "title                                     \n",
       "Corazón Contento                      9.50\n",
       "Raja, Rasoi Aur Anya Kahaniyaan       9.45\n",
       "Great Canal Journeys                  9.40\n",
       "The Chosen                            9.40\n",
       "Wildest Places                        9.35\n",
       "Secrets of the Castle                 9.30\n",
       "Making Their Mark                     9.25\n",
       "The World Between Us                  9.20\n",
       "Qing Luo                              9.15\n",
       "Roadkill Garage                       9.15"
      ]
     },
     "execution_count": 22,
     "metadata": {},
     "output_type": "execute_result"
    }
   ],
   "source": [
    "show_score_table = pd.pivot_table(show_score, values='avg_score', index='title', aggfunc=np.mean)\n",
    "top10_show_score= show_score_table.nlargest(n=10, columns='avg_score')\n",
    "top10_show_score"
   ]
  },
  {
   "attachments": {},
   "cell_type": "markdown",
   "metadata": {},
   "source": [
    "Bảng trên hiển thị 10 show truyền hình có điểm đánh giá trung bình cao nhất. Biểu độ cột dưới đây sẽ minh hoạ rõ hơn về kết quả thu được."
   ]
  },
  {
   "cell_type": "code",
   "execution_count": 23,
   "metadata": {},
   "outputs": [
    {
     "data": {
      "text/plain": [
       "<AxesSubplot:title={'center':'Top 10 rated shows'}, ylabel='title'>"
      ]
     },
     "execution_count": 23,
     "metadata": {},
     "output_type": "execute_result"
    },
    {
     "data": {
      "image/png": "[encoded data removed]",
      "text/plain": [
       "<Figure size 2000x800 with 1 Axes>"
      ]
     },
     "metadata": {},
     "output_type": "display_data"
    }
   ],
   "source": [
    "top10_show_score.plot.barh(figsize=(20, 8), color='green', title='Top 10 rated shows')"
   ]
  },
  {
   "attachments": {},
   "cell_type": "markdown",
   "metadata": {},
   "source": [
    "Kết quả thu được cho thấy những bộ phim và show truyền hình có điểm đánh giá cao nhất. Tuy nhiên, điều này lại không có nghĩa là các phim và show này nổi tiếng bởi lẽ điểm số cao cũng có thể đồng nghĩa với việc số lượng lượt bỏ phiếu đánh giá thấp (vì điểm đánh giá là điểm đánh giá trung bình dựa trên tất cả phiếu bầu). Mặc dù vậy, những bộ phim và show truyền hình này vẫn có giá trị đề cử vì được đánh giá rất cao bởi 1 lượng khán giá nhất định và giới phê bình."
   ]
  },
  {
   "attachments": {},
   "cell_type": "markdown",
   "metadata": {},
   "source": [
    "### 3. IMDB score và TMDB score lần lượt là điểm số đánh giá trung bình của phim/show trên 2 nền tảng. Các điểm số này có thể đánh giá được chất lượng của phim/show và độ yêu thích của khán giả đối với phim/show đó. Vậy trong các bộ phim được ra mắt khoảng 10 năm trở lại đây, những thể loại phim/show nào nhận được điểm đánh giá cao nhất? (dựa theo 2 tiêu chí đánh giá được nêu)"
   ]
  },
  {
   "attachments": {},
   "cell_type": "markdown",
   "metadata": {},
   "source": [
    "Đầu tiên ta lấy từ tập dữ liệu các phim và show truyền hình ra mắt trong 10 năm đổ lại đây.\n",
    "\n",
    "Mỗi phim và show có thể có nhiều hơn 1 thể loại. Chính vì thế ta cần trải tập dữ liệu ra và quy ước điểm đánh giá của tất cả thể loại của phim và show bằng điểm đánh giá của phim và show đó"
   ]
  },
  {
   "cell_type": "code",
   "execution_count": 24,
   "metadata": {},
   "outputs": [
    {
     "data": {
      "text/html": [
       "<div>\n",
       "<style scoped>\n",
       "    .dataframe tbody tr th:only-of-type {\n",
       "        vertical-align: middle;\n",
       "    }\n",
       "\n",
       "    .dataframe tbody tr th {\n",
       "        vertical-align: top;\n",
       "    }\n",
       "\n",
       "    .dataframe thead th {\n",
       "        text-align: right;\n",
       "    }\n",
       "</style>\n",
       "<table border=\"1\" class=\"dataframe\">\n",
       "  <thead>\n",
       "    <tr style=\"text-align: right;\">\n",
       "      <th></th>\n",
       "      <th>genres</th>\n",
       "      <th>imdb_score</th>\n",
       "      <th>tmdb_score</th>\n",
       "    </tr>\n",
       "  </thead>\n",
       "  <tbody>\n",
       "    <tr>\n",
       "      <th>0</th>\n",
       "      <td>crime</td>\n",
       "      <td>8.7</td>\n",
       "      <td>8.2</td>\n",
       "    </tr>\n",
       "    <tr>\n",
       "      <th>1</th>\n",
       "      <td>thriller</td>\n",
       "      <td>8.7</td>\n",
       "      <td>8.2</td>\n",
       "    </tr>\n",
       "    <tr>\n",
       "      <th>2</th>\n",
       "      <td>drama</td>\n",
       "      <td>8.7</td>\n",
       "      <td>8.2</td>\n",
       "    </tr>\n",
       "    <tr>\n",
       "      <th>3</th>\n",
       "      <td>european</td>\n",
       "      <td>8.7</td>\n",
       "      <td>8.2</td>\n",
       "    </tr>\n",
       "    <tr>\n",
       "      <th>4</th>\n",
       "      <td>drama</td>\n",
       "      <td>7.4</td>\n",
       "      <td>7.0</td>\n",
       "    </tr>\n",
       "  </tbody>\n",
       "</table>\n",
       "</div>"
      ],
      "text/plain": [
       "     genres  imdb_score  tmdb_score\n",
       "0     crime         8.7         8.2\n",
       "1  thriller         8.7         8.2\n",
       "2     drama         8.7         8.2\n",
       "3  european         8.7         8.2\n",
       "4     drama         7.4         7.0"
      ]
     },
     "execution_count": 24,
     "metadata": {},
     "output_type": "execute_result"
    }
   ],
   "source": [
    "genre_score = df_data[df_data['release_year'] >= 2012].loc[:, ['genres', 'imdb_score', 'tmdb_score']].drop_duplicates().dropna().reset_index(drop=True)\n",
    "genre_score = genre_score[genre_score['genres'] != '']\n",
    "genre_score['genres'].update(genre_score['genres'].str.split(', '))\n",
    "genre_score = genre_score.explode('genres').dropna().reset_index(drop=True)\n",
    "genre_score.head()"
   ]
  },
  {
   "attachments": {},
   "cell_type": "markdown",
   "metadata": {},
   "source": [
    "Có 2 tiêu chí đánh giá là IMDB score và TMDB score nên ta cần tính điểm đánh giá trung bình của mỗi thể loại"
   ]
  },
  {
   "cell_type": "code",
   "execution_count": 25,
   "metadata": {},
   "outputs": [
    {
     "data": {
      "text/html": [
       "<div>\n",
       "<style scoped>\n",
       "    .dataframe tbody tr th:only-of-type {\n",
       "        vertical-align: middle;\n",
       "    }\n",
       "\n",
       "    .dataframe tbody tr th {\n",
       "        vertical-align: top;\n",
       "    }\n",
       "\n",
       "    .dataframe thead th {\n",
       "        text-align: right;\n",
       "    }\n",
       "</style>\n",
       "<table border=\"1\" class=\"dataframe\">\n",
       "  <thead>\n",
       "    <tr style=\"text-align: right;\">\n",
       "      <th></th>\n",
       "      <th>genres</th>\n",
       "      <th>imdb_score</th>\n",
       "      <th>tmdb_score</th>\n",
       "      <th>avg_score</th>\n",
       "    </tr>\n",
       "  </thead>\n",
       "  <tbody>\n",
       "    <tr>\n",
       "      <th>0</th>\n",
       "      <td>crime</td>\n",
       "      <td>8.7</td>\n",
       "      <td>8.2</td>\n",
       "      <td>8.45</td>\n",
       "    </tr>\n",
       "    <tr>\n",
       "      <th>1</th>\n",
       "      <td>thriller</td>\n",
       "      <td>8.7</td>\n",
       "      <td>8.2</td>\n",
       "      <td>8.45</td>\n",
       "    </tr>\n",
       "    <tr>\n",
       "      <th>2</th>\n",
       "      <td>drama</td>\n",
       "      <td>8.7</td>\n",
       "      <td>8.2</td>\n",
       "      <td>8.45</td>\n",
       "    </tr>\n",
       "    <tr>\n",
       "      <th>3</th>\n",
       "      <td>european</td>\n",
       "      <td>8.7</td>\n",
       "      <td>8.2</td>\n",
       "      <td>8.45</td>\n",
       "    </tr>\n",
       "    <tr>\n",
       "      <th>4</th>\n",
       "      <td>drama</td>\n",
       "      <td>7.4</td>\n",
       "      <td>7.0</td>\n",
       "      <td>7.20</td>\n",
       "    </tr>\n",
       "  </tbody>\n",
       "</table>\n",
       "</div>"
      ],
      "text/plain": [
       "     genres  imdb_score  tmdb_score  avg_score\n",
       "0     crime         8.7         8.2       8.45\n",
       "1  thriller         8.7         8.2       8.45\n",
       "2     drama         8.7         8.2       8.45\n",
       "3  european         8.7         8.2       8.45\n",
       "4     drama         7.4         7.0       7.20"
      ]
     },
     "execution_count": 25,
     "metadata": {},
     "output_type": "execute_result"
    }
   ],
   "source": [
    "genre_score['avg_score'] = genre_score.loc[:, ['imdb_score', 'tmdb_score']].mean(axis=1)\n",
    "genre_score.head()"
   ]
  },
  {
   "attachments": {},
   "cell_type": "markdown",
   "metadata": {},
   "source": [
    "Vì các thể loại xuất hiện nhiều lần trong 10 năm, nên điểm đánh giá của mỗi thể loại sẽ được tính trung bình (tổng số điểm chia cho số lần xuất hiện). Ta cũng lưu lại số lần xuất hiện của các thể loại vào tập dữ liệu"
   ]
  },
  {
   "cell_type": "code",
   "execution_count": 26,
   "metadata": {},
   "outputs": [
    {
     "data": {
      "text/html": [
       "<div>\n",
       "<style scoped>\n",
       "    .dataframe tbody tr th:only-of-type {\n",
       "        vertical-align: middle;\n",
       "    }\n",
       "\n",
       "    .dataframe tbody tr th {\n",
       "        vertical-align: top;\n",
       "    }\n",
       "\n",
       "    .dataframe thead th {\n",
       "        text-align: right;\n",
       "    }\n",
       "</style>\n",
       "<table border=\"1\" class=\"dataframe\">\n",
       "  <thead>\n",
       "    <tr style=\"text-align: right;\">\n",
       "      <th></th>\n",
       "      <th>avg_score</th>\n",
       "      <th>occurences</th>\n",
       "    </tr>\n",
       "    <tr>\n",
       "      <th>genres</th>\n",
       "      <th></th>\n",
       "      <th></th>\n",
       "    </tr>\n",
       "  </thead>\n",
       "  <tbody>\n",
       "    <tr>\n",
       "      <th>horror</th>\n",
       "      <td>5.555409</td>\n",
       "      <td>890</td>\n",
       "    </tr>\n",
       "    <tr>\n",
       "      <th>thriller</th>\n",
       "      <td>6.108896</td>\n",
       "      <td>2183</td>\n",
       "    </tr>\n",
       "    <tr>\n",
       "      <th>western</th>\n",
       "      <td>6.129154</td>\n",
       "      <td>78</td>\n",
       "    </tr>\n",
       "    <tr>\n",
       "      <th>comedy</th>\n",
       "      <td>6.308370</td>\n",
       "      <td>3184</td>\n",
       "    </tr>\n",
       "    <tr>\n",
       "      <th>action</th>\n",
       "      <td>6.332825</td>\n",
       "      <td>1741</td>\n",
       "    </tr>\n",
       "    <tr>\n",
       "      <th>romance</th>\n",
       "      <td>6.346638</td>\n",
       "      <td>1469</td>\n",
       "    </tr>\n",
       "    <tr>\n",
       "      <th>european</th>\n",
       "      <td>6.417286</td>\n",
       "      <td>742</td>\n",
       "    </tr>\n",
       "    <tr>\n",
       "      <th>scifi</th>\n",
       "      <td>6.432426</td>\n",
       "      <td>917</td>\n",
       "    </tr>\n",
       "    <tr>\n",
       "      <th>family</th>\n",
       "      <td>6.512234</td>\n",
       "      <td>851</td>\n",
       "    </tr>\n",
       "    <tr>\n",
       "      <th>drama</th>\n",
       "      <td>6.514867</td>\n",
       "      <td>4507</td>\n",
       "    </tr>\n",
       "    <tr>\n",
       "      <th>crime</th>\n",
       "      <td>6.543977</td>\n",
       "      <td>1405</td>\n",
       "    </tr>\n",
       "    <tr>\n",
       "      <th>fantasy</th>\n",
       "      <td>6.616109</td>\n",
       "      <td>901</td>\n",
       "    </tr>\n",
       "    <tr>\n",
       "      <th>sport</th>\n",
       "      <td>6.751903</td>\n",
       "      <td>279</td>\n",
       "    </tr>\n",
       "    <tr>\n",
       "      <th>music</th>\n",
       "      <td>6.781014</td>\n",
       "      <td>357</td>\n",
       "    </tr>\n",
       "    <tr>\n",
       "      <th>reality</th>\n",
       "      <td>6.792954</td>\n",
       "      <td>237</td>\n",
       "    </tr>\n",
       "    <tr>\n",
       "      <th>war</th>\n",
       "      <td>6.880714</td>\n",
       "      <td>243</td>\n",
       "    </tr>\n",
       "    <tr>\n",
       "      <th>animation</th>\n",
       "      <td>6.882373</td>\n",
       "      <td>757</td>\n",
       "    </tr>\n",
       "    <tr>\n",
       "      <th>documentation</th>\n",
       "      <td>6.936242</td>\n",
       "      <td>1326</td>\n",
       "    </tr>\n",
       "    <tr>\n",
       "      <th>history</th>\n",
       "      <td>6.988001</td>\n",
       "      <td>467</td>\n",
       "    </tr>\n",
       "  </tbody>\n",
       "</table>\n",
       "</div>"
      ],
      "text/plain": [
       "               avg_score  occurences\n",
       "genres                              \n",
       "horror          5.555409         890\n",
       "thriller        6.108896        2183\n",
       "western         6.129154          78\n",
       "comedy          6.308370        3184\n",
       "action          6.332825        1741\n",
       "romance         6.346638        1469\n",
       "european        6.417286         742\n",
       "scifi           6.432426         917\n",
       "family          6.512234         851\n",
       "drama           6.514867        4507\n",
       "crime           6.543977        1405\n",
       "fantasy         6.616109         901\n",
       "sport           6.751903         279\n",
       "music           6.781014         357\n",
       "reality         6.792954         237\n",
       "war             6.880714         243\n",
       "animation       6.882373         757\n",
       "documentation   6.936242        1326\n",
       "history         6.988001         467"
      ]
     },
     "execution_count": 26,
     "metadata": {},
     "output_type": "execute_result"
    }
   ],
   "source": [
    "genre_score_table = pd.pivot_table(genre_score, values='avg_score', index='genres', aggfunc={'genres': len, 'avg_score': np.mean})\n",
    "genre_score_table = genre_score_table.rename(columns={'genres': 'occurences'})\n",
    "genre_score_table.sort_values(by=['avg_score', 'occurences'])"
   ]
  },
  {
   "attachments": {},
   "cell_type": "markdown",
   "metadata": {},
   "source": [
    "Trước tiên ta thử xem kết quả nếu chỉ dựa trên điểm đánh giá trung bình trong 10 năm, biểu đồ cột dưới đây sẽ minh hoạ rõ kết quả đó."
   ]
  },
  {
   "cell_type": "code",
   "execution_count": 27,
   "metadata": {},
   "outputs": [
    {
     "data": {
      "text/plain": [
       "<AxesSubplot:ylabel='genres'>"
      ]
     },
     "execution_count": 27,
     "metadata": {},
     "output_type": "execute_result"
    },
    {
     "data": {
      "image/png": "[encoded data removed]",
      "text/plain": [
       "<Figure size 2000x700 with 1 Axes>"
      ]
     },
     "metadata": {},
     "output_type": "display_data"
    }
   ],
   "source": [
    "genre_score_table['avg_score'].sort_values().plot.barh(figsize=(20, 7))"
   ]
  },
  {
   "attachments": {},
   "cell_type": "markdown",
   "metadata": {},
   "source": [
    "Phim/show thể loại lịch sử, tài liệu và chiến tranh có vẻ được đánh giá cao nhất bởi lẽ thể loại phim này là 1 thể loại kinh điển được các đạo diễn và nhà kịch bản ưa chuộng. Ngoài ra có sự xuất hiện của các thể loại như hoạt hình, âm nhạc, thể thao cho thấy xu hướng đi lên của các thể loại mang tính giải trí. \n",
    "\n",
    "Tuy nhiên đánh giá cho ra kết quả trên chưa đủ khách quan, nguyên nhân bởi điểm đánh giá trên phụ thuộc vào số lần xuất hiện của các thể loại. Ta xét sự tương quan giữa điểm đánh giá trung bình và tần suất của top 10 thể loại có điểm đánh giá cao nhất dựa trên biểu đồ điểm song cột dưới đây."
   ]
  },
  {
   "cell_type": "code",
   "execution_count": 28,
   "metadata": {},
   "outputs": [
    {
     "data": {
      "image/png": "[encoded data removed]",
      "text/plain": [
       "<Figure size 1500x500 with 2 Axes>"
      ]
     },
     "metadata": {},
     "output_type": "display_data"
    }
   ],
   "source": [
    "plotdata = genre_score_table.nlargest(n=10, columns=['avg_score', 'occurences'])\n",
    "\n",
    "fig, ax = plt.subplots(figsize=(15, 5))\n",
    "ax.scatter(plotdata.index, plotdata['avg_score'], color=\"red\", marker='o')\n",
    "ax.set_xlabel(\"Artist\", fontsize = 14)\n",
    "ax.set_ylabel(\"avg_score\", color=\"red\", fontsize=14)\n",
    "\n",
    "ax2=ax.twinx()\n",
    "ax2.scatter(plotdata.index, plotdata['occurences'], color=\"blue\", marker='o')\n",
    "ax2.set_ylabel(\"occurences\", color=\"blue\", fontsize=14)\n",
    "plt.show()"
   ]
  },
  {
   "attachments": {},
   "cell_type": "markdown",
   "metadata": {},
   "source": [
    "Ta có thể thấy, thể loại kịch (drama) có số lần xuất hiện nhiều nhất nhưng lại có điểm số đánh giá trung bình thấp nhất trong top 10, trong khi chênh lệch điểm số đánh giá giữa các thể loại cũng không quá đáng kể (trong khoảng 0 - 1). Chính vì thế, để đánh giá khách quan hơn ta cần xét thêm yếu tố số luần xuất hiện. \n",
    "\n",
    "Ta sẽ tạo ra 1 chỉ số Rating mới để đánh giá.\n",
    "\n",
    "Và để làm điều này, ta cần scale cột số lần xuất hiện về khoảng (1-10) - cũng là khoảng của cột điểm số đánh giá trung bình. Hàm được khởi tạo dưới đây dùng để thực hiện điều đó."
   ]
  },
  {
   "cell_type": "code",
   "execution_count": 29,
   "metadata": {},
   "outputs": [],
   "source": [
    "def MinMaxScaler1_10(s):\n",
    "    return (9*(s - s.min()))/(s.max()-s.min()) + 1"
   ]
  },
  {
   "attachments": {},
   "cell_type": "markdown",
   "metadata": {},
   "source": [
    "rating = sqrt(MinMaxScaler1_10(Số lần xuất hiện) * điểm số đánh giá trung bình)"
   ]
  },
  {
   "cell_type": "code",
   "execution_count": 30,
   "metadata": {},
   "outputs": [
    {
     "data": {
      "text/html": [
       "<div>\n",
       "<style scoped>\n",
       "    .dataframe tbody tr th:only-of-type {\n",
       "        vertical-align: middle;\n",
       "    }\n",
       "\n",
       "    .dataframe tbody tr th {\n",
       "        vertical-align: top;\n",
       "    }\n",
       "\n",
       "    .dataframe thead th {\n",
       "        text-align: right;\n",
       "    }\n",
       "</style>\n",
       "<table border=\"1\" class=\"dataframe\">\n",
       "  <thead>\n",
       "    <tr style=\"text-align: right;\">\n",
       "      <th></th>\n",
       "      <th>avg_score</th>\n",
       "      <th>occurences</th>\n",
       "      <th>rating</th>\n",
       "    </tr>\n",
       "    <tr>\n",
       "      <th>genres</th>\n",
       "      <th></th>\n",
       "      <th></th>\n",
       "      <th></th>\n",
       "    </tr>\n",
       "  </thead>\n",
       "  <tbody>\n",
       "    <tr>\n",
       "      <th>western</th>\n",
       "      <td>6.129154</td>\n",
       "      <td>78</td>\n",
       "      <td>2.475713</td>\n",
       "    </tr>\n",
       "    <tr>\n",
       "      <th>reality</th>\n",
       "      <td>6.792954</td>\n",
       "      <td>237</td>\n",
       "      <td>2.997956</td>\n",
       "    </tr>\n",
       "    <tr>\n",
       "      <th>war</th>\n",
       "      <td>6.880714</td>\n",
       "      <td>243</td>\n",
       "      <td>3.031130</td>\n",
       "    </tr>\n",
       "    <tr>\n",
       "      <th>sport</th>\n",
       "      <td>6.751903</td>\n",
       "      <td>279</td>\n",
       "      <td>3.083777</td>\n",
       "    </tr>\n",
       "    <tr>\n",
       "      <th>music</th>\n",
       "      <td>6.781014</td>\n",
       "      <td>357</td>\n",
       "      <td>3.259674</td>\n",
       "    </tr>\n",
       "    <tr>\n",
       "      <th>history</th>\n",
       "      <td>6.988001</td>\n",
       "      <td>467</td>\n",
       "      <td>3.537205</td>\n",
       "    </tr>\n",
       "    <tr>\n",
       "      <th>horror</th>\n",
       "      <td>5.555409</td>\n",
       "      <td>890</td>\n",
       "      <td>3.836929</td>\n",
       "    </tr>\n",
       "    <tr>\n",
       "      <th>european</th>\n",
       "      <td>6.417286</td>\n",
       "      <td>742</td>\n",
       "      <td>3.882790</td>\n",
       "    </tr>\n",
       "    <tr>\n",
       "      <th>animation</th>\n",
       "      <td>6.882373</td>\n",
       "      <td>757</td>\n",
       "      <td>4.047031</td>\n",
       "    </tr>\n",
       "    <tr>\n",
       "      <th>family</th>\n",
       "      <td>6.512234</td>\n",
       "      <td>851</td>\n",
       "      <td>4.091643</td>\n",
       "    </tr>\n",
       "    <tr>\n",
       "      <th>scifi</th>\n",
       "      <td>6.432426</td>\n",
       "      <td>917</td>\n",
       "      <td>4.171219</td>\n",
       "    </tr>\n",
       "    <tr>\n",
       "      <th>fantasy</th>\n",
       "      <td>6.616109</td>\n",
       "      <td>901</td>\n",
       "      <td>4.204854</td>\n",
       "    </tr>\n",
       "    <tr>\n",
       "      <th>crime</th>\n",
       "      <td>6.543977</td>\n",
       "      <td>1405</td>\n",
       "      <td>4.918344</td>\n",
       "    </tr>\n",
       "    <tr>\n",
       "      <th>romance</th>\n",
       "      <td>6.346638</td>\n",
       "      <td>1469</td>\n",
       "      <td>4.928086</td>\n",
       "    </tr>\n",
       "    <tr>\n",
       "      <th>documentation</th>\n",
       "      <td>6.936242</td>\n",
       "      <td>1326</td>\n",
       "      <td>4.952438</td>\n",
       "    </tr>\n",
       "    <tr>\n",
       "      <th>action</th>\n",
       "      <td>6.332825</td>\n",
       "      <td>1741</td>\n",
       "      <td>5.266256</td>\n",
       "    </tr>\n",
       "    <tr>\n",
       "      <th>thriller</th>\n",
       "      <td>6.108896</td>\n",
       "      <td>2183</td>\n",
       "      <td>5.677996</td>\n",
       "    </tr>\n",
       "    <tr>\n",
       "      <th>comedy</th>\n",
       "      <td>6.308370</td>\n",
       "      <td>3184</td>\n",
       "      <td>6.791478</td>\n",
       "    </tr>\n",
       "    <tr>\n",
       "      <th>drama</th>\n",
       "      <td>6.514867</td>\n",
       "      <td>4507</td>\n",
       "      <td>8.071473</td>\n",
       "    </tr>\n",
       "  </tbody>\n",
       "</table>\n",
       "</div>"
      ],
      "text/plain": [
       "               avg_score  occurences    rating\n",
       "genres                                        \n",
       "western         6.129154          78  2.475713\n",
       "reality         6.792954         237  2.997956\n",
       "war             6.880714         243  3.031130\n",
       "sport           6.751903         279  3.083777\n",
       "music           6.781014         357  3.259674\n",
       "history         6.988001         467  3.537205\n",
       "horror          5.555409         890  3.836929\n",
       "european        6.417286         742  3.882790\n",
       "animation       6.882373         757  4.047031\n",
       "family          6.512234         851  4.091643\n",
       "scifi           6.432426         917  4.171219\n",
       "fantasy         6.616109         901  4.204854\n",
       "crime           6.543977        1405  4.918344\n",
       "romance         6.346638        1469  4.928086\n",
       "documentation   6.936242        1326  4.952438\n",
       "action          6.332825        1741  5.266256\n",
       "thriller        6.108896        2183  5.677996\n",
       "comedy          6.308370        3184  6.791478\n",
       "drama           6.514867        4507  8.071473"
      ]
     },
     "execution_count": 30,
     "metadata": {},
     "output_type": "execute_result"
    }
   ],
   "source": [
    "genre_score_table['rating'] = np.sqrt(MinMaxScaler1_10(genre_score_table['occurences']) * genre_score_table['avg_score'])\n",
    "genre_score_table.sort_values(by='rating')"
   ]
  },
  {
   "attachments": {},
   "cell_type": "markdown",
   "metadata": {},
   "source": [
    "Biểu đồ dưới đây minh hoạ rõ hơn về kết quả"
   ]
  },
  {
   "cell_type": "code",
   "execution_count": 31,
   "metadata": {},
   "outputs": [
    {
     "data": {
      "text/plain": [
       "<AxesSubplot:ylabel='genres'>"
      ]
     },
     "execution_count": 31,
     "metadata": {},
     "output_type": "execute_result"
    },
    {
     "data": {
      "image/png": "[encoded data removed]",
      "text/plain": [
       "<Figure size 2000x700 with 1 Axes>"
      ]
     },
     "metadata": {},
     "output_type": "display_data"
    }
   ],
   "source": [
    "genre_score_table['rating'].sort_values().plot.barh(figsize=(20, 7))"
   ]
  },
  {
   "attachments": {},
   "cell_type": "markdown",
   "metadata": {},
   "source": [
    "Kết quả thu được từ tiêu chí đánh giá mới cho thấy thể loại kịch (drama) mới là thể loại phim được đánh giá cao nhất với số điểm đánh giá trung bình khá cao và số lần xuất hiện vượt trội. Ngoài ra, thể loại hài (comedy), và các thể loại như giật gân (thriller) và hành động (action) cũng là các thể loại được đánh giá cao xếp hạng ngay sau thể loại kịch.\n",
    "\n",
    "Kết nối với kết quả thu được ở tiêu chí đánh giá điểm trung bình trước đó, thì thể loại phim tài liệu (documentation), tội phạm (crime) và hư cấu (fantasy) cũng nằm trong top 10 thể loại được đánh giá cao nhất. Tuy nhiên, thể loại history ở tiêu chí đánh giá mới không còn là thể loại được đánh giá cao nhất với số lần xuất hiện khá thấp của mình.\n",
    "\n",
    "Với việc đánh giá các thể loại dựa trên 2 tiêu chí đã đưa ra, ta có thể biết được đâu là những thể loại hay ho có giá trị tham khảo, đề cử cho khán giả và phục vụ cho mục đích đánh giá xa hơn."
   ]
  }
 ],
 "metadata": {
  "kernelspec": {
   "display_name": "min_ds-env",
   "language": "python",
   "name": "python3"
  },
  "language_info": {
   "codemirror_mode": {
    "name": "ipython",
    "version": 3
   },
   "file_extension": ".py",
   "mimetype": "text/x-python",
   "name": "python",
   "nbconvert_exporter": "python",
   "pygments_lexer": "ipython3",
   "version": "3.10.6"
  },
  "orig_nbformat": 4,
  "vscode": {
   "interpreter": {
    "hash": "3b298dc8b5ec9755d3b5e5b4831b9bf767d0a22ad509bcbd5b6f1f1a5498747c"
   }
  }
 },
 "nbformat": 4,
 "nbformat_minor": 2
}
