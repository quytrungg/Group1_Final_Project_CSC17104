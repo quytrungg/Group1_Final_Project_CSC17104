{
 "cells": [
  {
   "attachments": {},
   "cell_type": "markdown",
   "metadata": {},
   "source": [
    "# Phase 2: Data Explorations\n",
    "\n",
    "- How many rows and how many columns?\n",
    "- What is the meaning of each row?\n",
    "- Are there duplicated rows?\n",
    "- What is the meaning of each column?\n",
    "- What is the current data type of each column? Are there columns having\n",
    "inappropriate data types?\n",
    "- With each numerical column, how are values distributed?\n",
    "    - What is the percentage ofmissing values?\n",
    "    - Min? max? Are they abnormal?\n",
    "- With each categorical column, how are values distributed?\n",
    "    - What is the percentage of missing values?\n",
    "    - How many different values? Show a few Are they abnormal?"
   ]
  },
  {
   "cell_type": "code",
   "execution_count": 1,
   "metadata": {},
   "outputs": [],
   "source": [
    "import pandas as pd\n",
    "import numpy as np\n",
    "import matplotlib.pyplot as plt\n",
    "from ipynb.fs.full.netflix_credits_data import credit_raw_data"
   ]
  },
  {
   "cell_type": "code",
   "execution_count": null,
   "metadata": {},
   "outputs": [],
   "source": []
  }
 ],
 "metadata": {
  "kernelspec": {
   "display_name": "Python 3.10.6 64-bit ('3.10.6')",
   "language": "python",
   "name": "python3"
  },
  "language_info": {
   "codemirror_mode": {
    "name": "ipython",
    "version": 3
   },
   "file_extension": ".py",
   "mimetype": "text/x-python",
   "name": "python",
   "nbconvert_exporter": "python",
   "pygments_lexer": "ipython3",
   "version": "3.10.6"
  },
  "orig_nbformat": 4,
  "vscode": {
   "interpreter": {
    "hash": "89e8354a88354ecf7ffb299b56239fb0ecc48c48d372ba43f5b93cc4e944f72d"
   }
  }
 },
 "nbformat": 4,
 "nbformat_minor": 2
}
