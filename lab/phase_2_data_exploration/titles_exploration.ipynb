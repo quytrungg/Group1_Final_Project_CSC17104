{
 "cells": [
  {
   "attachments": {},
   "cell_type": "markdown",
   "metadata": {},
   "source": [
    "# Phase 2: Data Explorations\n",
    "\n",
    "- How many rows and how many columns?\n",
    "- What is the meaning of each row?\n",
    "- Are there duplicated rows?\n",
    "- What is the meaning of each column?\n",
    "- What is the current data type of each column? Are there columns having\n",
    "inappropriate data types?\n",
    "- With each numerical column, how are values distributed?\n",
    "    - What is the percentage ofmissing values?\n",
    "    - Min? max? Are they abnormal?\n",
    "- With each categorical column, how are values distributed?\n",
    "    - What is the percentage of missing values?\n",
    "    - How many different values? Show a few Are they abnormal?"
   ]
  },
  {
   "attachments": {},
   "cell_type": "markdown",
   "metadata": {},
   "source": [
    "### 1. Tiền xử lý"
   ]
  },
  {
   "attachments": {},
   "cell_type": "markdown",
   "metadata": {},
   "source": [
    "Bước 1"
   ]
  },
  {
   "cell_type": "code",
   "execution_count": 1,
   "metadata": {},
   "outputs": [],
   "source": [
    "import sys  \n",
    "sys.path.insert(0, '../phase_1_data_collection')"
   ]
  },
  {
   "cell_type": "code",
   "execution_count": 2,
   "metadata": {},
   "outputs": [],
   "source": [
    "import pandas as pd\n",
    "import numpy as np\n",
    "import matplotlib.pyplot as plt\n",
    "import seaborn as sns\n",
    "from ipynb.fs.full.data_collection import df_titles_raw"
   ]
  },
  {
   "attachments": {},
   "cell_type": "markdown",
   "metadata": {},
   "source": [
    "Bước 2"
   ]
  },
  {
   "cell_type": "code",
   "execution_count": 3,
   "metadata": {},
   "outputs": [
    {
     "data": {
      "text/html": [
       "<div>\n",
       "<style scoped>\n",
       "    .dataframe tbody tr th:only-of-type {\n",
       "        vertical-align: middle;\n",
       "    }\n",
       "\n",
       "    .dataframe tbody tr th {\n",
       "        vertical-align: top;\n",
       "    }\n",
       "\n",
       "    .dataframe thead th {\n",
       "        text-align: right;\n",
       "    }\n",
       "</style>\n",
       "<table border=\"1\" class=\"dataframe\">\n",
       "  <thead>\n",
       "    <tr style=\"text-align: right;\">\n",
       "      <th></th>\n",
       "      <th>id</th>\n",
       "      <th>title</th>\n",
       "      <th>type</th>\n",
       "      <th>description</th>\n",
       "      <th>release_year</th>\n",
       "      <th>age_certification</th>\n",
       "      <th>runtime</th>\n",
       "      <th>genres</th>\n",
       "      <th>production_countries</th>\n",
       "      <th>seasons</th>\n",
       "      <th>imdb_id</th>\n",
       "      <th>imdb_score</th>\n",
       "      <th>imdb_votes</th>\n",
       "      <th>tmdb_popularity</th>\n",
       "      <th>tmdb_score</th>\n",
       "    </tr>\n",
       "  </thead>\n",
       "  <tbody>\n",
       "    <tr>\n",
       "      <th>0</th>\n",
       "      <td>ts20945</td>\n",
       "      <td>The Three Stooges</td>\n",
       "      <td>SHOW</td>\n",
       "      <td>The Three Stooges were an American vaudeville ...</td>\n",
       "      <td>1934</td>\n",
       "      <td>TV-PG</td>\n",
       "      <td>19</td>\n",
       "      <td>['comedy', 'family', 'animation', 'action', 'f...</td>\n",
       "      <td>['US']</td>\n",
       "      <td>26.0</td>\n",
       "      <td>tt0850645</td>\n",
       "      <td>8.6</td>\n",
       "      <td>1092.0</td>\n",
       "      <td>15.424</td>\n",
       "      <td>7.6</td>\n",
       "    </tr>\n",
       "    <tr>\n",
       "      <th>1</th>\n",
       "      <td>tm19248</td>\n",
       "      <td>The General</td>\n",
       "      <td>MOVIE</td>\n",
       "      <td>During America’s Civil War, Union spies steal ...</td>\n",
       "      <td>1926</td>\n",
       "      <td>NaN</td>\n",
       "      <td>78</td>\n",
       "      <td>['action', 'drama', 'war', 'western', 'comedy'...</td>\n",
       "      <td>['US']</td>\n",
       "      <td>NaN</td>\n",
       "      <td>tt0017925</td>\n",
       "      <td>8.2</td>\n",
       "      <td>89766.0</td>\n",
       "      <td>8.647</td>\n",
       "      <td>8.0</td>\n",
       "    </tr>\n",
       "    <tr>\n",
       "      <th>2</th>\n",
       "      <td>tm82253</td>\n",
       "      <td>The Best Years of Our Lives</td>\n",
       "      <td>MOVIE</td>\n",
       "      <td>It's the hope that sustains the spirit of ever...</td>\n",
       "      <td>1946</td>\n",
       "      <td>NaN</td>\n",
       "      <td>171</td>\n",
       "      <td>['romance', 'war', 'drama']</td>\n",
       "      <td>['US']</td>\n",
       "      <td>NaN</td>\n",
       "      <td>tt0036868</td>\n",
       "      <td>8.1</td>\n",
       "      <td>63026.0</td>\n",
       "      <td>8.435</td>\n",
       "      <td>7.8</td>\n",
       "    </tr>\n",
       "    <tr>\n",
       "      <th>3</th>\n",
       "      <td>tm83884</td>\n",
       "      <td>His Girl Friday</td>\n",
       "      <td>MOVIE</td>\n",
       "      <td>Hildy, the journalist former wife of newspaper...</td>\n",
       "      <td>1940</td>\n",
       "      <td>NaN</td>\n",
       "      <td>92</td>\n",
       "      <td>['comedy', 'drama', 'romance']</td>\n",
       "      <td>['US']</td>\n",
       "      <td>NaN</td>\n",
       "      <td>tt0032599</td>\n",
       "      <td>7.8</td>\n",
       "      <td>57835.0</td>\n",
       "      <td>11.270</td>\n",
       "      <td>7.4</td>\n",
       "    </tr>\n",
       "    <tr>\n",
       "      <th>4</th>\n",
       "      <td>tm56584</td>\n",
       "      <td>In a Lonely Place</td>\n",
       "      <td>MOVIE</td>\n",
       "      <td>An aspiring actress begins to suspect that her...</td>\n",
       "      <td>1950</td>\n",
       "      <td>NaN</td>\n",
       "      <td>94</td>\n",
       "      <td>['thriller', 'drama', 'romance']</td>\n",
       "      <td>['US']</td>\n",
       "      <td>NaN</td>\n",
       "      <td>tt0042593</td>\n",
       "      <td>7.9</td>\n",
       "      <td>30924.0</td>\n",
       "      <td>8.273</td>\n",
       "      <td>7.6</td>\n",
       "    </tr>\n",
       "  </tbody>\n",
       "</table>\n",
       "</div>"
      ],
      "text/plain": [
       "        id                        title   type  \\\n",
       "0  ts20945            The Three Stooges   SHOW   \n",
       "1  tm19248                  The General  MOVIE   \n",
       "2  tm82253  The Best Years of Our Lives  MOVIE   \n",
       "3  tm83884              His Girl Friday  MOVIE   \n",
       "4  tm56584            In a Lonely Place  MOVIE   \n",
       "\n",
       "                                         description  release_year  \\\n",
       "0  The Three Stooges were an American vaudeville ...          1934   \n",
       "1  During America’s Civil War, Union spies steal ...          1926   \n",
       "2  It's the hope that sustains the spirit of ever...          1946   \n",
       "3  Hildy, the journalist former wife of newspaper...          1940   \n",
       "4  An aspiring actress begins to suspect that her...          1950   \n",
       "\n",
       "  age_certification  runtime  \\\n",
       "0             TV-PG       19   \n",
       "1               NaN       78   \n",
       "2               NaN      171   \n",
       "3               NaN       92   \n",
       "4               NaN       94   \n",
       "\n",
       "                                              genres production_countries  \\\n",
       "0  ['comedy', 'family', 'animation', 'action', 'f...               ['US']   \n",
       "1  ['action', 'drama', 'war', 'western', 'comedy'...               ['US']   \n",
       "2                        ['romance', 'war', 'drama']               ['US']   \n",
       "3                     ['comedy', 'drama', 'romance']               ['US']   \n",
       "4                   ['thriller', 'drama', 'romance']               ['US']   \n",
       "\n",
       "   seasons    imdb_id  imdb_score  imdb_votes  tmdb_popularity  tmdb_score  \n",
       "0     26.0  tt0850645         8.6      1092.0           15.424         7.6  \n",
       "1      NaN  tt0017925         8.2     89766.0            8.647         8.0  \n",
       "2      NaN  tt0036868         8.1     63026.0            8.435         7.8  \n",
       "3      NaN  tt0032599         7.8     57835.0           11.270         7.4  \n",
       "4      NaN  tt0042593         7.9     30924.0            8.273         7.6  "
      ]
     },
     "execution_count": 3,
     "metadata": {},
     "output_type": "execute_result"
    }
   ],
   "source": [
    "df_titles_raw.head()"
   ]
  },
  {
   "attachments": {},
   "cell_type": "markdown",
   "metadata": {},
   "source": [
    "day la markdown"
   ]
  },
  {
   "cell_type": "code",
   "execution_count": 4,
   "metadata": {},
   "outputs": [
    {
     "data": {
      "text/plain": [
       "35"
      ]
     },
     "execution_count": 4,
     "metadata": {},
     "output_type": "execute_result"
    }
   ],
   "source": [
    "num_duplicate_data = df_titles_raw.duplicated().sum()\n",
    "num_duplicate_data"
   ]
  },
  {
   "attachments": {},
   "cell_type": "markdown",
   "metadata": {},
   "source": [
    "day la markdown"
   ]
  },
  {
   "cell_type": "code",
   "execution_count": 6,
   "metadata": {},
   "outputs": [],
   "source": [
    "df_titles = df_titles_raw.drop_duplicates()"
   ]
  },
  {
   "attachments": {},
   "cell_type": "markdown",
   "metadata": {},
   "source": [
    "day la markdown"
   ]
  },
  {
   "cell_type": "code",
   "execution_count": 7,
   "metadata": {},
   "outputs": [
    {
     "data": {
      "text/plain": [
       "(18980, 15)"
      ]
     },
     "execution_count": 7,
     "metadata": {},
     "output_type": "execute_result"
    }
   ],
   "source": [
    "num_rows, num_cols = df_titles.shape\n",
    "num_rows, num_cols"
   ]
  },
  {
   "attachments": {},
   "cell_type": "markdown",
   "metadata": {},
   "source": [
    "day la markdown"
   ]
  },
  {
   "cell_type": "code",
   "execution_count": 8,
   "metadata": {},
   "outputs": [
    {
     "data": {
      "text/plain": [
       "Index(['id', 'title', 'type', 'description', 'release_year',\n",
       "       'age_certification', 'runtime', 'genres', 'production_countries',\n",
       "       'seasons', 'imdb_id', 'imdb_score', 'imdb_votes', 'tmdb_popularity',\n",
       "       'tmdb_score'],\n",
       "      dtype='object')"
      ]
     },
     "execution_count": 8,
     "metadata": {},
     "output_type": "execute_result"
    }
   ],
   "source": [
    "df_titles.columns"
   ]
  },
  {
   "attachments": {},
   "cell_type": "markdown",
   "metadata": {},
   "source": [
    "day la markdown"
   ]
  },
  {
   "cell_type": "code",
   "execution_count": 9,
   "metadata": {},
   "outputs": [
    {
     "name": "stdout",
     "output_type": "stream",
     "text": [
      "<class 'pandas.core.frame.DataFrame'>\n",
      "Int64Index: 18980 entries, 0 to 5849\n",
      "Data columns (total 15 columns):\n",
      " #   Column                Non-Null Count  Dtype  \n",
      "---  ------                --------------  -----  \n",
      " 0   id                    18980 non-null  object \n",
      " 1   title                 18979 non-null  object \n",
      " 2   type                  18980 non-null  object \n",
      " 3   description           18831 non-null  object \n",
      " 4   release_year          18980 non-null  int64  \n",
      " 5   age_certification     8684 non-null   object \n",
      " 6   runtime               18980 non-null  int64  \n",
      " 7   genres                18980 non-null  object \n",
      " 8   production_countries  18980 non-null  object \n",
      " 9   seasons               4208 non-null   float64\n",
      " 10  imdb_id               17586 non-null  object \n",
      " 11  imdb_score            17107 non-null  float64\n",
      " 12  imdb_votes            17070 non-null  float64\n",
      " 13  tmdb_popularity       18310 non-null  float64\n",
      " 14  tmdb_score            16324 non-null  float64\n",
      "dtypes: float64(5), int64(2), object(8)\n",
      "memory usage: 2.3+ MB\n"
     ]
    }
   ],
   "source": [
    "df_titles.info()"
   ]
  },
  {
   "attachments": {},
   "cell_type": "markdown",
   "metadata": {},
   "source": [
    "day la markdown"
   ]
  },
  {
   "cell_type": "code",
   "execution_count": 10,
   "metadata": {},
   "outputs": [
    {
     "data": {
      "text/plain": [
       "id                          0\n",
       "title                       1\n",
       "type                        0\n",
       "description               149\n",
       "release_year                0\n",
       "age_certification       10296\n",
       "runtime                     0\n",
       "genres                      0\n",
       "production_countries        0\n",
       "seasons                 14772\n",
       "imdb_id                  1394\n",
       "imdb_score               1873\n",
       "imdb_votes               1910\n",
       "tmdb_popularity           670\n",
       "tmdb_score               2656\n",
       "dtype: int64"
      ]
     },
     "execution_count": 10,
     "metadata": {},
     "output_type": "execute_result"
    }
   ],
   "source": [
    "df_titles.isnull().sum()"
   ]
  },
  {
   "cell_type": "code",
   "execution_count": 11,
   "metadata": {},
   "outputs": [
    {
     "data": {
      "image/png": "[encoded data removed]",
      "text/plain": [
       "<Figure size 640x480 with 1 Axes>"
      ]
     },
     "metadata": {},
     "output_type": "display_data"
    }
   ],
   "source": [
    "sns.heatmap(df_titles.isnull(), cmap='gray', cbar=False);"
   ]
  },
  {
   "attachments": {},
   "cell_type": "markdown",
   "metadata": {},
   "source": [
    "1. title"
   ]
  },
  {
   "cell_type": "code",
   "execution_count": 12,
   "metadata": {},
   "outputs": [
    {
     "data": {
      "text/plain": [
       "A Nightmare on Elm Street             4\n",
       "The Gift                              4\n",
       "The Outsider                          4\n",
       "Shadows                               4\n",
       "Dostana                               4\n",
       "                                     ..\n",
       "Dismissed                             1\n",
       "Human Flow                            1\n",
       "Warriors of Liberty City              1\n",
       "Scales: Mermaids Are Real             1\n",
       "Mighty Little Bheem: Kite Festival    1\n",
       "Name: title, Length: 18357, dtype: int64"
      ]
     },
     "execution_count": 12,
     "metadata": {},
     "output_type": "execute_result"
    }
   ],
   "source": [
    "df_titles['title'].value_counts()"
   ]
  },
  {
   "attachments": {},
   "cell_type": "markdown",
   "metadata": {},
   "source": [
    "2. type"
   ]
  },
  {
   "cell_type": "code",
   "execution_count": 13,
   "metadata": {},
   "outputs": [
    {
     "data": {
      "text/plain": [
       "MOVIE    14772\n",
       "SHOW      4208\n",
       "Name: type, dtype: int64"
      ]
     },
     "execution_count": 13,
     "metadata": {},
     "output_type": "execute_result"
    }
   ],
   "source": [
    "df_titles['type'].value_counts()"
   ]
  },
  {
   "attachments": {},
   "cell_type": "markdown",
   "metadata": {},
   "source": [
    "3. release_year"
   ]
  },
  {
   "cell_type": "code",
   "execution_count": 14,
   "metadata": {},
   "outputs": [
    {
     "data": {
      "text/plain": [
       "2021    1901\n",
       "2019    1837\n",
       "2020    1767\n",
       "2018    1597\n",
       "2017    1250\n",
       "        ... \n",
       "1912       1\n",
       "1904       1\n",
       "1909       1\n",
       "1903       1\n",
       "1901       1\n",
       "Name: release_year, Length: 116, dtype: int64"
      ]
     },
     "execution_count": 14,
     "metadata": {},
     "output_type": "execute_result"
    }
   ],
   "source": [
    "df_titles['release_year'].value_counts()"
   ]
  },
  {
   "cell_type": "code",
   "execution_count": null,
   "metadata": {},
   "outputs": [],
   "source": []
  }
 ],
 "metadata": {
  "kernelspec": {
   "display_name": "Python 3.10.6 64-bit ('3.10.6')",
   "language": "python",
   "name": "python3"
  },
  "language_info": {
   "codemirror_mode": {
    "name": "ipython",
    "version": 3
   },
   "file_extension": ".py",
   "mimetype": "text/x-python",
   "name": "python",
   "nbconvert_exporter": "python",
   "pygments_lexer": "ipython3",
   "version": "3.10.6"
  },
  "orig_nbformat": 4,
  "vscode": {
   "interpreter": {
    "hash": "89e8354a88354ecf7ffb299b56239fb0ecc48c48d372ba43f5b93cc4e944f72d"
   }
  }
 },
 "nbformat": 4,
 "nbformat_minor": 2
}
